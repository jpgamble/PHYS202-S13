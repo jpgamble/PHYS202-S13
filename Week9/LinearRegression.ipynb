{
 "metadata": {
  "name": "LinearRegression"
 },
 "nbformat": 3,
 "nbformat_minor": 0,
 "worksheets": [
  {
   "cells": [
    {
     "cell_type": "code",
     "collapsed": false,
     "input": [
      "DataIn = loadtxt('input.dat.txt')\n",
      "print DataIn.shape\n",
      "print DataIn"
     ],
     "language": "python",
     "metadata": {},
     "outputs": [
      {
       "output_type": "stream",
       "stream": "stdout",
       "text": [
        "(5L, 3L)\n",
        "[[ 0.   1.1  0.1]\n",
        " [ 2.   1.9  0.2]\n",
        " [ 4.   3.2  0.1]\n",
        " [ 6.   4.   0.3]\n",
        " [ 8.   5.9  0.3]]"
       ]
      },
      {
       "output_type": "stream",
       "stream": "stdout",
       "text": [
        "\n"
       ]
      }
     ],
     "prompt_number": 3
    },
    {
     "cell_type": "code",
     "collapsed": false,
     "input": [
      "print DataIn[:,2]"
     ],
     "language": "python",
     "metadata": {},
     "outputs": [
      {
       "output_type": "stream",
       "stream": "stdout",
       "text": [
        "[ 0.1  0.2  0.1  0.3  0.3]\n"
       ]
      }
     ],
     "prompt_number": 4
    },
    {
     "cell_type": "code",
     "collapsed": false,
     "input": [
      "x, y, yerr = loadtxt('input.dat.txt', unpack = True)\n",
      "print x\n",
      "print y\n",
      "print yerr"
     ],
     "language": "python",
     "metadata": {},
     "outputs": [
      {
       "output_type": "stream",
       "stream": "stdout",
       "text": [
        "[ 0.  2.  4.  6.  8.]\n",
        "[ 1.1  1.9  3.2  4.   5.9]\n",
        "[ 0.1  0.2  0.1  0.3  0.3]\n"
       ]
      }
     ],
     "prompt_number": 5
    },
    {
     "cell_type": "code",
     "collapsed": false,
     "input": [
      "x, y = loadtxt('input.dat.txt', unpack = True, usecols = [0, 1])\n",
      "print x\n",
      "print y"
     ],
     "language": "python",
     "metadata": {},
     "outputs": [
      {
       "output_type": "stream",
       "stream": "stdout",
       "text": [
        "[ 0.  2.  4.  6.  8.]\n",
        "[ 1.1  1.9  3.2  4.   5.9]\n"
       ]
      }
     ],
     "prompt_number": 7
    },
    {
     "cell_type": "code",
     "collapsed": false,
     "input": [
      "x, y = loadtxt('input.csv', unpack = True, delimiter = ',', usecols = [0, 1])\n",
      "print x, y"
     ],
     "language": "python",
     "metadata": {},
     "outputs": [
      {
       "output_type": "stream",
       "stream": "stdout",
       "text": [
        "[ 0.  2.  4.  6.  8.] [ 1.1  1.9  3.2  4.   5.9]\n"
       ]
      }
     ],
     "prompt_number": 15
    },
    {
     "cell_type": "code",
     "collapsed": false,
     "input": [
      "x, y = loadtxt('input.csv', unpack = True, usecols = [0, 1])\n",
      "print x, y"
     ],
     "language": "python",
     "metadata": {},
     "outputs": [
      {
       "ename": "ValueError",
       "evalue": "invalid literal for float(): 0.0,",
       "output_type": "pyerr",
       "traceback": [
        "\u001b[1;31m---------------------------------------------------------------------------\u001b[0m\n\u001b[1;31mValueError\u001b[0m                                Traceback (most recent call last)",
        "\u001b[1;32m<ipython-input-16-2b7a2d0d3951>\u001b[0m in \u001b[0;36m<module>\u001b[1;34m()\u001b[0m\n\u001b[1;32m----> 1\u001b[1;33m \u001b[0mx\u001b[0m\u001b[1;33m,\u001b[0m \u001b[0my\u001b[0m \u001b[1;33m=\u001b[0m \u001b[0mloadtxt\u001b[0m\u001b[1;33m(\u001b[0m\u001b[1;34m'input.csv'\u001b[0m\u001b[1;33m,\u001b[0m \u001b[0munpack\u001b[0m \u001b[1;33m=\u001b[0m \u001b[0mTrue\u001b[0m\u001b[1;33m,\u001b[0m \u001b[0musecols\u001b[0m \u001b[1;33m=\u001b[0m \u001b[1;33m[\u001b[0m\u001b[1;36m0\u001b[0m\u001b[1;33m,\u001b[0m \u001b[1;36m1\u001b[0m\u001b[1;33m]\u001b[0m\u001b[1;33m)\u001b[0m\u001b[1;33m\u001b[0m\u001b[0m\n\u001b[0m\u001b[0;32m      2\u001b[0m \u001b[1;32mprint\u001b[0m \u001b[0mx\u001b[0m\u001b[1;33m,\u001b[0m \u001b[0my\u001b[0m\u001b[1;33m\u001b[0m\u001b[0m\n",
        "\u001b[1;32mC:\\Users\\Jacob\\AppData\\Local\\Enthought\\Canopy\\App\\appdata\\canopy-1.0.0.1160.win-x86_64\\lib\\site-packages\\numpy\\lib\\npyio.pyc\u001b[0m in \u001b[0;36mloadtxt\u001b[1;34m(fname, dtype, comments, delimiter, converters, skiprows, usecols, unpack, ndmin)\u001b[0m\n\u001b[0;32m    794\u001b[0m                 \u001b[0mvals\u001b[0m \u001b[1;33m=\u001b[0m \u001b[1;33m[\u001b[0m\u001b[0mvals\u001b[0m\u001b[1;33m[\u001b[0m\u001b[0mi\u001b[0m\u001b[1;33m]\u001b[0m \u001b[1;32mfor\u001b[0m \u001b[0mi\u001b[0m \u001b[1;32min\u001b[0m \u001b[0musecols\u001b[0m\u001b[1;33m]\u001b[0m\u001b[1;33m\u001b[0m\u001b[0m\n\u001b[0;32m    795\u001b[0m             \u001b[1;31m# Convert each value according to its column and store\u001b[0m\u001b[1;33m\u001b[0m\u001b[1;33m\u001b[0m\u001b[0m\n\u001b[1;32m--> 796\u001b[1;33m             \u001b[0mitems\u001b[0m \u001b[1;33m=\u001b[0m \u001b[1;33m[\u001b[0m\u001b[0mconv\u001b[0m\u001b[1;33m(\u001b[0m\u001b[0mval\u001b[0m\u001b[1;33m)\u001b[0m \u001b[1;32mfor\u001b[0m \u001b[1;33m(\u001b[0m\u001b[0mconv\u001b[0m\u001b[1;33m,\u001b[0m \u001b[0mval\u001b[0m\u001b[1;33m)\u001b[0m \u001b[1;32min\u001b[0m \u001b[0mzip\u001b[0m\u001b[1;33m(\u001b[0m\u001b[0mconverters\u001b[0m\u001b[1;33m,\u001b[0m \u001b[0mvals\u001b[0m\u001b[1;33m)\u001b[0m\u001b[1;33m]\u001b[0m\u001b[1;33m\u001b[0m\u001b[0m\n\u001b[0m\u001b[0;32m    797\u001b[0m             \u001b[1;31m# Then pack it according to the dtype's nesting\u001b[0m\u001b[1;33m\u001b[0m\u001b[1;33m\u001b[0m\u001b[0m\n\u001b[0;32m    798\u001b[0m             \u001b[0mitems\u001b[0m \u001b[1;33m=\u001b[0m \u001b[0mpack_items\u001b[0m\u001b[1;33m(\u001b[0m\u001b[0mitems\u001b[0m\u001b[1;33m,\u001b[0m \u001b[0mpacking\u001b[0m\u001b[1;33m)\u001b[0m\u001b[1;33m\u001b[0m\u001b[0m\n",
        "\u001b[1;31mValueError\u001b[0m: invalid literal for float(): 0.0,"
       ]
      }
     ],
     "prompt_number": 16
    },
    {
     "cell_type": "code",
     "collapsed": false,
     "input": [
      "p = 0.15 + v/10"
     ],
     "language": "python",
     "metadata": {},
     "outputs": [],
     "prompt_number": 20
    },
    {
     "cell_type": "code",
     "collapsed": false,
     "input": [
      "t = array([0, 1, 2, 3, 4, 5, 6, 7, 8, 9])\n",
      "v = array([0.137, 0.456, .591, 0.713, .859, .926, 1.139, 1.327, 1.512, 1.875])"
     ],
     "language": "python",
     "metadata": {},
     "outputs": [],
     "prompt_number": 21
    },
    {
     "cell_type": "code",
     "collapsed": false,
     "input": [
      "print p"
     ],
     "language": "python",
     "metadata": {},
     "outputs": [
      {
       "output_type": "stream",
       "stream": "stdout",
       "text": [
        "[ 0.1637  0.1956  0.2091  0.2213  0.2359  0.2426  0.2639  0.2827  0.3012\n",
        "  0.3375]\n"
       ]
      }
     ],
     "prompt_number": 22
    },
    {
     "cell_type": "code",
     "collapsed": false,
     "input": [
      "savetxt('output.dat', (t, p))"
     ],
     "language": "python",
     "metadata": {},
     "outputs": [],
     "prompt_number": 23
    },
    {
     "cell_type": "code",
     "collapsed": false,
     "input": [
      "DataOut = column_stack((t, p))\n",
      "savetxt('output.dat', DataOut)"
     ],
     "language": "python",
     "metadata": {},
     "outputs": [],
     "prompt_number": 24
    },
    {
     "cell_type": "code",
     "collapsed": false,
     "input": [
      "fmt = '%(width).(precision)(specifier)'"
     ],
     "language": "python",
     "metadata": {},
     "outputs": [],
     "prompt_number": 25
    },
    {
     "cell_type": "code",
     "collapsed": false,
     "input": [
      "savetxt('output.dat', DataOut, fmt = ('%3i', '%4.3f'))"
     ],
     "language": "python",
     "metadata": {},
     "outputs": [],
     "prompt_number": 26
    },
    {
     "cell_type": "code",
     "collapsed": false,
     "input": [
      "f = open('output.dat', \"w\")\n",
      "f.write(\"#My comment line for this file, followed by a clank line, then the data\\n\\n\")\n",
      "savetxt(f, DataOut, fmt = ('3%i', '%4.3f'))\n",
      "f.close()"
     ],
     "language": "python",
     "metadata": {},
     "outputs": [],
     "prompt_number": 27
    },
    {
     "cell_type": "markdown",
     "metadata": {},
     "source": [
      "Exercise 1"
     ]
    },
    {
     "cell_type": "code",
     "collapsed": false,
     "input": [
      "Time = 1, 2, 3, 4, 5, 6, 7, 8, 9, 10\n",
      "Pos = 7.75, 7.33, 6.89, 6.45, 5.96, 5.55, 5.1, 4.49, 3.93, 5.38\n",
      "Uncert = .02, .03,.03, .04, .05, .06, .08, .11, .14, .17"
     ],
     "language": "python",
     "metadata": {},
     "outputs": [],
     "prompt_number": 1
    },
    {
     "cell_type": "code",
     "collapsed": false,
     "input": [
      "savetxt('linearData.dat.txt', (Time, Pos, Uncert))\n",
      "Out = column_stack((Time, Pos, Uncert))\n",
      "savetxt('linearData.dat.txt', Out)\n",
      "g = open('linearData.dat.txt', \"w\")\n",
      "g.write(\"#This file holds the data for Time Pos and Uncertainty\\n\\n\")\n",
      "savetxt(g, Out, fmt = ('%i', '%5.2f', '%5.2f'))\n",
      "g.close()"
     ],
     "language": "python",
     "metadata": {},
     "outputs": [],
     "prompt_number": 2
    },
    {
     "cell_type": "markdown",
     "metadata": {},
     "source": [
      "Exercise 2\n",
      "\n"
     ]
    },
    {
     "cell_type": "code",
     "collapsed": false,
     "input": [
      "def LinearLeastSquaresFit(x,y):\n",
      "    \"\"\"Take arrays x and y for a set of linearly varying data and performs a linear least squares regression. Return the resulting slope and intercept pparamenters of the best fit line with their uncertainties.\"\"\"\n",
      "    slope = ((average(x*y))-(average(x)*average(y)))/(average(x**2) - (average(x)**2))\n",
      "    intercept = (average(x**2)*average(y) - (average(x)*average(x*y)))/(average(x**2)- (average(x)**2)) \n",
      "    delta = y - (slope*x + intercept)\n",
      "    slerr = sqrt((1/(len(x)-2.))*average(delta**2))/(average(x**2) - (average(x)**2))\n",
      "    interr = sqrt((1/(len(x)-2.))*average(delta**2)*average(x**2))/(average(x**2) - (average(x)**2))\n",
      "    return slope, intercept, slerr, interr\n"
     ],
     "language": "python",
     "metadata": {},
     "outputs": [],
     "prompt_number": 3
    },
    {
     "cell_type": "code",
     "collapsed": false,
     "input": [
      "x, y = loadtxt('linearData.dat.txt', unpack = True, usecols = [0, 1])\n",
      "print x, y"
     ],
     "language": "python",
     "metadata": {},
     "outputs": [
      {
       "output_type": "stream",
       "stream": "stdout",
       "text": [
        "[  1.   2.   3.   4.   5.   6.   7.   8.   9.  10.] [ 7.75  7.33  6.89  6.45  5.96  5.55  5.1   4.49  3.93  5.38]\n"
       ]
      }
     ],
     "prompt_number": 27
    },
    {
     "cell_type": "code",
     "collapsed": false,
     "input": [
      "m, b, Sm, Sb = LinearLeastSquaresFit(x,y)\n",
      "print m, b, Sm, Sb"
     ],
     "language": "python",
     "metadata": {},
     "outputs": [
      {
       "output_type": "stream",
       "stream": "stdout",
       "text": [
        "-0.373272727273 7.936 0.0199064679958 0.123516385636\n"
       ]
      }
     ],
     "prompt_number": 28
    },
    {
     "cell_type": "code",
     "collapsed": false,
     "input": [
      "y1 = lambda x : m*x + b\n",
      "yp = lambda x: (m+Sm)*x +(b+Sb)\n",
      "ym =lambda x: (m-Sm)*x +(b-Sb)\n",
      "plot(x, y, 'r.', x, y1(x), 'g-', x, yp(x),'b-', x, ym(x), 'y-')\n",
      "legend(('Y Actual', 'Y Best Fit','Y + Err', 'Y - Err'), shadow=True)\n",
      "xlabel('X')\n",
      "ylabel('Y')\n",
      "linelabel = \"y - %.4f x + %.4f\" % (m,b)\n",
      "show()"
     ],
     "language": "python",
     "metadata": {},
     "outputs": [
      {
       "output_type": "display_data",
       "png": "[encoded data removed]",
       "text": [
        "<matplotlib.figure.Figure at 0x7ddceb8>"
       ]
      }
     ],
     "prompt_number": 29
    },
    {
     "cell_type": "markdown",
     "metadata": {},
     "source": [
      "Exercise 3:"
     ]
    },
    {
     "cell_type": "code",
     "collapsed": false,
     "input": [
      "def WeightedLinearLeastSquaresFit(x,y,w):\n",
      "    \"\"\"Take in arrays representing (x,y) values for a set of linearly varying data and a array of weights w.\n",
      "perform a weighted linear least squares regression. Return the resulting slope and intercept \n",
      "parameteres of the best fit line with their uncertainties. \n",
      "\n",
      "If the weights are all equal to one, the uncertainties on the paramenters are caluclated using the\n",
      "non-weighted least squares equations.\"\"\"\n",
      "    for i in range(len(x)-1):\n",
      "        if w[i] == 1:\n",
      "            slope, intercept, slerr, interr = LinearLeastSquaresFit(x,y)\n",
      "        else:\n",
      "            slerr = ((sum(w)*sum(x*y*w)) - (sum(w*x)*sum(w*y)))/(sum(w)*sum(w*(x**2))-(sum(w*x))**2)\n",
      "            intercept = ((sum(w*(x**2))*sum(w*y))-(sum(w*x)*sum(w*x*y)))/((sum(w)*sum(w*(x**2))-(sum(w*x)**2)))\n",
      "            slope = sqrt((sum(w)/((sum(w)*sum(w*(x**2))) - sum(w*x)**2)))\n",
      "            interr = sqrt((sum(w*(x**2)))/((sum(w)*sum(w*(x**2))) - (sum(w*x))**2))\n",
      "            return slope, intercept, slerr, interr"
     ],
     "language": "python",
     "metadata": {},
     "outputs": [],
     "prompt_number": 93
    },
    {
     "cell_type": "code",
     "collapsed": false,
     "input": [
      "x, y = loadtxt('linearData.dat.txt', unpack = True, usecols = [0, 1])\n",
      "print x, y"
     ],
     "language": "python",
     "metadata": {},
     "outputs": [
      {
       "output_type": "stream",
       "stream": "stdout",
       "text": [
        "[  1.   2.   3.   4.   5.   6.   7.   8.   9.  10.] [ 7.75  7.33  6.89  6.45  5.96  5.55  5.1   4.49  3.93  5.38]\n"
       ]
      }
     ],
     "prompt_number": 94
    },
    {
     "cell_type": "code",
     "collapsed": false,
     "input": [
      "w =loadtxt('linearData.dat.txt', unpack = True, usecols = [2])\n",
      "print w"
     ],
     "language": "python",
     "metadata": {},
     "outputs": [
      {
       "output_type": "stream",
       "stream": "stdout",
       "text": [
        "[ 0.02  0.03  0.03  0.04  0.05  0.06  0.08  0.11  0.14  0.17]\n"
       ]
      }
     ],
     "prompt_number": 95
    },
    {
     "cell_type": "code",
     "collapsed": false,
     "input": [
      "m1, b1, Sm1, Sb1 = WeightedLinearLeastSquaresFit(x,y,w)\n",
      "print m1, Sm1, b1,Sb1"
     ],
     "language": "python",
     "metadata": {},
     "outputs": [
      {
       "output_type": "stream",
       "stream": "stdout",
       "text": [
        "0.461386648159 -0.304460223959 7.48372273417 3.57225332498\n"
       ]
      }
     ],
     "prompt_number": 96
    },
    {
     "cell_type": "code",
     "collapsed": false,
     "input": [
      "y1 = lambda x : m*x + b\n",
      "yp = lambda x: (m+Sm)*x +(b+Sb)\n",
      "ym =lambda x: (m-Sm)*x +(b-Sb)\n",
      "y2 = lambda x : -m1*x + b1\n",
      "yp1 = lambda x: (-m1+Sm1)*x +(b1+Sb1)\n",
      "ym1 =lambda x: (-m1-Sm1)*x +(b1-Sb1)\n",
      "\n",
      "plot(x, y, 'r.', x, y1(x), 'g-', x, yp(x),'b-', x, ym(x), 'y-', x, y2(x), 'b-.', x, yp1(x), 'g-.', x, ym1(x), 'p')\n",
      "legend(('Y Actual', 'Y Best Fit','Y + Err', 'Y - Err', 'Y Weighted Fit', 'Y weighted + Err', 'Y weighted - Err'), shadow=True, loc = 'lower left')\n",
      "xlabel('X')\n",
      "ylabel('Y')\n",
      "linelabel = \"y - %.4f x + %.4f\" % (m,b)\n",
      "show()"
     ],
     "language": "python",
     "metadata": {},
     "outputs": [
      {
       "output_type": "display_data",
       "png": "[encoded data removed]",
       "text": [
        "<matplotlib.figure.Figure at 0x83134e0>"
       ]
      }
     ],
     "prompt_number": 99
    },
    {
     "cell_type": "code",
     "collapsed": false,
     "input": [],
     "language": "python",
     "metadata": {},
     "outputs": []
    }
   ],
   "metadata": {}
  }
 ]
}