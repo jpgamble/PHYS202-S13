{
 "metadata": {
  "name": "ProjectEuler31-Execution"
 },
 "nbformat": 3,
 "nbformat_minor": 0,
 "worksheets": [
  {
   "cells": [
    {
     "cell_type": "markdown",
     "metadata": {},
     "source": [
      "Coin sums\n",
      "=\n",
      "Problem 31\n",
      "-\n",
      "In England the currency is made up of pound, \u00a3, and pence, p, and there are eight coins in general circulation:\n",
      "\n",
      "1p, 2p, 5p, 10p, 20p, 50p, \u00a31 (100p) and \u00a32 (200p).\n",
      "It is possible to make \u00a32 in the following way:\n",
      "\n",
      "1x\u00a31 + 1x50p + 2x20p + 1x5p + 1x2p + 3x1p\n",
      "How many different ways can \u00a32 be made using any number of coins?"
     ]
    },
    {
     "cell_type": "code",
     "collapsed": false,
     "input": [
      "def counter2(a):\n",
      "    count  = 0   \n",
      "    for h in range(0, a, 200):\n",
      "        if h < a:\n",
      "            for g in range(h, a - h, 100):\n",
      "                if g < a-h:\n",
      "                    for f in range(g, a - g, 50): \n",
      "                        if f < a-g:\n",
      "                            for e in range(f, a - f, 20):\n",
      "                                if e < a-f:\n",
      "                                    for d in range(e, a - e, 10):\n",
      "                                        if d < a-e:\n",
      "                                            for c in range(d, a - d, 5):\n",
      "                                                if c < a-d:\n",
      "                                                    for b in range(c, a - c, 2):\n",
      "                                                        if b < a-c:\n",
      "                                                            for t in range(b, a - b, 1):\n",
      "                                                                count += 1\n",
      "    print count"
     ],
     "language": "python",
     "metadata": {},
     "outputs": [],
     "prompt_number": 4
    },
    {
     "cell_type": "code",
     "collapsed": false,
     "input": [
      "counter2(200)"
     ],
     "language": "python",
     "metadata": {},
     "outputs": [
      {
       "output_type": "stream",
       "stream": "stdout",
       "text": [
        "199996\n"
       ]
      }
     ],
     "prompt_number": 5
    },
    {
     "cell_type": "code",
     "collapsed": false,
     "input": [],
     "language": "python",
     "metadata": {},
     "outputs": []
    }
   ],
   "metadata": {}
  }
 ]
}