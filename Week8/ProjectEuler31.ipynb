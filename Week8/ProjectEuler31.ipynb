{
 "metadata": {
  "name": "ProjectEuler31"
 },
 "nbformat": 3,
 "nbformat_minor": 0,
 "worksheets": [
  {
   "cells": [
    {
     "cell_type": "markdown",
     "metadata": {},
     "source": [
      "Coin sums\n",
      "=\n",
      "Problem 31\n",
      "-\n",
      "In England the currency is made up of pound, \u00a3, and pence, p, and there are eight coins in general circulation:\n",
      "\n",
      "1p, 2p, 5p, 10p, 20p, 50p, \u00a31 (100p) and \u00a32 (200p).\n",
      "It is possible to make \u00a32 in the following way:\n",
      "\n",
      "1x\u00a31 + 1x50p + 2x20p + 1x5p + 1x2p + 3x1p\n",
      "How many different ways can \u00a32 be made using any number of coins?"
     ]
    },
    {
     "cell_type": "code",
     "collapsed": false,
     "input": [
      "from math import factorial"
     ],
     "language": "python",
     "metadata": {},
     "outputs": [],
     "prompt_number": 4
    },
    {
     "cell_type": "code",
     "collapsed": false,
     "input": [
      "def Combinations(n, r):\n",
      "    combination = factorial(n)/(factorial(r) * factorial(abs(n-r)))\n",
      "    return combination"
     ],
     "language": "python",
     "metadata": {},
     "outputs": [],
     "prompt_number": 10
    },
    {
     "cell_type": "code",
     "collapsed": false,
     "input": [
      "Currency = [1, 2, 5, 10, 20, 50, 100, 200]"
     ],
     "language": "python",
     "metadata": {},
     "outputs": [],
     "prompt_number": 2
    },
    {
     "cell_type": "code",
     "collapsed": false,
     "input": [
      "DiffCom = 0\n",
      "for i in Currency:\n",
      "    for p in range(0, 200/i, 1):\n",
      "        C = Combinations(200/i, p/200)\n",
      "        DiffCom += C\n",
      "print DiffCom"
     ],
     "language": "python",
     "metadata": {},
     "outputs": [
      {
       "output_type": "stream",
       "stream": "stdout",
       "text": [
        "377\n"
       ]
      }
     ],
     "prompt_number": 39
    },
    {
     "cell_type": "code",
     "collapsed": false,
     "input": [
      "DiffCombos = 0\n",
      "for i in Currency:\n",
      "    DiffCombos += 200/i\n",
      "    print DiffCombos"
     ],
     "language": "python",
     "metadata": {},
     "outputs": [
      {
       "output_type": "stream",
       "stream": "stdout",
       "text": [
        "377\n"
       ]
      }
     ],
     "prompt_number": 16
    },
    {
     "cell_type": "code",
     "collapsed": false,
     "input": [
      "def parition(big, steps):\n",
      "    grange = big/steps\n",
      "    allp= zeros((grange))\n",
      "    for k in range(len(allp)):\n",
      "        for i in range(0, big, grange):\n",
      "            allp[k] = i\n",
      "    return grange\n",
      "        "
     ],
     "language": "python",
     "metadata": {},
     "outputs": [],
     "prompt_number": 42
    },
    {
     "cell_type": "code",
     "collapsed": false,
     "input": [
      "L = 0\n",
      "for i in Currency:\n",
      "    L += parition(200,i) \n",
      "print L"
     ],
     "language": "python",
     "metadata": {},
     "outputs": [
      {
       "output_type": "stream",
       "stream": "stdout",
       "text": [
        "377\n"
       ]
      }
     ],
     "prompt_number": 45
    },
    {
     "cell_type": "code",
     "collapsed": false,
     "input": [
      "k = zeros(201)\n",
      "k[0] = 1\n",
      "for g in range(len(Currency)):\n",
      "    for i in Currency:\n",
      "        k[g] += k[g - i]\n",
      "print g"
     ],
     "language": "python",
     "metadata": {},
     "outputs": [
      {
       "output_type": "stream",
       "stream": "stdout",
       "text": [
        "7\n"
       ]
      }
     ],
     "prompt_number": 53
    },
    {
     "cell_type": "code",
     "collapsed": false,
     "input": [
      "P = 0\n",
      "for i in Currency:\n",
      "    for F in range(len(Currency)):\n",
      "        for J in range(0, 200, i):\n",
      "            P += 1\n",
      "print P"
     ],
     "language": "python",
     "metadata": {},
     "outputs": [
      {
       "output_type": "stream",
       "stream": "stdout",
       "text": [
        "3016\n"
       ]
      }
     ],
     "prompt_number": 60
    },
    {
     "cell_type": "code",
     "collapsed": false,
     "input": [],
     "language": "python",
     "metadata": {},
     "outputs": []
    }
   ],
   "metadata": {}
  }
 ]
}