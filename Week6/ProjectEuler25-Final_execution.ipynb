{
 "metadata": {
  "name": "ProjectEuler25-Final_execution"
 },
 "nbformat": 3,
 "nbformat_minor": 0,
 "worksheets": [
  {
   "cells": [
    {
     "cell_type": "markdown",
     "metadata": {},
     "source": [
      "1000-digit Fibonacci number\n",
      "=\n",
      "Problem 25\n",
      "-\n",
      "The Fibonacci sequence is defined by the recurrence relation:\n",
      "$F_n$ = $F_{n-1}$ + $F_{n-2}$, where $F_1$ = 1 and $F_2$ = 1.\n",
      "Hence the first 12 terms will be:\n",
      "\n",
      "$F_1$ = 1\n",
      "$F_2$ = 1\n",
      "$F_3$ = 2\n",
      "$F_4$ = 3\n",
      "$F_5$ = 5\n",
      "$F_6$ = 8\n",
      "$F_7$ = 13\n",
      "$F_8$ = 21\n",
      "$F_9$ = 34\n",
      "$F_{10}$ = 55\n",
      "$F_{11}$ = 89\n",
      "$F_{12}$ = 144\n",
      "The 12th term, $F_{12}$, is the first term to contain three digits.\n",
      "\n",
      "What is the first term in the Fibonacci sequence to contain 1000 digits?"
     ]
    },
    {
     "cell_type": "code",
     "collapsed": false,
     "input": [
      "def fibonacci(n, digits):\n",
      "    F = [1, 1]\n",
      "    n = n-1\n",
      "    i = 2\n",
      "    digits = digits -1\n",
      "    while i < n+1:\n",
      "        k = F[i-1] + F[i-2]\n",
      "        i+=1\n",
      "        F.append(k)\n",
      "        if len(str(F[len(F)-1])) > digits:    \n",
      "            return len(F)"
     ],
     "language": "python",
     "metadata": {},
     "outputs": [],
     "prompt_number": 6
    },
    {
     "cell_type": "code",
     "collapsed": false,
     "input": [
      "def Execution(possible_max_index, Max_Digits):\n",
      "    print fibonacci(possible_max_index, Max_Digits)"
     ],
     "language": "python",
     "metadata": {},
     "outputs": [],
     "prompt_number": 7
    },
    {
     "cell_type": "code",
     "collapsed": false,
     "input": [
      "Execution(10000, 999)"
     ],
     "language": "python",
     "metadata": {},
     "outputs": [
      {
       "output_type": "stream",
       "stream": "stdout",
       "text": [
        "4778\n"
       ]
      }
     ],
     "prompt_number": 8
    }
   ],
   "metadata": {}
  }
 ]
}