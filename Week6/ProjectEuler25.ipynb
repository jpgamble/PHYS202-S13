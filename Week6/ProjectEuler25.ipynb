{
 "metadata": {
  "name": "ProjectEuler25"
 },
 "nbformat": 3,
 "nbformat_minor": 0,
 "worksheets": [
  {
   "cells": [
    {
     "cell_type": "markdown",
     "metadata": {},
     "source": [
      "1000-digit Fibonacci number\n",
      "=\n",
      "Problem 25\n",
      "-\n",
      "The Fibonacci sequence is defined by the recurrence relation:\n",
      "F[n] = F[n-1] + F[n-2], where F1 = 1 and F2 = 1.\n",
      "Hence the first 12 terms will be:\n",
      "\n",
      "F1 = 1\n",
      "F2 = 1\n",
      "F3 = 2\n",
      "F4 = 3\n",
      "F5 = 5\n",
      "F6 = 8\n",
      "F7 = 13\n",
      "F8 = 21\n",
      "F9 = 34\n",
      "F10 = 55\n",
      "F11 = 89\n",
      "F12 = 144\n",
      "The 12th term, F12, is the first term to contain three digits.\n",
      "\n",
      "What is the first term in the Fibonacci sequence to contain 1000 digits?"
     ]
    },
    {
     "cell_type": "code",
     "collapsed": false,
     "input": [
      "def fibonacci(n):\n",
      "    F = [1, 1]\n",
      "    n = n-1\n",
      "    if n == 0:\n",
      "        return F[0]\n",
      "    elif n == 1:\n",
      "        return F[1]\n",
      "    else:\n",
      "        i = 2\n",
      "        while i < n+1:\n",
      "            k = F[i-1] + F[i-2]\n",
      "            F.append(k)\n",
      "            i+=1\n",
      "        print F"
     ],
     "language": "python",
     "metadata": {},
     "outputs": [],
     "prompt_number": 5
    },
    {
     "cell_type": "code",
     "collapsed": false,
     "input": [
      "fibonacci(12)"
     ],
     "language": "python",
     "metadata": {},
     "outputs": [
      {
       "output_type": "stream",
       "stream": "stdout",
       "text": [
        "[1, 1, 2, 3, 5, 8, 13, 21, 34, 55, 89, 144]\n"
       ]
      }
     ],
     "prompt_number": 7
    },
    {
     "cell_type": "code",
     "collapsed": false,
     "input": [],
     "language": "python",
     "metadata": {},
     "outputs": [],
     "prompt_number": 1
    },
    {
     "cell_type": "code",
     "collapsed": false,
     "input": [],
     "language": "python",
     "metadata": {},
     "outputs": [
      {
       "output_type": "pyout",
       "prompt_number": 2,
       "text": [
        "-7280"
       ]
      }
     ],
     "prompt_number": 2
    },
    {
     "cell_type": "code",
     "collapsed": false,
     "input": [],
     "language": "python",
     "metadata": {},
     "outputs": []
    }
   ],
   "metadata": {}
  }
 ]
}