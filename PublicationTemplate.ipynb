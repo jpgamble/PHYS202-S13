{
 "metadata": {
  "name": "PublicationTemplate"
 },
 "nbformat": 3,
 "nbformat_minor": 0,
 "worksheets": [
  {
   "cells": [
    {
     "cell_type": "markdown",
     "metadata": {},
     "source": [
      "Publication ready plot template\n",
      "=\n",
      "Simple graphing template for matplotlib functions and data plots.\n",
      "-\n",
      "Line Plots\n",
      "-\n",
      "\\begin{equation}\n",
      "\\ E = \\cosh(y)\n",
      "\\end{equation}\n"
     ]
    },
    {
     "cell_type": "code",
     "collapsed": false,
     "input": [
      "\n",
      "import math\n",
      "x = arange(-pi, pi + 0.1, .005*pi) #defines x and y\n",
      "y = cosh(x)\n",
      "plot(x, y, 'g-')#plots\n",
      "legend(('$\\cosh(y)$',),prop = {'size' : 8}, loc='lower left', shadow=True)#defines the parameters for the legend\n",
      "grid(True)#creates the grid for the analysis of graph\n",
      "xlabel('$Y(rad)$')#labeling\n",
      "ylabel('$E$')\n",
      "xticks(arange(-pi , pi+.01, pi/2), ('$-\\pi$', '$-\\pi/2$', '0', '$+\\pi/2$', '$+\\pi$'))#defines the ticks for the ticks\n",
      "show()\n"
     ],
     "language": "python",
     "metadata": {},
     "outputs": [],
     "prompt_number": "*"
    },
    {
     "cell_type": "markdown",
     "metadata": {},
     "source": [
      "\n",
      "\\begin{equation}\n",
      "\\ abs{p}= \\sinh(y)\n",
      "\\end{equation}\n"
     ]
    },
    {
     "cell_type": "code",
     "collapsed": false,
     "input": [
      "import math\n",
      "x = arange(-pi, pi + 0.1, .005*pi)\n",
      "y = sinh(x) #defining the x and y variables\n",
      "plot(x, y, 'g-') #plotting and coloring\n",
      "legend(('$\\sinh(y)$',),prop = {'size' : 8}, loc='lower left', shadow=True)# creates the legend\n",
      "grid(True)#draws out the grid to aling independant values to dependant values\n",
      "xlabel('$Y(rad)$')\n",
      "ylabel('$abs{p}$') # creates a label for X and Y\n",
      "xticks(arange(-pi , pi+.01, pi/2), ('$-\\pi$', '$-\\pi/2$', '0', '$+\\pi/2$', '$+\\pi$'))# defines the  labeled axes for the x axis\n",
      "show()\n",
      "\n",
      "# D)\n",
      "import math\n",
      "x = arange(-pi, pi + 0.1, .005*pi)\n",
      "y = sinh(x) #defining the x and y variables\n",
      "plot(x, y, 'g-') #plotting and coloring\n",
      "legend(('$\\sinh(y)$',),prop = {'size' : 8}, loc='lower left', shadow=True)# creates the legend\n",
      "grid(True)#draws out the grid to aling independant values to dependant values\n",
      "xlabel('$Y(rad)$')\n",
      "ylabel('$abs{p}$') # creates a label for X and Y\n",
      "xticks(arange(-pi , pi+.01, pi/2), ('$-\\pi$', '$-\\pi/2$', '0', '$+\\pi/2$', '$+\\pi$'))# defines the  labeled axes for the x axis\n",
      "ax = gca()\n",
      "ax.spines['right'].set_color('none')\n",
      "ax.spines['left'].set_color('none')\n",
      "ax.spines['top'].set_color('none')\n",
      "ax.spines['bottom'].set_color('none')#extrudes the borders\n",
      "show()\n"
     ],
     "language": "python",
     "metadata": {},
     "outputs": [],
     "prompt_number": "*"
    },
    {
     "cell_type": "markdown",
     "metadata": {},
     "source": [
      "E)\n",
      "=\n",
      "Subplots\n",
      "-"
     ]
    },
    {
     "cell_type": "code",
     "collapsed": false,
     "input": [
      "subplot(222)#defines the parameter for the subplot to read the data\n",
      "plot(x,y)\n",
      "x = arange(-pi, pi + 0.1, .005*pi)\n",
      "y = sinh(x) #defining the x and y variables\n",
      "plot(x, y, 'g-') #plotting and coloring\n",
      "legend(('$\\sinh(y)$',),prop = {'size' : 8}, loc='lower left', shadow=True)# creates the legend\n",
      "grid(True)#draws out the grid to aling independant values to dependant values\n",
      "xlabel('$Y(rad)$')\n",
      "ylabel('$abs{p}$') # creates a label for X and Y\n",
      "xticks(arange(-pi , pi+.01, pi/2), ('$-\\pi$', '$-\\pi/2$', '0', '$+\\pi/2$', '$+\\pi$'))# defines the  labeled axes for the x axis\n",
      "show()\n",
      "\n",
      "subplot(221)#defines the subplot\n",
      "import math\n",
      "x = arange(-pi, pi + 0.1, .005*pi)#defines the variables\n",
      "y2 = cosh(x)\n",
      "plot(x, y2, 'g-')#plots\n",
      "legend(('$\\cosh(y)$',),prop = {'size' : 8}, loc='lower left', shadow=True)#legend information\n",
      "grid(True)#sets the grid true\n",
      "xlabel('$Y(rad)$')\n",
      "ylabel('$E$')#labeling\n",
      "xticks(arange(-pi , pi+.01, pi/2), ('$-\\pi$', '$-\\pi/2$', '0', '$+\\pi/2$', '$+\\pi$'))#defines parameters for ticks\n",
      "show()\n",
      "\n",
      "#F)\n",
      "subplot(222)#defines the parameter for the subplot to read the data\n",
      "n = 200 #sudo number generator for data\n",
      "x = random.normal(0,1,n)\n",
      "y = random.normal(0,1,n)\n",
      "plot(x, y, 'r.')#plots and colors\n",
      "legend(('Steller Magnitude',), prop = {'size' : 10}, loc='upper right', shadow=True)#legend settings\n",
      "grid(True)\n",
      "xlabel('$Temperature$') #labels\n",
      "ylabel('$Steller Magnitude$')\n",
      "ax = gca()#extrudes the borders\n",
      "ax.spines['right'].set_color('none')\n",
      "ax.spines['left'].set_color('none')\n",
      "ax.spines['top'].set_color('none')\n",
      "ax.spines['bottom'].set_color('none')\n",
      "show() #prints\n",
      "\n",
      "subplot(221)#defines the parameter for the subplot to read the data\n",
      "n = 200#sudo number generator for data\n",
      "x = random.normal(0,1,n)\n",
      "y = random.normal(0,1,n)\n",
      "plot(x, y, 'b.')#plots and colors\n",
      "legend(('Steller Magnitude',), prop = {'size' : 10}, loc='upper left', shadow=True)#legend settings\n",
      "grid(True)\n",
      "xlabel('$Temperature$')#labels\n",
      "ylabel('$Steller Magnitude$')\n",
      "annotate('Sun', xy=(.65, .3),  xycoords='axes fraction',# the following labels the important parts that were relavant tot he past graph from an earlier expercise\n",
      "                horizontalalignment='center', verticalalignment='center')\n",
      "annotate('Giants', xy=(.35, .6),  xycoords='axes fraction',\n",
      "                horizontalalignment='center', verticalalignment='center')\n",
      "annotate('White Dwarves', xy=(.25, .1),  xycoords='axes fraction',\n",
      "                horizontalalignment='center', verticalalignment='center')\n",
      "annotate('Main Sequence', xy=(.65, .5),  xycoords='axes fraction',\n",
      "                horizontalalignment='center', verticalalignment='center')\n",
      "ax = gca()\n",
      "ax.spines['right'].set_color('none')#extrudes the borders\n",
      "ax.spines['left'].set_color('none')\n",
      "ax.spines['top'].set_color('none')\n",
      "ax.spines['bottom'].set_color('none')#extrudes the borders\n",
      "show()"
     ],
     "language": "python",
     "metadata": {},
     "outputs": [],
     "prompt_number": "*"
    },
    {
     "cell_type": "code",
     "collapsed": false,
     "input": [],
     "language": "python",
     "metadata": {},
     "outputs": []
    }
   ],
   "metadata": {}
  }
 ]
}