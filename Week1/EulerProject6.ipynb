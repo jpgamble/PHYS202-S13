{
 "metadata": {
  "name": "EulerProject6"
 },
 "nbformat": 3,
 "worksheets": [
  {
   "cells": [
    {
     "cell_type": "markdown",
     "source": [
      "Sum square difference",
      "=====================",
      "Problem 6",
      "---------",
      "The sum of the squares of the first ten natural numbers is,",
      "",
      "12 + 22 + ... + 102 = 385",
      "The square of the sum of the first ten natural numbers is,",
      "",
      "(1 + 2 + ... + 10)2 = 552 = 3025",
      "Hence the difference between the sum of the squares of the first ten natural numbers and the square of the sum is 3025  385 = 2640.",
      "",
      "Find the difference between the sum of the squares of the first one hundred natural numbers and the square of the sum."
     ]
    },
    {
     "cell_type": "code",
     "collapsed": false,
     "input": [
      "s = 0",
      "s2 = 0",
      "for i in range(100):",
      "    s=i**2 + s",
      "    s2= s2 + i",
      "    a = s2**2",
      "    b = a - s",
      "print b"
     ],
     "language": "python",
     "outputs": [
      {
       "output_type": "stream",
       "stream": "stdout",
       "text": [
        "24174150"
       ]
      }
     ],
     "prompt_number": 2
    },
    {
     "cell_type": "code",
     "collapsed": true,
     "input": [],
     "language": "python",
     "outputs": []
    }
   ]
  }
 ]
}