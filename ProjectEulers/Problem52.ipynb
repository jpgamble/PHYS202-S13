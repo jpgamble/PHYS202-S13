{
 "metadata": {
  "name": "Problem52"
 },
 "nbformat": 3,
 "nbformat_minor": 0,
 "worksheets": [
  {
   "cells": [
    {
     "cell_type": "markdown",
     "metadata": {},
     "source": [
      "Permuted multiples\n",
      "=\n",
      "Problem 52\n",
      "-\n",
      "It can be seen that the number, 125874, and its double, 251748, contain exactly the same digits, but in a different order.\n",
      "\n",
      "Find the smallest positive integer, x, such that 2x, 3x, 4x, 5x, and 6x, contain the same digits."
     ]
    },
    {
     "cell_type": "code",
     "collapsed": false,
     "input": [
      "def integer(x):\n",
      "    for i in str(x):\n",
      "        k = 2*i\n",
      "        for k in str(x):\n",
      "            k = 3*i\n",
      "            for k in str(x):\n",
      "                k = 4*i\n",
      "                for k in str(x):\n",
      "                    k = 5*i\n",
      "                    for k in str(x):\n",
      "                        k = 6*i\n",
      "                        for k in str(x):\n",
      "                            print k"
     ],
     "language": "python",
     "metadata": {},
     "outputs": [],
     "prompt_number": 3
    },
    {
     "cell_type": "code",
     "collapsed": false,
     "input": [],
     "language": "python",
     "metadata": {},
     "outputs": []
    }
   ],
   "metadata": {}
  }
 ]
}