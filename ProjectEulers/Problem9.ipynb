{
 "metadata": {
  "name": "Problem9"
 },
 "nbformat": 3,
 "nbformat_minor": 0,
 "worksheets": [
  {
   "cells": [
    {
     "cell_type": "markdown",
     "metadata": {},
     "source": [
      "Special Pythagorean triplet\n",
      "=\n",
      "Problem 9\n",
      "-\n",
      "A Pythagorean triplet is a set of three natural numbers, $a <b <c$, for which,\n",
      "\n",
      "$a^2 + b^2 = c^2$\n",
      "For example, $3^2 + 4^2 = 9 + 16 = 25 = 5^2.$\n",
      "\n",
      "There exists exactly one Pythagorean triplet for which $a + b + c = 1000.$\n",
      "Find the product abc."
     ]
    },
    {
     "cell_type": "code",
     "collapsed": false,
     "input": [
      "def triplets(i):\n",
      "    for a in range(i):\n",
      "        for b in range(i):\n",
      "            for c in range(i):\n",
      "                if (a**2) + (b**2) == c**2:\n",
      "                    if a+b+c==i:\n",
      "                        if a < b:\n",
      "                            if b < c:\n",
      "                                print a* b* c \n",
      "                                print a,b,c"
     ],
     "language": "python",
     "metadata": {},
     "outputs": [],
     "prompt_number": 6
    },
    {
     "cell_type": "code",
     "collapsed": false,
     "input": [
      "triplets(25)"
     ],
     "language": "python",
     "metadata": {},
     "outputs": [],
     "prompt_number": 7
    },
    {
     "cell_type": "code",
     "collapsed": false,
     "input": [
      "triplets(1000)"
     ],
     "language": "python",
     "metadata": {},
     "outputs": [
      {
       "output_type": "stream",
       "stream": "stdout",
       "text": [
        "31875000\n",
        "200 375 425\n"
       ]
      }
     ],
     "prompt_number": 8
    },
    {
     "cell_type": "code",
     "collapsed": false,
     "input": [],
     "language": "python",
     "metadata": {},
     "outputs": []
    }
   ],
   "metadata": {}
  }
 ]
}