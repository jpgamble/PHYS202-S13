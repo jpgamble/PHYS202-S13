{
 "metadata": {
  "name": "Problem5"
 },
 "nbformat": 3,
 "nbformat_minor": 0,
 "worksheets": [
  {
   "cells": [
    {
     "cell_type": "markdown",
     "metadata": {},
     "source": [
      "Smallest multiple\n",
      "=\n",
      "Problem 5\n",
      "-\n",
      "2520 is the smallest number that can be divided by each of the numbers from 1 to 10 without any remainder.\n",
      "\n",
      "What is the smallest positive number that is evenly divisible by all of the numbers from 1 to 20?"
     ]
    },
    {
     "cell_type": "code",
     "collapsed": false,
     "input": [
      "def small_multiple(guess):\n",
      "    g=[]\n",
      "    for i in range(2520, guess):\n",
      "        if i%1 ==0 and i%2 ==0 and i%3 ==0 and i%4 ==0 and i%5 ==0 and i%6 ==0 and i%7 ==0 and i%8 ==0 and i%9 ==0 and i%10 ==0:\n",
      "            if  i%11 ==0 and i%12 ==0 and i%13 ==0 and i%14 ==0 and i%15 ==0 and i%16 ==0 and i%17 ==0 and i%18 ==0 and i%19 ==0 and i%20 ==0:\n",
      "                g.append(i)\n",
      "    print g[0]"
     ],
     "language": "python",
     "metadata": {},
     "outputs": [],
     "prompt_number": 1
    },
    {
     "cell_type": "code",
     "collapsed": false,
     "input": [
      "small_multilple(300000)"
     ],
     "language": "python",
     "metadata": {},
     "outputs": []
    }
   ],
   "metadata": {}
  }
 ]
}