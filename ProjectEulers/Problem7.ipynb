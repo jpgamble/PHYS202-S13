{
 "metadata": {
  "name": "Problem7"
 },
 "nbformat": 3,
 "nbformat_minor": 0,
 "worksheets": [
  {
   "cells": [
    {
     "cell_type": "markdown",
     "metadata": {},
     "source": [
      "10001st prime\n",
      "=\n",
      "Problem 7\n",
      "-\n",
      "By listing the first six prime numbers: 2, 3, 5, 7, 11, and 13, we can see that the 6th prime is 13.\n",
      "\n",
      "What is the 10 001st prime number?"
     ]
    },
    {
     "cell_type": "code",
     "collapsed": false,
     "input": [
      "def prime(n):\n",
      "    if n%2 == 0:\n",
      "        return False\n",
      "    k=3\n",
      "    while k<n:\n",
      "        if n%k == 0:\n",
      "            return False\n",
      "        else:\n",
      "            k += 2\n",
      "    return True\n",
      "        "
     ],
     "language": "python",
     "metadata": {},
     "outputs": [],
     "prompt_number": 1
    },
    {
     "cell_type": "code",
     "collapsed": false,
     "input": [
      "for i in range(10000000):\n",
      "    h=[]\n",
      "    if prime(i) == True:\n",
      "        h.append(i)\n",
      "    print h[10001]"
     ],
     "language": "python",
     "metadata": {},
     "outputs": [
      {
       "output_type": "pyout",
       "prompt_number": 3,
       "text": [
        "False"
       ]
      }
     ],
     "prompt_number": 3
    },
    {
     "cell_type": "code",
     "collapsed": false,
     "input": [],
     "language": "python",
     "metadata": {},
     "outputs": []
    }
   ],
   "metadata": {}
  }
 ]
}