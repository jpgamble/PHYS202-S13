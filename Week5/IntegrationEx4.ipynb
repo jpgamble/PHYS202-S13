{
 "metadata": {
  "name": "IntegrationEx4"
 },
 "nbformat": 3,
 "nbformat_minor": 0,
 "worksheets": [
  {
   "cells": [
    {
     "cell_type": "markdown",
     "metadata": {},
     "source": [
      "1. Consider the integral: \n",
      "$E(x) = \\int_{0}^x e^{-t^2} dt$"
     ]
    },
    {
     "cell_type": "code",
     "collapsed": false,
     "input": [
      "f = lambda x: e**-(x**2) #Using trapezoidal\n",
      "N = int(3/.1)#sets the number of divisions using .1 = (3-0)/N\n",
      "a=0.0\n",
      "b=3\n",
      "h= (b-a)/N\n",
      "r = 0\n",
      "d = 0\n",
      "s = f(a) + f(b)\n",
      "for k in range(1,N/2):\n",
      "    r += 2* f(a+2*k*h)\n",
      "for k in range(1, N/2 +1 ):\n",
      "    d += 4* f(a+(2*k-1)*h) \n",
      "v  = s +r + d\n",
      "q =(1/3.)*h*v\n",
      "\n",
      "print(q)"
     ],
     "language": "python",
     "metadata": {},
     "outputs": [
      {
       "output_type": "stream",
       "stream": "stdout",
       "text": [
        "0.886207336227\n"
       ]
      }
     ],
     "prompt_number": 14
    },
    {
     "cell_type": "code",
     "collapsed": false,
     "input": [
      "x = arange(0, 3.001, .1)\n",
      "plot(x, f(x), 'r.', x, (1/3.) * x * v, 'g-')\n",
      "show()"
     ],
     "language": "python",
     "metadata": {},
     "outputs": [
      {
       "output_type": "display_data",
       "png": "[encoded data removed]",
       "text": [
        "<matplotlib.figure.Figure at 0x7f30a20>"
       ]
      }
     ],
     "prompt_number": 19
    },
    {
     "cell_type": "markdown",
     "metadata": {},
     "source": [
      "2. Consider the box of width L:\n",
      "    $P(a,b) = \\int_{a}^b {\\abs{{\\psi{(x)}}^2}} dx$"
     ]
    },
    {
     "cell_type": "code",
     "collapsed": false,
     "input": [
      "import scipy.integrate as integrate\n",
      "import scipy\n"
     ],
     "language": "python",
     "metadata": {},
     "outputs": [],
     "prompt_number": 9
    },
    {
     "cell_type": "code",
     "collapsed": false,
     "input": [
      "#solve for L using the energy equation E = n**2*pi**2h**2/2mL**2\n",
      "n = 1\n",
      "h = 1.055*(10**(-34)) #hc\n",
      "c = 3*(10**8)\n",
      "m = 9.11*(10**(-31))\n",
      "E = .1*1.6*(10**(-19))\n",
      "L = sqrt((n**2)*(pi**2)*(h**2)/(2*m*E))\n",
      "print ' Length is: ', L\n",
      "psi  = lambda x: sqrt(2/L) * sin(pi * x/L)\n",
      "#quad integration\n",
      "result = integrate.quad(psi, L/3 , L/2)\n",
      "print result\n",
      "#trapezoidal is below\n",
      "N = 100\n",
      "a= L/3\n",
      "b=L/2\n",
      "h= (b-a)/N\n",
      "r = 0\n",
      "d = 0\n",
      "s = psi(a) + psi(b)\n",
      "for k in range(1,N/2):\n",
      "    r += 2* psi(a+2*k*h)\n",
      "for k in range(1, N/2 +1 ):\n",
      "    d += 4* psi(a+(2*k-1)*h) \n",
      "v  = s +r + d\n",
      "print \"Probability is: \" ,((1/3.)*h*v)"
     ],
     "language": "python",
     "metadata": {},
     "outputs": [
      {
       "output_type": "stream",
       "stream": "stdout",
       "text": [
        " Length is:  1.94119048851e-09\n",
        "(9.916746391096693e-06, 1.1009800172763977e-19)\n",
        "Probability is:  9.91674639114e-06\n"
       ]
      }
     ],
     "prompt_number": 36
    },
    {
     "cell_type": "code",
     "collapsed": false,
     "input": [
      "#b)\n",
      "L = 1\n",
      "x = arange(0, 1, .01)\n",
      "plot(x, psi(x))"
     ],
     "language": "python",
     "metadata": {},
     "outputs": [
      {
       "output_type": "pyout",
       "prompt_number": 37,
       "text": [
        "[<matplotlib.lines.Line2D at 0x83df278>]"
       ]
      },
      {
       "output_type": "display_data",
       "png": "[encoded data removed]",
       "text": [
        "<matplotlib.figure.Figure at 0x7ed3518>"
       ]
      }
     ],
     "prompt_number": 37
    },
    {
     "cell_type": "markdown",
     "metadata": {},
     "source": [
      "3 \n",
      "= \n",
      "Consider $\\psi_{n}(x) = \\frac{1}{\\sqrt{2^{n}n!\\sqrt{\\pi}}}e^{\\frac{-x^2}{2}} H_{n}(x)$"
     ]
    },
    {
     "cell_type": "markdown",
     "metadata": {},
     "source": [
      "$H_{n+1}(x) = 2x H_{n}(x) - 2nH_{n-1}(x)$\n"
     ]
    },
    {
     "cell_type": "markdown",
     "metadata": {},
     "source": [
      "$H_{0}(x) = 1$ and $H_{1}(x) = 2x $"
     ]
    },
    {
     "cell_type": "code",
     "collapsed": false,
     "input": [
      "def H(n,x):\n",
      "    h = [1, 2*x]\n",
      "    if n == 0:\n",
      "      return  h[0]\n",
      "    elif n ==1:\n",
      "        return h[1]\n",
      "    else:\n",
      "        for i in range(2, n+1):\n",
      "            j = 2*x*h[i-2] - 2*n*h[i-3]#hermit polynomial equation\n",
      "            h.append(j)\n",
      "        return h[n]\n",
      "    "
     ],
     "language": "python",
     "metadata": {},
     "outputs": [],
     "prompt_number": 15
    },
    {
     "cell_type": "code",
     "collapsed": false,
     "input": [
      "math.factorial?\n",
      "import math\n"
     ],
     "language": "python",
     "metadata": {},
     "outputs": [],
     "prompt_number": 4
    },
    {
     "cell_type": "code",
     "collapsed": false,
     "input": [
      "w = lambda n, x: ((e**((x**2)/2) * H(n,x))/(sqrt((2**n) * float(math.factorial(n))* sqrt(pi))))"
     ],
     "language": "python",
     "metadata": {},
     "outputs": [],
     "prompt_number": 16
    },
    {
     "cell_type": "code",
     "collapsed": false,
     "input": [
      "x = arange(-4, 4.001)\n",
      "plot(x, w(0,x), x, w(1,x), x, w(2, x), x, w(3, x)) \n",
      "show()"
     ],
     "language": "python",
     "metadata": {},
     "outputs": [
      {
       "output_type": "display_data",
       "png": "[encoded data removed]",
       "text": [
        "<matplotlib.figure.Figure at 0x80afc50>"
       ]
      }
     ],
     "prompt_number": 17
    },
    {
     "cell_type": "code",
     "collapsed": false,
     "input": [
      "#b)\n",
      "x = arange(-10, 10)\n",
      "plot(x, w(30, x))"
     ],
     "language": "python",
     "metadata": {},
     "outputs": [
      {
       "output_type": "pyout",
       "prompt_number": 18,
       "text": [
        "[<matplotlib.lines.Line2D at 0x80cf400>]"
       ]
      },
      {
       "output_type": "display_data",
       "png": "[encoded data removed]",
       "text": [
        "<matplotlib.figure.Figure at 0x7ff47b8>"
       ]
      }
     ],
     "prompt_number": 18
    },
    {
     "cell_type": "code",
     "collapsed": false,
     "input": [
      "l = lambda x: (x**2)*(abs(w(5, x))**2)\n",
      "result = integrate.quad(l,-4 ,+4)\n",
      "print sqrt(result)"
     ],
     "language": "python",
     "metadata": {},
     "outputs": [
      {
       "output_type": "stream",
       "stream": "stdout",
       "text": [
        "[  7.74168184e+04   2.36371139e-02]\n"
       ]
      }
     ],
     "prompt_number": 21
    },
    {
     "cell_type": "markdown",
     "metadata": {},
     "source": [
      "    4. Monte Carlo\n",
      "$ f(x) = 4\\sqrt{1-x^2}$"
     ]
    },
    {
     "cell_type": "code",
     "collapsed": false,
     "input": [
      "f = lambda x: 4 * sqrt(1-x**2)"
     ],
     "language": "python",
     "metadata": {},
     "outputs": [],
     "prompt_number": 24
    },
    {
     "cell_type": "code",
     "collapsed": false,
     "input": [
      "xmin= 0.\n",
      "xmax = 1.\n",
      "\n",
      "N = 100000\n",
      "subx = random_sample(N)\n",
      "ymax = max(f(subx))*1.001\n",
      "ymin = 0\n",
      "\n",
      "\n",
      "samples_x = xmin + (xmax - xmin)*random_sample(N);\n",
      "samples_y  = ymin + (ymax-ymin)*random_sample(N);\n",
      "newmask = (samples_y < f(samples_x))\n",
      "\n",
      "Ia = lambda x: (4./(3*x))*((1-(x**2))**(3/2.))\n",
      "I = (xmax - xmin)*(ymax-ymin)*sum(newmask)/newmask.size\n",
      "Iexact = Ia(xmax) - Ia(xmin)\n",
      "Ierr = 100*(Iexact-I)/Iexact\n",
      "print \"I_exact = \", Iexact\n",
      "print \"I_hitormiss\", I\n",
      "print \"Error on I =\", Ierr, '%'"
     ],
     "language": "python",
     "metadata": {},
     "outputs": [
      {
       "ename": "ValueError",
       "evalue": "max() arg is an empty sequence",
       "output_type": "pyerr",
       "traceback": [
        "\u001b[1;31m---------------------------------------------------------------------------\u001b[0m\n\u001b[1;31mValueError\u001b[0m                                Traceback (most recent call last)",
        "\u001b[1;32m<ipython-input-30-47fd99f43c8f>\u001b[0m in \u001b[0;36m<module>\u001b[1;34m()\u001b[0m\n\u001b[0;32m      3\u001b[0m \u001b[1;33m\u001b[0m\u001b[0m\n\u001b[0;32m      4\u001b[0m \u001b[0msubx\u001b[0m \u001b[1;33m=\u001b[0m \u001b[0mx\u001b[0m\u001b[1;33m[\u001b[0m\u001b[0mlogical_and\u001b[0m\u001b[1;33m(\u001b[0m\u001b[1;33m(\u001b[0m\u001b[0mx\u001b[0m\u001b[1;33m>\u001b[0m\u001b[1;36m0.\u001b[0m\u001b[1;33m)\u001b[0m\u001b[1;33m,\u001b[0m \u001b[1;33m(\u001b[0m\u001b[0mx\u001b[0m\u001b[1;33m<\u001b[0m\u001b[1;36m1.\u001b[0m\u001b[1;33m)\u001b[0m\u001b[1;33m)\u001b[0m\u001b[1;33m]\u001b[0m\u001b[1;33m\u001b[0m\u001b[0m\n\u001b[1;32m----> 5\u001b[1;33m \u001b[0mymax\u001b[0m \u001b[1;33m=\u001b[0m \u001b[0mmax\u001b[0m\u001b[1;33m(\u001b[0m\u001b[0mf\u001b[0m\u001b[1;33m(\u001b[0m\u001b[0msubx\u001b[0m\u001b[1;33m)\u001b[0m\u001b[1;33m)\u001b[0m\u001b[1;33m*\u001b[0m\u001b[1;36m1.001\u001b[0m\u001b[1;33m\u001b[0m\u001b[0m\n\u001b[0m\u001b[0;32m      6\u001b[0m \u001b[0mymin\u001b[0m \u001b[1;33m=\u001b[0m \u001b[1;36m0\u001b[0m\u001b[1;33m\u001b[0m\u001b[0m\n\u001b[0;32m      7\u001b[0m \u001b[1;33m\u001b[0m\u001b[0m\n",
        "\u001b[1;31mValueError\u001b[0m: max() arg is an empty sequence"
       ]
      }
     ],
     "prompt_number": 30
    },
    {
     "cell_type": "code",
     "collapsed": false,
     "input": [],
     "language": "python",
     "metadata": {},
     "outputs": [
      {
       "ename": "ValueError",
       "evalue": "max() arg is an empty sequence",
       "output_type": "pyerr",
       "traceback": [
        "\u001b[1;31m---------------------------------------------------------------------------\u001b[0m\n\u001b[1;31mValueError\u001b[0m                                Traceback (most recent call last)",
        "\u001b[1;32m<ipython-input-32-28e4dee4b689>\u001b[0m in \u001b[0;36m<module>\u001b[1;34m()\u001b[0m\n\u001b[0;32m      4\u001b[0m \u001b[1;33m\u001b[0m\u001b[0m\n\u001b[0;32m      5\u001b[0m \u001b[0msubx\u001b[0m \u001b[1;33m=\u001b[0m \u001b[0mx\u001b[0m\u001b[1;33m[\u001b[0m\u001b[0mlogical_and\u001b[0m\u001b[1;33m(\u001b[0m\u001b[1;33m(\u001b[0m\u001b[0mx\u001b[0m\u001b[1;33m>\u001b[0m\u001b[1;36m0.\u001b[0m\u001b[1;33m)\u001b[0m\u001b[1;33m,\u001b[0m \u001b[1;33m(\u001b[0m\u001b[0mx\u001b[0m\u001b[1;33m<\u001b[0m\u001b[1;36m1.\u001b[0m\u001b[1;33m)\u001b[0m\u001b[1;33m)\u001b[0m\u001b[1;33m]\u001b[0m\u001b[1;33m\u001b[0m\u001b[0m\n\u001b[1;32m----> 6\u001b[1;33m \u001b[0mymax\u001b[0m \u001b[1;33m=\u001b[0m \u001b[0mmax\u001b[0m\u001b[1;33m(\u001b[0m\u001b[0mf\u001b[0m\u001b[1;33m(\u001b[0m\u001b[0msubx\u001b[0m\u001b[1;33m)\u001b[0m\u001b[1;33m)\u001b[0m\u001b[1;33m*\u001b[0m\u001b[1;36m1.001\u001b[0m\u001b[1;33m\u001b[0m\u001b[0m\n\u001b[0m\u001b[0;32m      7\u001b[0m \u001b[0mymin\u001b[0m \u001b[1;33m=\u001b[0m \u001b[1;36m0\u001b[0m\u001b[1;33m\u001b[0m\u001b[0m\n",
        "\u001b[1;31mValueError\u001b[0m: max() arg is an empty sequence"
       ]
      }
     ],
     "prompt_number": 32
    },
    {
     "cell_type": "markdown",
     "metadata": {},
     "source": [
      "   $5.$ Integrals of mass density."
     ]
    },
    {
     "cell_type": "code",
     "collapsed": false,
     "input": [
      "#a)\n",
      "p = lambda x,y: 100/(((y+.1)+(x**2)))#kg/m**3\n"
     ],
     "language": "python",
     "metadata": {},
     "outputs": [],
     "prompt_number": 64
    },
    {
     "cell_type": "code",
     "collapsed": false,
     "input": [
      "L = .2\n",
      "W = .2\n",
      "H = 1.\n",
      "N = 1000000"
     ],
     "language": "python",
     "metadata": {},
     "outputs": [],
     "prompt_number": 70
    },
    {
     "cell_type": "code",
     "collapsed": false,
     "input": [
      "x = L*random_sample(N); y = W*random_sample(N); z = H*random_sample(N)\n",
      "M = (L*W*H/N)*sum(p(x,y))\n",
      "print M\n",
      "    "
     ],
     "language": "python",
     "metadata": {},
     "outputs": [
      {
       "output_type": "stream",
       "stream": "stdout",
       "text": [
        "20.4348340529\n"
       ]
      }
     ],
     "prompt_number": 71
    },
    {
     "cell_type": "code",
     "collapsed": false,
     "input": [
      "r = lambda x,y,z: sqrt(x**2 + y**2 + z**2)\n",
      "rcm = (L*W*H/N)*sum(r(x,y,z)*p(x,y))\n",
      "print rcm"
     ],
     "language": "python",
     "metadata": {},
     "outputs": [
      {
       "output_type": "stream",
       "stream": "stdout",
       "text": [
        "10.8960700333\n"
       ]
      }
     ],
     "prompt_number": 72
    },
    {
     "cell_type": "code",
     "collapsed": false,
     "input": [
      "Icm = (L*W*H/N)*sum(((r(x,y,z)-rcm)**2)*p(x,y))\n",
      "print Icm"
     ],
     "language": "python",
     "metadata": {},
     "outputs": [
      {
       "output_type": "stream",
       "stream": "stdout",
       "text": [
        "2195.9327311\n"
       ]
      }
     ],
     "prompt_number": 73
    },
    {
     "cell_type": "code",
     "collapsed": false,
     "input": [
      "#b)\n",
      "P =  100\n",
      "M = (L*W*H)*(P)\n",
      "print M\n",
      "rcm = (P* L*W*H/N)*sum(r(x,y,z))\n",
      "print rcm\n",
      "Icm = (P*L*W*H/N)*sum(((r(x,y,z)-rcm)**2))\n",
      "print Icm"
     ],
     "language": "python",
     "metadata": {},
     "outputs": [
      {
       "output_type": "stream",
       "stream": "stdout",
       "text": [
        "4.0\n",
        "2.15269603715"
       ]
      },
      {
       "output_type": "stream",
       "stream": "stdout",
       "text": [
        "\n",
        "10.7061989567"
       ]
      },
      {
       "output_type": "stream",
       "stream": "stdout",
       "text": [
        "\n"
       ]
      }
     ],
     "prompt_number": 74
    },
    {
     "cell_type": "code",
     "collapsed": false,
     "input": [
      "#c)\n"
     ],
     "language": "python",
     "metadata": {},
     "outputs": []
    }
   ],
   "metadata": {}
  }
 ]
}