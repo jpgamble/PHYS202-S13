{
 "metadata": {
  "name": "IntegrationEx4"
 },
 "nbformat": 3,
 "nbformat_minor": 0,
 "worksheets": [
  {
   "cells": [
    {
     "cell_type": "markdown",
     "metadata": {},
     "source": [
      "1. Consider the integral: \n",
      "$E(x) = \\int_{0}^x e^{-t^2} dt$"
     ]
    },
    {
     "cell_type": "code",
     "collapsed": false,
     "input": [
      "f = lambda x: e**-(x**2) #Using trapezoidal\n",
      "N = int(3/.1)#sets the number of divisions using .1 = (3-0)/N\n",
      "a=0.0\n",
      "b=3\n",
      "h= (b-a)/N\n",
      "r = 0\n",
      "d = 0\n",
      "s = f(a) + f(b)\n",
      "for k in range(1,N/2):\n",
      "    r += 2* f(a+2*k*h)\n",
      "for k in range(1, N/2 +1 ):\n",
      "    d += 4* f(a+(2*k-1)*h) \n",
      "v  = s +r + d\n",
      "q =(1/3.)*h*v\n",
      "\n",
      "print(q)"
     ],
     "language": "python",
     "metadata": {},
     "outputs": [
      {
       "output_type": "stream",
       "stream": "stdout",
       "text": [
        "0.886207336227\n"
       ]
      }
     ],
     "prompt_number": 14
    },
    {
     "cell_type": "code",
     "collapsed": false,
     "input": [
      "x = arange(0, 3.001, .1)\n",
      "plot(x, f(x), 'r.', x, (1/3.) * x * v, 'g-')\n",
      "show()"
     ],
     "language": "python",
     "metadata": {},
     "outputs": [
      {
       "output_type": "display_data",
       "png": "[encoded data removed]",
       "text": [
        "<matplotlib.figure.Figure at 0x7f30a20>"
       ]
      }
     ],
     "prompt_number": 19
    },
    {
     "cell_type": "markdown",
     "metadata": {},
     "source": [
      "2. Consider the box of width L:\n",
      "    $P(a,b) = \\int_{a}^b {\\abs{{\\psi{(x)}}^2}} dx$"
     ]
    },
    {
     "cell_type": "code",
     "collapsed": false,
     "input": [
      "import scipy.integrate as integrate\n",
      "import scipy\n"
     ],
     "language": "python",
     "metadata": {},
     "outputs": [],
     "prompt_number": 12
    },
    {
     "cell_type": "code",
     "collapsed": false,
     "input": [
      "#solve for L using the energy equation E = n**2*pi**2h**2/2mL**2\n",
      "n = 1\n",
      "h = 1.055*(10**(-34)) #hc\n",
      "c = 3*(10**8)\n",
      "m = 9.11*(10**(-31))\n",
      "E = .1*1.6*(10**(-19))\n",
      "L = sqrt((n**2)*(pi**2)*(h**2)/(2*m*E))\n",
      "print ' Length is: ', L\n",
      "psi  = lambda x: sqrt(2/L) * sin(pi * x/L)\n",
      "#quad integration\n",
      "result = integrate.quad(psi, L/3 , L/2)\n",
      "print result\n",
      "#trapezoidal is below\n",
      "N = 100\n",
      "a= L/3\n",
      "b=L/2\n",
      "h= (b-a)/N\n",
      "r = 0\n",
      "d = 0\n",
      "s = psi(a) + psi(b)\n",
      "for k in range(1,N/2):\n",
      "    r += 2* psi(a+2*k*h)\n",
      "for k in range(1, N/2 +1 ):\n",
      "    d += 4* psi(a+(2*k-1)*h) \n",
      "v  = s +r + d\n",
      "print \"Probability is: \" ,((1/3.)*h*v)"
     ],
     "language": "python",
     "metadata": {},
     "outputs": [
      {
       "output_type": "stream",
       "stream": "stdout",
       "text": [
        " Length is:  1.94119048851e-09\n",
        "(9.916746391096693e-06, 1.1009800172763977e-19)\n",
        "Probability is:  9.91674639114e-06\n"
       ]
      }
     ],
     "prompt_number": 36
    },
    {
     "cell_type": "code",
     "collapsed": false,
     "input": [
      "#b)\n",
      "L = 1\n",
      "x = arange(0, 1, .01)\n",
      "plot(x, psi(x))"
     ],
     "language": "python",
     "metadata": {},
     "outputs": [
      {
       "output_type": "pyout",
       "prompt_number": 37,
       "text": [
        "[<matplotlib.lines.Line2D at 0x83df278>]"
       ]
      },
      {
       "output_type": "display_data",
       "png": "[encoded data removed]",
       "text": [
        "<matplotlib.figure.Figure at 0x7ed3518>"
       ]
      }
     ],
     "prompt_number": 37
    },
    {
     "cell_type": "markdown",
     "metadata": {},
     "source": [
      "3 \n",
      "= \n",
      "Consider $\\psi_{n}(x) = \\frac{1}{\\sqrt{2^{n}n!\\sqrt{\\pi}}}e^{\\frac{-x^2}{2}} H_{n}(x)$"
     ]
    },
    {
     "cell_type": "markdown",
     "metadata": {},
     "source": [
      "$H_{n+1}(x) = 2x H_{n}(x) - 2nH_{n-1}(x)$\n"
     ]
    },
    {
     "cell_type": "markdown",
     "metadata": {},
     "source": [
      "$H_{0}(x) = 1$ and $H_{1}(x) = 2x $"
     ]
    },
    {
     "cell_type": "code",
     "collapsed": false,
     "input": [
      "def H(n,x):\n",
      "    h = [1, 2*x]\n",
      "    if n == 0:\n",
      "      return  h[0]\n",
      "    elif n ==1:\n",
      "        return h[1]\n",
      "    else:\n",
      "        for i in range(2, n+1):\n",
      "            j = 2*x*h[i-2] - 2*n*h[i-3]#hermit polynomial equation\n",
      "            h.append(j)\n",
      "        return h[n]\n",
      "    "
     ],
     "language": "python",
     "metadata": {},
     "outputs": [],
     "prompt_number": 2
    },
    {
     "cell_type": "code",
     "collapsed": false,
     "input": [
      "math.factorial?\n",
      "import math\n"
     ],
     "language": "python",
     "metadata": {},
     "outputs": [],
     "prompt_number": 3
    },
    {
     "cell_type": "code",
     "collapsed": false,
     "input": [
      "w = lambda n, x: ((e**((-x**2.)/2.) * H(n,x))/(sqrt((2.**n) * float(math.factorial(n))* sqrt(pi))))"
     ],
     "language": "python",
     "metadata": {},
     "outputs": [],
     "prompt_number": 8
    },
    {
     "cell_type": "code",
     "collapsed": false,
     "input": [
      "x = arange(-4, 4.001, .01)\n",
      "plot(x, w(0,x), x, w(1,x), x, w(2, x), x, w(3, x)) \n",
      "show()"
     ],
     "language": "python",
     "metadata": {},
     "outputs": [
      {
       "output_type": "display_data",
       "png": "[encoded data removed]",
       "text": [
        "<matplotlib.figure.Figure at 0x7eae160>"
       ]
      }
     ],
     "prompt_number": 9
    },
    {
     "cell_type": "code",
     "collapsed": false,
     "input": [
      "#b)\n",
      "x = arange(-10, 10)\n",
      "plot(x, w(30, x))"
     ],
     "language": "python",
     "metadata": {},
     "outputs": [
      {
       "output_type": "pyout",
       "prompt_number": 10,
       "text": [
        "[<matplotlib.lines.Line2D at 0x7ec26a0>]"
       ]
      },
      {
       "output_type": "display_data",
       "png": "[encoded data removed]",
       "text": [
        "<matplotlib.figure.Figure at 0x7ec4dd8>"
       ]
      }
     ],
     "prompt_number": 10
    },
    {
     "cell_type": "code",
     "collapsed": false,
     "input": [
      "l = lambda x: (x**2)*(abs(w(5, x))**2)\n",
      "result = integrate.quad(l,-4 ,+4)\n",
      "print sqrt(result)"
     ],
     "language": "python",
     "metadata": {},
     "outputs": [
      {
       "output_type": "stream",
       "stream": "stdout",
       "text": [
        "[  2.52175985e+00   1.08627138e-06]\n"
       ]
      }
     ],
     "prompt_number": 13
    },
    {
     "cell_type": "markdown",
     "metadata": {},
     "source": [
      "    4. Monte Carlo\n",
      "$ f(x) = 4\\sqrt{1-x^2}$"
     ]
    },
    {
     "cell_type": "code",
     "collapsed": false,
     "input": [
      "f = lambda x: 4 * sqrt(1-x**2)"
     ],
     "language": "python",
     "metadata": {},
     "outputs": [],
     "prompt_number": 7
    },
    {
     "cell_type": "code",
     "collapsed": false,
     "input": [
      "xmin= 0.000001\n",
      "xmax = 1.\n",
      "\n",
      "N = 100000\n",
      "subx = random_sample(N)\n",
      "ymax = max(f(subx))*1.001\n",
      "ymin = min(f(subx))*1.001\n",
      "\n",
      "samples_x = xmin + (xmax - xmin)*random_sample(N);\n",
      "samples_y  = ymin + (ymax-ymin)*random_sample(N);\n",
      "newmask = (samples_y < f(samples_x))"
     ],
     "language": "python",
     "metadata": {},
     "outputs": [],
     "prompt_number": 8
    },
    {
     "cell_type": "code",
     "collapsed": false,
     "input": [
      "#b)\n",
      "I = (xmax - xmin)*(ymax-ymin)*sum(newmask)/newmask.size\n",
      "Iexact = pi\n",
      "Ierr = 100*(Iexact-I)/Iexact\n",
      "print \"I_exact = \", Iexact\n",
      "print \"I_monte_carlo\", I\n",
      "print \"Error on I =\", Ierr, '%'\n"
     ],
     "language": "python",
     "metadata": {},
     "outputs": [
      {
       "output_type": "stream",
       "stream": "stdout",
       "text": [
        "I_exact =  3.14159265359\n",
        "I_monte_carlo 3.13201637046\n",
        "Error on I = 0.304822559316 %\n"
       ]
      }
     ],
     "prompt_number": 9
    },
    {
     "cell_type": "code",
     "collapsed": false,
     "input": [
      "#c)\n",
      "subx = lambda N: random_sample(N)"
     ],
     "language": "python",
     "metadata": {},
     "outputs": [],
     "prompt_number": 10
    },
    {
     "cell_type": "code",
     "collapsed": false,
     "input": [
      "def error_plot(N):\n",
      "    subx = random_sample(N)\n",
      "    xmin= 0.000001\n",
      "    xmax = 1.\n",
      "    ymax = max(f(subx))*1.001\n",
      "    ymin = min(f(subx))*1.001\n",
      "\n",
      "    samples_x = xmin + (xmax - xmin)*random_sample(N);\n",
      "    samples_y  = ymin + (ymax-ymin)*random_sample(N);\n",
      "    newmask = (samples_y < f(samples_x))\n",
      "    I = (xmax - xmin)*(ymax-ymin)*sum(newmask)/newmask.size\n",
      "    return abs(I-pi)\n"
     ],
     "language": "python",
     "metadata": {},
     "outputs": [],
     "prompt_number": 11
    },
    {
     "cell_type": "code",
     "collapsed": false,
     "input": [
      "from pylab import *\n",
      "N = arange(10, 100)\n",
      "k = []\n",
      "for i in range(10, 100, 10):\n",
      "    k.append(error_plot(i))\n",
      "loglog(N, k)"
     ],
     "language": "python",
     "metadata": {},
     "outputs": [
      {
       "ename": "TypeError",
       "evalue": "f() takes at least 2 positional arguments (1 given)",
       "output_type": "pyerr",
       "traceback": [
        "\u001b[1;31m---------------------------------------------------------------------------\u001b[0m\n\u001b[1;31mTypeError\u001b[0m                                 Traceback (most recent call last)",
        "\u001b[1;32m<ipython-input-12-40f9edd0044a>\u001b[0m in \u001b[0;36m<module>\u001b[1;34m()\u001b[0m\n\u001b[0;32m      3\u001b[0m \u001b[0mk\u001b[0m \u001b[1;33m=\u001b[0m \u001b[1;33m[\u001b[0m\u001b[1;33m]\u001b[0m\u001b[1;33m\u001b[0m\u001b[0m\n\u001b[0;32m      4\u001b[0m \u001b[1;32mfor\u001b[0m \u001b[0mi\u001b[0m \u001b[1;32min\u001b[0m \u001b[0mrange\u001b[0m\u001b[1;33m(\u001b[0m\u001b[1;36m10\u001b[0m\u001b[1;33m,\u001b[0m \u001b[1;36m100\u001b[0m\u001b[1;33m,\u001b[0m \u001b[1;36m10\u001b[0m\u001b[1;33m)\u001b[0m\u001b[1;33m:\u001b[0m\u001b[1;33m\u001b[0m\u001b[0m\n\u001b[1;32m----> 5\u001b[1;33m     \u001b[0mk\u001b[0m\u001b[1;33m.\u001b[0m\u001b[0mappend\u001b[0m\u001b[1;33m(\u001b[0m\u001b[0merror_plot\u001b[0m\u001b[1;33m(\u001b[0m\u001b[0mi\u001b[0m\u001b[1;33m)\u001b[0m\u001b[1;33m)\u001b[0m\u001b[1;33m\u001b[0m\u001b[0m\n\u001b[0m\u001b[0;32m      6\u001b[0m \u001b[0mloglog\u001b[0m\u001b[1;33m(\u001b[0m\u001b[0mN\u001b[0m\u001b[1;33m,\u001b[0m \u001b[0mk\u001b[0m\u001b[1;33m)\u001b[0m\u001b[1;33m\u001b[0m\u001b[0m\n",
        "\u001b[1;32m<ipython-input-11-e1fbac74be74>\u001b[0m in \u001b[0;36merror_plot\u001b[1;34m(N)\u001b[0m\n\u001b[0;32m      3\u001b[0m     \u001b[0mxmin\u001b[0m\u001b[1;33m=\u001b[0m \u001b[1;36m0.000001\u001b[0m\u001b[1;33m\u001b[0m\u001b[0m\n\u001b[0;32m      4\u001b[0m     \u001b[0mxmax\u001b[0m \u001b[1;33m=\u001b[0m \u001b[1;36m1.\u001b[0m\u001b[1;33m\u001b[0m\u001b[0m\n\u001b[1;32m----> 5\u001b[1;33m     \u001b[0mymax\u001b[0m \u001b[1;33m=\u001b[0m \u001b[0mmax\u001b[0m\u001b[1;33m(\u001b[0m\u001b[0mf\u001b[0m\u001b[1;33m(\u001b[0m\u001b[0msubx\u001b[0m\u001b[1;33m)\u001b[0m\u001b[1;33m)\u001b[0m\u001b[1;33m*\u001b[0m\u001b[1;36m1.001\u001b[0m\u001b[1;33m\u001b[0m\u001b[0m\n\u001b[0m\u001b[0;32m      6\u001b[0m     \u001b[0mymin\u001b[0m \u001b[1;33m=\u001b[0m \u001b[0mmin\u001b[0m\u001b[1;33m(\u001b[0m\u001b[0mf\u001b[0m\u001b[1;33m(\u001b[0m\u001b[0msubx\u001b[0m\u001b[1;33m)\u001b[0m\u001b[1;33m)\u001b[0m\u001b[1;33m*\u001b[0m\u001b[1;36m1.001\u001b[0m\u001b[1;33m\u001b[0m\u001b[0m\n\u001b[0;32m      7\u001b[0m \u001b[1;33m\u001b[0m\u001b[0m\n",
        "\u001b[1;32mC:\\Users\\Jacob\\AppData\\Local\\Enthought\\Canopy\\App\\appdata\\canopy-1.0.0.1160.win-x86_64\\lib\\site-packages\\numpy\\random\\mtrand.pyd\u001b[0m in \u001b[0;36mmtrand.RandomState.f (numpy\\random\\mtrand\\mtrand.c:8538)\u001b[1;34m()\u001b[0m\n",
        "\u001b[1;31mTypeError\u001b[0m: f() takes at least 2 positional arguments (1 given)"
       ]
      }
     ],
     "prompt_number": 12
    },
    {
     "cell_type": "code",
     "collapsed": false,
     "input": [
      "#d)\n",
      "def error(N):\n",
      "    x = random_sample(N)\n",
      "    Sig = 0\n",
      "    for i in range(N):\n",
      "        Sig += f(x[i])\n",
      "    I = (Sig*(1/N))\n",
      "    return I"
     ],
     "language": "python",
     "metadata": {},
     "outputs": [],
     "prompt_number": 13
    },
    {
     "cell_type": "code",
     "collapsed": false,
     "input": [
      "error(1000)"
     ],
     "language": "python",
     "metadata": {},
     "outputs": [
      {
       "ename": "TypeError",
       "evalue": "f() takes at least 2 positional arguments (1 given)",
       "output_type": "pyerr",
       "traceback": [
        "\u001b[1;31m---------------------------------------------------------------------------\u001b[0m\n\u001b[1;31mTypeError\u001b[0m                                 Traceback (most recent call last)",
        "\u001b[1;32m<ipython-input-14-e1dd426598e5>\u001b[0m in \u001b[0;36m<module>\u001b[1;34m()\u001b[0m\n\u001b[1;32m----> 1\u001b[1;33m \u001b[0merror\u001b[0m\u001b[1;33m(\u001b[0m\u001b[1;36m1000\u001b[0m\u001b[1;33m)\u001b[0m\u001b[1;33m\u001b[0m\u001b[0m\n\u001b[0m",
        "\u001b[1;32m<ipython-input-13-13ae5c0b8ff7>\u001b[0m in \u001b[0;36merror\u001b[1;34m(N)\u001b[0m\n\u001b[0;32m      4\u001b[0m     \u001b[0mSig\u001b[0m \u001b[1;33m=\u001b[0m \u001b[1;36m0\u001b[0m\u001b[1;33m\u001b[0m\u001b[0m\n\u001b[0;32m      5\u001b[0m     \u001b[1;32mfor\u001b[0m \u001b[0mi\u001b[0m \u001b[1;32min\u001b[0m \u001b[0mrange\u001b[0m\u001b[1;33m(\u001b[0m\u001b[0mN\u001b[0m\u001b[1;33m)\u001b[0m\u001b[1;33m:\u001b[0m\u001b[1;33m\u001b[0m\u001b[0m\n\u001b[1;32m----> 6\u001b[1;33m         \u001b[0mSig\u001b[0m \u001b[1;33m+=\u001b[0m \u001b[0mf\u001b[0m\u001b[1;33m(\u001b[0m\u001b[0mx\u001b[0m\u001b[1;33m[\u001b[0m\u001b[0mi\u001b[0m\u001b[1;33m]\u001b[0m\u001b[1;33m)\u001b[0m\u001b[1;33m\u001b[0m\u001b[0m\n\u001b[0m\u001b[0;32m      7\u001b[0m     \u001b[0mI\u001b[0m \u001b[1;33m=\u001b[0m \u001b[1;33m(\u001b[0m\u001b[0mSig\u001b[0m\u001b[1;33m*\u001b[0m\u001b[1;33m(\u001b[0m\u001b[1;36m1\u001b[0m\u001b[1;33m/\u001b[0m\u001b[0mN\u001b[0m\u001b[1;33m)\u001b[0m\u001b[1;33m)\u001b[0m\u001b[1;33m\u001b[0m\u001b[0m\n\u001b[0;32m      8\u001b[0m     \u001b[1;32mreturn\u001b[0m \u001b[0mI\u001b[0m\u001b[1;33m\u001b[0m\u001b[0m\n",
        "\u001b[1;32mC:\\Users\\Jacob\\AppData\\Local\\Enthought\\Canopy\\App\\appdata\\canopy-1.0.0.1160.win-x86_64\\lib\\site-packages\\numpy\\random\\mtrand.pyd\u001b[0m in \u001b[0;36mmtrand.RandomState.f (numpy\\random\\mtrand\\mtrand.c:8538)\u001b[1;34m()\u001b[0m\n",
        "\u001b[1;31mTypeError\u001b[0m: f() takes at least 2 positional arguments (1 given)"
       ]
      }
     ],
     "prompt_number": 14
    },
    {
     "cell_type": "markdown",
     "metadata": {},
     "source": [
      "   $5.$ Integrals of mass density."
     ]
    },
    {
     "cell_type": "code",
     "collapsed": false,
     "input": [
      "#a)\n",
      "p = lambda y, z: 100/(((y+.1)+(z**2)))#kg/m**3\n"
     ],
     "language": "python",
     "metadata": {},
     "outputs": [],
     "prompt_number": 16
    },
    {
     "cell_type": "code",
     "collapsed": false,
     "input": [
      "L = .2\n",
      "W = .2\n",
      "H = 1.\n",
      "N = 1000000"
     ],
     "language": "python",
     "metadata": {},
     "outputs": [],
     "prompt_number": 17
    },
    {
     "cell_type": "code",
     "collapsed": false,
     "input": [
      "x = L*random_sample(N); y = W*random_sample(N); z = H*random_sample(N)\n",
      "M = (L*W*H/N)*sum(p(y,z))\n",
      "print \"M = \", M, \"kg\"\n",
      "print \"Sig Figs:\", 10, \"kg\""
     ],
     "language": "python",
     "metadata": {},
     "outputs": [
      {
       "output_type": "stream",
       "stream": "stdout",
       "text": [
        "M =  10.7867327927 kg\n",
        "Sig Figs: 10 kg\n"
       ]
      }
     ],
     "prompt_number": 30
    },
    {
     "cell_type": "code",
     "collapsed": false,
     "input": [
      "r = lambda x,y,z: sqrt(x**2 + y**2 + z**2)\n",
      "rcm = (L*W*H/N)*sum(r(x,y,z)*p(y, z))\n",
      "print \"Rcm = \", rcm, \"m\"\n",
      "print \"Sig Figs: \", 4, \"m\""
     ],
     "language": "python",
     "metadata": {},
     "outputs": [
      {
       "output_type": "stream",
       "stream": "stdout",
       "text": [
        "Rcm =  4.20928570938 m\n",
        "Sig Figs:  4 m\n"
       ]
      }
     ],
     "prompt_number": 31
    },
    {
     "cell_type": "code",
     "collapsed": false,
     "input": [
      "Icm = (L*W*H/N)*sum(((r(x,y,z)-rcm)**2)*p(y,z))\n",
      "print \"Icm = \", Icm, \"kg m^2\"\n",
      "print \"Sig Figs: \", 200, \"kg m^2\""
     ],
     "language": "python",
     "metadata": {},
     "outputs": [
      {
       "output_type": "stream",
       "stream": "stdout",
       "text": [
        "Icm =  157.916681126 kg m^2\n",
        "Sig Figs:  200 kg m^2\n"
       ]
      }
     ],
     "prompt_number": 32
    },
    {
     "cell_type": "code",
     "collapsed": false,
     "input": [
      "#b)\n",
      "P =  100\n",
      "M = (L*W*H)*(P)\n",
      "print \"M = \", M, \"kg\"\n",
      "rcm = (P* L*W*H/N)*sum(r(x,y,z))\n",
      "print \"Rcm = \", rcm, \"m\"\n",
      "Icm = (P*L*W*H/N)*sum(((r(x,y,z)-rcm)**2))\n",
      "print \"Icm = \", Icm, \"kg m^2\""
     ],
     "language": "python",
     "metadata": {},
     "outputs": [
      {
       "output_type": "stream",
       "stream": "stdout",
       "text": [
        "M =  4.0 kg\n",
        "Rcm = "
       ]
      },
      {
       "output_type": "stream",
       "stream": "stdout",
       "text": [
        " 2.15358066111 m\n",
        "Icm = "
       ]
      },
      {
       "output_type": "stream",
       "stream": "stdout",
       "text": [
        " 10.7145964568 kg m^2\n"
       ]
      }
     ],
     "prompt_number": 26
    },
    {
     "cell_type": "code",
     "collapsed": false,
     "input": [
      "#c)\n",
      "print \"4 kg is calculated mass for the density held constant.\"\n",
      "print \"2 m is the calculculated center of mass for the density held constant\"\n",
      "print \"10 kg m**2 is the caclulated moment of inertia for the density held constant\"\n",
      "print \"Sig figs for the others are above\""
     ],
     "language": "python",
     "metadata": {},
     "outputs": [
      {
       "output_type": "stream",
       "stream": "stdout",
       "text": [
        "4 kg is calculated mass for the density held constant.\n",
        "2 m is the calculculated center of mass for the density held constant\n",
        "10 kg m**2 is the caclulated moment of inertia for the density held constant\n",
        "Sig figs for the others are above\n"
       ]
      }
     ],
     "prompt_number": 34
    },
    {
     "cell_type": "code",
     "collapsed": false,
     "input": [],
     "language": "python",
     "metadata": {},
     "outputs": []
    }
   ],
   "metadata": {}
  }
 ]
}