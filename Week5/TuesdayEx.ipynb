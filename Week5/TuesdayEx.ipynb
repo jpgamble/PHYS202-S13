{
 "metadata": {
  "name": "TuesdayEx"
 },
 "nbformat": 3,
 "nbformat_minor": 0,
 "worksheets": [
  {
   "cells": [
    {
     "cell_type": "markdown",
     "metadata": {},
     "source": [
      "Integration\n",
      "=\n",
      "Example 1\n",
      "-\n",
      "Trapezoidal rule to calculate the integral of $x^4 - 2x + 1$ from $x$= 0 $x$=2"
     ]
    },
    {
     "cell_type": "code",
     "collapsed": false,
     "input": [
      "f = lambda x: x**4 - 2*x + 1 "
     ],
     "language": "python",
     "metadata": {},
     "outputs": [],
     "prompt_number": 1
    },
    {
     "cell_type": "code",
     "collapsed": false,
     "input": [
      "N = 10 \n",
      "a=0.0\n",
      "b=2.0\n",
      "h= (b-a)/N\n",
      "s = .5*f(a) + .5*f(b)\n",
      "for k in range(1, N):\n",
      "    s += f(a+k*h)\n",
      "print(h*s)\n"
     ],
     "language": "python",
     "metadata": {},
     "outputs": [
      {
       "output_type": "stream",
       "stream": "stdout",
       "text": [
        "4.50656\n"
       ]
      }
     ],
     "prompt_number": 2
    },
    {
     "cell_type": "markdown",
     "metadata": {},
     "source": [
      "Exercise 1: What are the results for $N$ = 100 and $N$ = 1000? "
     ]
    },
    {
     "cell_type": "code",
     "collapsed": false,
     "input": [
      "N = 100\n",
      "a=0.0\n",
      "b=2.0\n",
      "h= (b-a)/N\n",
      "s = .5*f(a) + .5*f(b)\n",
      "for k in range(1, N):\n",
      "    s += f(a+k*h)\n",
      "print(h*s)"
     ],
     "language": "python",
     "metadata": {},
     "outputs": [
      {
       "output_type": "stream",
       "stream": "stdout",
       "text": [
        "4.401066656\n"
       ]
      }
     ],
     "prompt_number": 3
    },
    {
     "cell_type": "code",
     "collapsed": false,
     "input": [
      "N = 1000\n",
      "a=0.0\n",
      "b=2.0\n",
      "h= (b-a)/N\n",
      "s = .5*f(a) + .5*f(b)\n",
      "for k in range(1, N):\n",
      "    s += f(a+k*h)\n",
      "print(h*s)\n"
     ],
     "language": "python",
     "metadata": {},
     "outputs": [
      {
       "output_type": "stream",
       "stream": "stdout",
       "text": [
        "4.40001066667\n"
       ]
      }
     ],
     "prompt_number": 4
    },
    {
     "cell_type": "markdown",
     "metadata": {},
     "source": [
      "Exercise 2:\n",
      "=\n",
      "    a) Write code to calc an approximate vale for the integral from example 1 using simpsons rule with 10 slices.\n",
      "    b) Run the code and compare your result to the known corect value of 4.4. What is the fractional error on the calc?\n",
      "    c) Modify the code to use a hundred slices instead, then a thousand. Note the improvement in teh result. How do the results compare wiht those for the trapezoidal rule with the same number of slices?\n",
      "  "
     ]
    },
    {
     "cell_type": "code",
     "collapsed": false,
     "input": [
      "f = lambda x: x**4 - 2*x + 1   "
     ],
     "language": "python",
     "metadata": {},
     "outputs": [],
     "prompt_number": 6
    },
    {
     "cell_type": "code",
     "collapsed": false,
     "input": [
      "#a)\n",
      "N = 10\n",
      "a=0.0\n",
      "b=2.0\n",
      "h= (b-a)/N\n",
      "r = 0\n",
      "d = 0\n",
      "s = f(a) + f(b)\n",
      "for k in range(1,N/2):\n",
      "    r += 2* f(a+2*k*h)\n",
      "for k in range(1, N/2 +1 ):\n",
      "    d += 4* f(a+(2*k-1)*h) \n",
      "v  = s + d + r\n",
      "print((1/3.)*h*v)\n"
     ],
     "language": "python",
     "metadata": {},
     "outputs": [
      {
       "output_type": "stream",
       "stream": "stdout",
       "text": [
        "4.40042666667\n"
       ]
      }
     ],
     "prompt_number": 7
    },
    {
     "cell_type": "code",
     "collapsed": false,
     "input": [
      "#b)\n",
      "w = 100 * (4.4 - (1/3.)*h*v)/ 4.4\n",
      "print w"
     ],
     "language": "python",
     "metadata": {},
     "outputs": [
      {
       "output_type": "stream",
       "stream": "stdout",
       "text": [
        "-0.00969696969697\n"
       ]
      }
     ],
     "prompt_number": 8
    },
    {
     "cell_type": "code",
     "collapsed": false,
     "input": [
      "#c)\n",
      "N = 100\n",
      "a=0.0\n",
      "b=2.0\n",
      "h= (b-a)/N\n",
      "r = 0\n",
      "d = 0\n",
      "s = f(a) + f(b)\n",
      "for k in range(1,N/2):\n",
      "    r += 2* f(a+2*k*h)\n",
      "for k in range(1, N/2 +1 ):\n",
      "    d += 4* f(a+(2*k-1)*h) \n",
      "v  = s + d + r\n",
      "print((1/3.)*h*v)\n"
     ],
     "language": "python",
     "metadata": {},
     "outputs": [
      {
       "output_type": "stream",
       "stream": "stdout",
       "text": [
        "4.40000004267\n"
       ]
      }
     ],
     "prompt_number": 9
    },
    {
     "cell_type": "code",
     "collapsed": false,
     "input": [
      "import scipy.integrate as integrate"
     ],
     "language": "python",
     "metadata": {},
     "outputs": [],
     "prompt_number": 10
    },
    {
     "cell_type": "markdown",
     "metadata": {},
     "source": [
      "Example 2: General integration(quad)\n",
      "="
     ]
    },
    {
     "cell_type": "code",
     "collapsed": false,
     "input": [
      "import scipy\n",
      "from scipy.special import jv\n",
      "result = integrate.quad(lambda x: scipy.special.jv(2.5,x), 0 , 4.5)\n",
      "print result"
     ],
     "language": "python",
     "metadata": {},
     "outputs": [
      {
       "output_type": "stream",
       "stream": "stdout",
       "text": [
        "(1.1178179380783249, 7.866317182537236e-09)\n"
       ]
      }
     ],
     "prompt_number": 11
    },
    {
     "cell_type": "code",
     "collapsed": false,
     "input": [
      "from scipy.special import fresnel\n",
      "I = sqrt(2/pi) * (18.0/27*sqrt(2)*cos(4.5)-4.0/27*sqrt(2)*sin(4.5) +\n",
      " sqrt(2*pi)*scipy.special.fresnel(3/sqrt(pi))[0])\n",
      "print I"
     ],
     "language": "python",
     "metadata": {},
     "outputs": [
      {
       "output_type": "stream",
       "stream": "stdout",
       "text": [
        "1.11781793809\n"
       ]
      }
     ],
     "prompt_number": 12
    },
    {
     "cell_type": "code",
     "collapsed": false,
     "input": [
      "print abs(result[0] - I)"
     ],
     "language": "python",
     "metadata": {},
     "outputs": [
      {
       "output_type": "stream",
       "stream": "stdout",
       "text": [
        "1.03761443881e-11\n"
       ]
      }
     ],
     "prompt_number": 13
    },
    {
     "cell_type": "markdown",
     "metadata": {},
     "source": [
      "Exercise 3\n",
      "=\n",
      "a) Read in the data and use trapz, and simps, and romb to approx distance traveled by the particle in the x direction as a function of time\n",
      "\n",
      "b) How different are the results? print the differences between the results for traps vs simps, and traps vs romb, and simps, vs romb\n",
      "\n",
      "c) Make a graph that shows on the same plot both the original velocity curve and the distances traveled as a function of time."
     ]
    },
    {
     "cell_type": "code",
     "collapsed": false,
     "input": [
      "#a)\n",
      "data = loadtxt(\"velocities.txt\",float)\n",
      "x = data[:,0]\n",
      "y = data[:,1]"
     ],
     "language": "python",
     "metadata": {},
     "outputs": [],
     "prompt_number": 14
    },
    {
     "cell_type": "code",
     "collapsed": false,
     "input": [
      "#A)\n",
      "t = np.trapz(data)\n",
      "print t\n",
      "bloop = integrate.simps(data)\n",
      "print bloop"
     ],
     "language": "python",
     "metadata": {},
     "outputs": [
      {
       "output_type": "stream",
       "stream": "stdout",
       "text": [
        "[  0.          0.534739    1.068847    1.602166    2.1345415   2.665828\n",
        "   3.1958855   3.7245835   4.251799    4.7774175   5.301335    5.823456\n",
        "   6.343696    6.8619805   7.3782455   7.892438    8.404516    8.9144485\n",
        "   9.422214    9.927804   10.4312195  10.9324725  11.431586   11.928592\n",
        "  12.4235335  12.916463   13.407441   13.8965385  14.383833   14.869412\n",
        "  15.353368   15.8358015  16.316819   16.7965325  17.275059   17.7525195\n",
        "  18.2290385  18.704744   19.1797665  19.654237   20.128288   20.6020535\n",
        "  21.075665   21.5492545  22.0229525  22.496886   22.97118    23.445956\n",
        "  23.921331   24.3974185  24.8743265  25.3521575  25.831008   26.310968\n",
        "  26.7921215  27.2745455  27.758309   28.243474   28.7300955  29.2182185\n",
        "  29.707883   30.199118   30.6919465  31.1863825  31.682432   32.180093\n",
        "  32.6793555  33.180202   33.682607   34.186539   34.6919575  35.198817\n",
        "  35.707064   36.21664    36.7274805  37.239515   37.7526695  38.266864\n",
        "  38.782015   39.2980355  39.814835   40.3323215  40.8503995  41.368973\n",
        "  41.887943   42.4072125  42.926682   43.446254   43.9658305  44.485315\n",
        "  45.0046135  45.523634   46.042287   46.560485   47.078145   47.5951875\n",
        "  48.1115365  48.627122   49.1418765  49.6557395  50.168654 ]\n",
        "[  0.          0.534739    1.068847    1.602166    2.1345415   2.665828\n",
        "   3.1958855   3.7245835   4.251799    4.7774175   5.301335    5.823456\n",
        "   6.343696    6.8619805   7.3782455   7.892438    8.404516    8.9144485\n",
        "   9.422214    9.927804   10.4312195  10.9324725  11.431586   11.928592\n",
        "  12.4235335  12.916463   13.407441   13.8965385  14.383833   14.869412\n",
        "  15.353368   15.8358015  16.316819   16.7965325  17.275059   17.7525195\n",
        "  18.2290385  18.704744   19.1797665  19.654237   20.128288   20.6020535\n",
        "  21.075665   21.5492545  22.0229525  22.496886   22.97118    23.445956\n",
        "  23.921331   24.3974185  24.8743265  25.3521575  25.831008   26.310968\n",
        "  26.7921215  27.2745455  27.758309   28.243474   28.7300955  29.2182185\n",
        "  29.707883   30.199118   30.6919465  31.1863825  31.682432   32.180093\n",
        "  32.6793555  33.180202   33.682607   34.186539   34.6919575  35.198817\n",
        "  35.707064   36.21664    36.7274805  37.239515   37.7526695  38.266864\n",
        "  38.782015   39.2980355  39.814835   40.3323215  40.8503995  41.368973\n",
        "  41.887943   42.4072125  42.926682   43.446254   43.9658305  44.485315\n",
        "  45.0046135  45.523634   46.042287   46.560485   47.078145   47.5951875\n",
        "  48.1115365  48.627122   49.1418765  49.6557395  50.168654 ]\n"
       ]
      }
     ],
     "prompt_number": 19
    },
    {
     "cell_type": "code",
     "collapsed": false,
     "input": [
      "#b)\n",
      "print t - bloop"
     ],
     "language": "python",
     "metadata": {},
     "outputs": [
      {
       "output_type": "stream",
       "stream": "stdout",
       "text": [
        "[ 0.  0.  0.  0.  0.  0.  0.  0.  0.  0.  0.  0.  0.  0.  0.  0.  0.  0.\n",
        "  0.  0.  0.  0.  0.  0.  0.  0.  0.  0.  0.  0.  0.  0.  0.  0.  0.  0.\n",
        "  0.  0.  0.  0.  0.  0.  0.  0.  0.  0.  0.  0.  0.  0.  0.  0.  0.  0.\n",
        "  0.  0.  0.  0.  0.  0.  0.  0.  0.  0.  0.  0.  0.  0.  0.  0.  0.  0.\n",
        "  0.  0.  0.  0.  0.  0.  0.  0.  0.  0.  0.  0.  0.  0.  0.  0.  0.  0.\n",
        "  0.  0.  0.  0.  0.  0.  0.  0.  0.  0.  0.]\n"
       ]
      }
     ],
     "prompt_number": 17
    },
    {
     "cell_type": "code",
     "collapsed": false,
     "input": [
      "#c\n",
      "plot(x, bloop,'r+',  x, t, 'g.', x, y) "
     ],
     "language": "python",
     "metadata": {},
     "outputs": [
      {
       "output_type": "pyout",
       "prompt_number": 18,
       "text": [
        "[<matplotlib.lines.Line2D at 0x7f2fc50>,\n",
        " <matplotlib.lines.Line2D at 0x7f2fe10>,\n",
        " <matplotlib.lines.Line2D at 0x7f32320>]"
       ]
      },
      {
       "output_type": "display_data",
       "png": "[encoded data removed]",
       "text": [
        "<matplotlib.figure.Figure at 0x7f0a978>"
       ]
      }
     ],
     "prompt_number": 18
    },
    {
     "cell_type": "code",
     "collapsed": false,
     "input": [],
     "language": "python",
     "metadata": {},
     "outputs": []
    }
   ],
   "metadata": {}
  }
 ]
}