{
 "metadata": {
  "name": "ProjectEuler4"
 },
 "nbformat": 3,
 "nbformat_minor": 0,
 "worksheets": [
  {
   "cells": [
    {
     "cell_type": "markdown",
     "metadata": {},
     "source": [
      "Largest palindrome product\n",
      "=\n",
      "Problem 4\n",
      "-\n",
      "A palindromic number reads the same both ways. The largest palindrome made from the product of two 2-digit numbers is 9009 = 91 99.\n",
      "\n",
      "Find the largest palindrome made from the product of two 3-digit numbers."
     ]
    },
    {
     "cell_type": "code",
     "collapsed": false,
     "input": [
      "def palindrome(k):\n",
      "    t = []\n",
      "    for i in str(k):\n",
      "        t.append(i)\n",
      "    if t[0] == t[len(t)-1] and t[1] == t[-2] and t[2] == t[-3]:\n",
      "        return True"
     ],
     "language": "python",
     "metadata": {},
     "outputs": [],
     "prompt_number": 2
    },
    {
     "cell_type": "code",
     "collapsed": false,
     "input": [
      "palindrome(122321)\n",
      "palindrome(2112)"
     ],
     "language": "python",
     "metadata": {},
     "outputs": [
      {
       "output_type": "pyout",
       "prompt_number": 22,
       "text": [
        "True"
       ]
      }
     ],
     "prompt_number": 22
    },
    {
     "cell_type": "code",
     "collapsed": false,
     "input": [
      "h = []\n",
      "f = []\n",
      "r = []\n",
      "for g in range(99, 1000):\n",
      "    for y in range(99, 1000):\n",
      "        o = y*g\n",
      "        if palindrome(o) == True:\n",
      "            h.append(o)\n",
      "            f.append(y)\n",
      "            r.append(g)\n",
      "print 'The largest palindrome made from the product of two 3-digit numbers is: ', f[-1],'*',r[-1],'=' ,h[-1]\n",
      "        "
     ],
     "language": "python",
     "metadata": {},
     "outputs": [
      {
       "output_type": "stream",
       "stream": "stdout",
       "text": [
        "The largest palindrome made from the product of two 3-digit numbers is:  583 * 995 = 580085\n"
       ]
      }
     ],
     "prompt_number": 4
    },
    {
     "cell_type": "code",
     "collapsed": false,
     "input": [
      "def palindrome(k):\n",
      "    t = []\n",
      "    for i in str(k):\n",
      "        t.append(i)\n",
      "    if t[0] == t[len(t)-1] and t[1] == t[-2]:\n",
      "        return True\n",
      "h = []\n",
      "f = []\n",
      "r = []\n",
      "for g in range(9, 100):\n",
      "    for y in range(9, 100):\n",
      "        o = y*g\n",
      "        if palindrome(o) == True:\n",
      "            h.append(o)\n",
      "            f.append(y)\n",
      "            r.append(g)\n",
      "print 'The largest palindrome made from the product of two 2-digit numbers is: ', f[-1],'*',r[-1],'=' ,h[-1]\n",
      "        "
     ],
     "language": "python",
     "metadata": {},
     "outputs": [
      {
       "output_type": "stream",
       "stream": "stdout",
       "text": [
        "The largest palindrome made from the product of two 2-digit numbers is:  91 * 99 = 9009\n"
       ]
      }
     ],
     "prompt_number": 5
    },
    {
     "cell_type": "code",
     "collapsed": false,
     "input": [],
     "language": "python",
     "metadata": {},
     "outputs": []
    }
   ],
   "metadata": {}
  }
 ]
}