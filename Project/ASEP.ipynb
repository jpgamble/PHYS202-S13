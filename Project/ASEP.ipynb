{
 "metadata": {
  "name": "ASEP"
 },
 "nbformat": 3,
 "nbformat_minor": 0,
 "worksheets": [
  {
   "cells": [
    {
     "cell_type": "code",
     "collapsed": false,
     "input": [
      "import random"
     ],
     "language": "python",
     "metadata": {},
     "outputs": [],
     "prompt_number": 3
    },
    {
     "cell_type": "code",
     "collapsed": false,
     "input": [
      "def newpos(pos, vel, index):\n",
      "    pos[index] = pos[index] + vel[index]\n",
      "    if pos[index] > road:\n",
      "        pos[index] = pos[index] - 40\n",
      "    return pos"
     ],
     "language": "python",
     "metadata": {},
     "outputs": [],
     "prompt_number": 4
    },
    {
     "cell_type": "code",
     "collapsed": false,
     "input": [
      "def ASEP(pos, vel, road, cars):\n",
      "    pos = zeros(cars)\n",
      "    vel = zeros(cars)\n",
      "    for i in range(len(pos)-1):\n",
      "        pos[i] = randint(0, road)\n",
      "    for k in range(len(vel)-1):\n",
      "        vel[k] = randint(0, road-cars)\n",
      "    index = randint(0, len(pos)-1)\n",
      "    carpos = pos[index]\n",
      "    sortedpos = sort(pos)\n",
      "    random.randint(0, 1)\n",
      "    if carpos == (len(pos)-1):\n",
      "        gi = sortedpos[0]\n",
      "        if gi == 0:\n",
      "            vel = 0\n",
      "    else:\n",
      "        gi = (sortedpos[index+1] - sortedpos[index])\n",
      "        if gi == 0:\n",
      "            vel[index] = 0\n",
      "    if vel[index] > gi:\n",
      "        vel[index] == gi\n",
      "    elif vel[index] < gi and vel[index] < max(vel):\n",
      "        vel[index] = vel[index] + 1\n",
      "    newpos(pos, vel, index)\n",
      "    print \"ASEP Position is: \" + str(pos[index])\n",
      "    print \"ASEP Velocity is: \" + str(vel[index])\n",
      "    print \"ASEP Space between car and car before: \" + str(gi)\n",
      "    return pos[index], vel[index], gi"
     ],
     "language": "python",
     "metadata": {},
     "outputs": [],
     "prompt_number": 5
    },
    {
     "cell_type": "code",
     "collapsed": false,
     "input": [
      "def InitialCond(NCars, road):\n",
      "    pos = zeros(NCars)\n",
      "    vel = zeros(NCars)\n",
      "    for i in range(len(pos)-1):\n",
      "        pos[i] = randint(0, road)\n",
      "    for k in range(len(vel)-1):\n",
      "        vel[k] = randint(0, road)\n",
      "    return pos, vel"
     ],
     "language": "python",
     "metadata": {},
     "outputs": [],
     "prompt_number": 6
    },
    {
     "cell_type": "code",
     "collapsed": false,
     "input": [
      "cars = 5\n",
      "road = 40\n",
      "Ncars  = 10\n",
      "road = 40\n",
      "pos, vel = InitialCond(Ncars, road)\n",
      "ASEP(pos, vel, road, Ncars)"
     ],
     "language": "python",
     "metadata": {},
     "outputs": [
      {
       "output_type": "stream",
       "stream": "stdout",
       "text": [
        "ASEP Position is: 18.0\n",
        "ASEP Velocity is: 28.0\n",
        "ASEP Space between car and car before: 3.0\n"
       ]
      },
      {
       "output_type": "pyout",
       "prompt_number": 7,
       "text": [
        "(18.0, 28.0, 3.0)"
       ]
      }
     ],
     "prompt_number": 7
    },
    {
     "cell_type": "code",
     "collapsed": false,
     "input": [
      "N = 150\n",
      "Ncars = 10\n",
      "road = 40\n",
      "posi = zeros(N)\n",
      "veli = zeros(N)\n",
      "g= zeros(N)\n",
      "dens = zeros(N)\n",
      "avgvel = zeros(N)\n",
      "curr = zeros(N)\n",
      "conds = InitialCond(Ncars, road)\n",
      "pos= conds[0]\n",
      "vel = conds[1]\n",
      "for i in range(1, N-1):\n",
      "    posi[i], veli[i], g[i] = ASEP(pos,  vel, road, Ncars)\n",
      "    dens[i] = (posi[i])/road\n",
      "    avgvel[i] = average(veli[i])\n",
      "    curr[i] = dens[i]*avgvel[i]"
     ],
     "language": "python",
     "metadata": {},
     "outputs": [
      {
       "ename": "TypeError",
       "evalue": "'int' object has no attribute '__getitem__'",
       "output_type": "pyerr",
       "traceback": [
        "\u001b[1;31m---------------------------------------------------------------------------\u001b[0m\n\u001b[1;31mTypeError\u001b[0m                                 Traceback (most recent call last)",
        "\u001b[1;32m<ipython-input-19-6babeaa6b017>\u001b[0m in \u001b[0;36m<module>\u001b[1;34m()\u001b[0m\n\u001b[0;32m     12\u001b[0m \u001b[0mvel\u001b[0m \u001b[1;33m=\u001b[0m \u001b[0mconds\u001b[0m\u001b[1;33m[\u001b[0m\u001b[1;36m1\u001b[0m\u001b[1;33m]\u001b[0m\u001b[1;33m\u001b[0m\u001b[0m\n\u001b[0;32m     13\u001b[0m \u001b[1;32mfor\u001b[0m \u001b[0mi\u001b[0m \u001b[1;32min\u001b[0m \u001b[0mrange\u001b[0m\u001b[1;33m(\u001b[0m\u001b[1;36m1\u001b[0m\u001b[1;33m,\u001b[0m \u001b[0mN\u001b[0m\u001b[1;33m-\u001b[0m\u001b[1;36m1\u001b[0m\u001b[1;33m)\u001b[0m\u001b[1;33m:\u001b[0m\u001b[1;33m\u001b[0m\u001b[0m\n\u001b[1;32m---> 14\u001b[1;33m     \u001b[0mposi\u001b[0m\u001b[1;33m[\u001b[0m\u001b[0mi\u001b[0m\u001b[1;33m]\u001b[0m\u001b[1;33m,\u001b[0m \u001b[0mveli\u001b[0m\u001b[1;33m[\u001b[0m\u001b[0mi\u001b[0m\u001b[1;33m]\u001b[0m\u001b[1;33m,\u001b[0m \u001b[0mg\u001b[0m\u001b[1;33m[\u001b[0m\u001b[0mi\u001b[0m\u001b[1;33m]\u001b[0m \u001b[1;33m=\u001b[0m \u001b[0mASEP\u001b[0m\u001b[1;33m(\u001b[0m\u001b[0mpos\u001b[0m\u001b[1;33m,\u001b[0m  \u001b[0mvel\u001b[0m\u001b[1;33m,\u001b[0m \u001b[0mroad\u001b[0m\u001b[1;33m,\u001b[0m \u001b[0mNcars\u001b[0m\u001b[1;33m)\u001b[0m\u001b[1;33m\u001b[0m\u001b[0m\n\u001b[0m\u001b[0;32m     15\u001b[0m     \u001b[0mdens\u001b[0m\u001b[1;33m[\u001b[0m\u001b[0mi\u001b[0m\u001b[1;33m]\u001b[0m \u001b[1;33m=\u001b[0m \u001b[1;33m(\u001b[0m\u001b[0mposi\u001b[0m\u001b[1;33m[\u001b[0m\u001b[0mi\u001b[0m\u001b[1;33m]\u001b[0m\u001b[1;33m)\u001b[0m\u001b[1;33m/\u001b[0m\u001b[0mroad\u001b[0m\u001b[1;33m\u001b[0m\u001b[0m\n\u001b[0;32m     16\u001b[0m     \u001b[0mavgvel\u001b[0m\u001b[1;33m[\u001b[0m\u001b[0mi\u001b[0m\u001b[1;33m]\u001b[0m \u001b[1;33m=\u001b[0m \u001b[0maverage\u001b[0m\u001b[1;33m(\u001b[0m\u001b[0mveli\u001b[0m\u001b[1;33m[\u001b[0m\u001b[0mi\u001b[0m\u001b[1;33m]\u001b[0m\u001b[1;33m)\u001b[0m\u001b[1;33m\u001b[0m\u001b[0m\n",
        "\u001b[1;32m<ipython-input-5-213d76372d3a>\u001b[0m in \u001b[0;36mASEP\u001b[1;34m(pos, vel, road, cars)\u001b[0m\n\u001b[0;32m     18\u001b[0m         \u001b[1;32mif\u001b[0m \u001b[0mgi\u001b[0m \u001b[1;33m==\u001b[0m \u001b[1;36m0\u001b[0m\u001b[1;33m:\u001b[0m\u001b[1;33m\u001b[0m\u001b[0m\n\u001b[0;32m     19\u001b[0m             \u001b[0mvel\u001b[0m\u001b[1;33m[\u001b[0m\u001b[0mindex\u001b[0m\u001b[1;33m]\u001b[0m \u001b[1;33m=\u001b[0m \u001b[1;36m0\u001b[0m\u001b[1;33m\u001b[0m\u001b[0m\n\u001b[1;32m---> 20\u001b[1;33m     \u001b[1;32mif\u001b[0m \u001b[0mvel\u001b[0m\u001b[1;33m[\u001b[0m\u001b[0mindex\u001b[0m\u001b[1;33m]\u001b[0m \u001b[1;33m>\u001b[0m \u001b[0mgi\u001b[0m\u001b[1;33m:\u001b[0m\u001b[1;33m\u001b[0m\u001b[0m\n\u001b[0m\u001b[0;32m     21\u001b[0m         \u001b[0mvel\u001b[0m\u001b[1;33m[\u001b[0m\u001b[0mindex\u001b[0m\u001b[1;33m]\u001b[0m \u001b[1;33m==\u001b[0m \u001b[0mgi\u001b[0m\u001b[1;33m\u001b[0m\u001b[0m\n\u001b[0;32m     22\u001b[0m     \u001b[1;32melif\u001b[0m \u001b[0mvel\u001b[0m\u001b[1;33m[\u001b[0m\u001b[0mindex\u001b[0m\u001b[1;33m]\u001b[0m \u001b[1;33m<\u001b[0m \u001b[0mgi\u001b[0m \u001b[1;32mand\u001b[0m \u001b[0mvel\u001b[0m\u001b[1;33m[\u001b[0m\u001b[0mindex\u001b[0m\u001b[1;33m]\u001b[0m \u001b[1;33m<\u001b[0m \u001b[0mmax\u001b[0m\u001b[1;33m(\u001b[0m\u001b[0mvel\u001b[0m\u001b[1;33m)\u001b[0m\u001b[1;33m:\u001b[0m\u001b[1;33m\u001b[0m\u001b[0m\n",
        "\u001b[1;31mTypeError\u001b[0m: 'int' object has no attribute '__getitem__'"
       ]
      },
      {
       "output_type": "stream",
       "stream": "stdout",
       "text": [
        "ASEP Position is: 6.0\n",
        "ASEP Velocity is: 16.0\n",
        "ASEP Space between car and car before: 1.0\n",
        "ASEP Position is: 29.0\n",
        "ASEP Velocity is: 16.0\n",
        "ASEP Space between car and car before: 6.0\n",
        "ASEP Position is: 0.0\n",
        "ASEP Velocity is: 0.0\n",
        "ASEP Space between car and car before: 0.0\n",
        "ASEP Position is: 21.0\n",
        "ASEP Velocity is: 16.0\n",
        "ASEP Space between car and car before: 5.0\n",
        "ASEP Position is: 21.0\n",
        "ASEP Velocity is: 4.0\n",
        "ASEP Space between car and car before: 5.0\n",
        "ASEP Position is: 12.0\n",
        "ASEP Velocity is: 22.0\n",
        "ASEP Space between car and car before: 7.0\n",
        "ASEP Position is: 32.0\n",
        "ASEP Velocity is: 22.0\n",
        "ASEP Space between car and car before: 10.0\n",
        "ASEP Position is: 15.0\n",
        "ASEP Velocity is: 18.0\n",
        "ASEP Space between car and car before: 6.0\n",
        "ASEP Position is: 24.0\n",
        "ASEP Velocity is: 12.0\n",
        "ASEP Space between car and car before: 9.0\n",
        "ASEP Position is: 33.0\n",
        "ASEP Velocity is: 5.0\n",
        "ASEP Space between car and car before: 7.0\n",
        "ASEP Position is: 2.0\n",
        "ASEP Velocity is: 27.0\n",
        "ASEP Space between car and car before: 2.0\n",
        "ASEP Position is: 11.0\n",
        "ASEP Velocity is: 23.0\n",
        "ASEP Space between car and car before: 1.0\n",
        "ASEP Position is: 39.0\n",
        "ASEP Velocity is: 23.0\n",
        "ASEP Space between car and car before: 2.0\n",
        "ASEP Position is: 28.0\n",
        "ASEP Velocity is: 2.0\n",
        "ASEP Space between car and car before: 3.0\n",
        "ASEP Position is: 31.0\n",
        "ASEP Velocity is: 28.0\n",
        "ASEP Space between car and car before: 6.0\n",
        "ASEP Position is: 24.0\n",
        "ASEP Velocity is: 6.0\n",
        "ASEP Space between car and car before: 15.0\n",
        "ASEP Position is: 28.0\n",
        "ASEP Velocity is: 3.0\n",
        "ASEP Space between car and car before: 1.0\n",
        "ASEP Position is: 13.0\n",
        "ASEP Velocity is: 1.0\n",
        "ASEP Space between car and car before: 3.0\n",
        "ASEP Position is: 8.0\n",
        "ASEP Velocity is: 6.0\n",
        "ASEP Space between car and car before: 3.0\n",
        "ASEP Position is: 1.0\n",
        "ASEP Velocity is: 27.0\n",
        "ASEP Space between car and car before: 3.0\n",
        "ASEP Position is: 1.0\n",
        "ASEP Velocity is: 14.0\n",
        "ASEP Space between car and car before: 10.0\n",
        "ASEP Position is: 1.0\n",
        "ASEP Velocity is: 7.0\n",
        "ASEP Space between car and car before: 2.0\n",
        "ASEP Position is: 36.0\n",
        "ASEP Velocity is: 16.0\n",
        "ASEP Space between car and car before: 2.0\n",
        "ASEP Position is: 6.0\n",
        "ASEP Velocity is: 13.0\n",
        "ASEP Space between car and car before: 5.0\n",
        "ASEP Position is: 31.0\n",
        "ASEP Velocity is: 4.0\n",
        "ASEP Space between car and car before: 3.0\n",
        "ASEP Position is: 33.0\n",
        "ASEP Velocity is: 5.0\n",
        "ASEP Space between car and car before: 1.0\n",
        "ASEP Position is: 30.0\n",
        "ASEP Velocity is: 3.0\n",
        "ASEP Space between car and car before: 1.0\n",
        "ASEP Position is: 37.0\n",
        "ASEP Velocity is: 5.0\n",
        "ASEP Space between car and car before: 2.0\n",
        "ASEP Position is: 23.0\n",
        "ASEP Velocity is: 20.0\n",
        "ASEP Space between car and car before: 3.0\n",
        "ASEP Position is: 5.0\n",
        "ASEP Velocity is: 19.0\n",
        "ASEP Space between car and car before: 10.0\n",
        "ASEP Position is: 39.0\n",
        "ASEP Velocity is: 28.0\n",
        "ASEP Space between car and car before: 1.0\n",
        "ASEP Position is: 4.0\n",
        "ASEP Velocity is: 0.0\n",
        "ASEP Space between car and car before: 0.0\n",
        "ASEP Position is: 7.0\n",
        "ASEP Velocity is: 24.0\n",
        "ASEP Space between car and car before: 2.0\n",
        "ASEP Position is: 6.0\n",
        "ASEP Velocity is: 0.0\n",
        "ASEP Space between car and car before: 0.0\n",
        "ASEP Position is: 15.0\n",
        "ASEP Velocity is: 10.0\n",
        "ASEP Space between car and car before: 4.0\n",
        "ASEP Position is: 40.0\n",
        "ASEP Velocity is: 16.0\n",
        "ASEP Space between car and car before: 6.0\n",
        "ASEP Position is: 19.0\n",
        "ASEP Velocity is: 15.0\n",
        "ASEP Space between car and car before: 1.0\n",
        "ASEP Position is: 33.0\n",
        "ASEP Velocity is: 7.0\n",
        "ASEP Space between car and car before: 2.0\n",
        "ASEP Position is: 18.0\n",
        "ASEP Velocity is: 24.0\n",
        "ASEP Space between car and car before: 11.0\n",
        "ASEP Position is: 32.0\n",
        "ASEP Velocity is: 19.0\n",
        "ASEP Space between car and car before: 3.0\n",
        "ASEP Position is: 12.0\n",
        "ASEP Velocity is: 0.0\n",
        "ASEP Space between car and car before: 0.0\n",
        "ASEP Position is: 38.0\n",
        "ASEP Velocity is: 19.0\n",
        "ASEP Space between car and car before: 3.0\n",
        "ASEP Position is: 36.0\n",
        "ASEP Velocity is: 23.0\n",
        "ASEP Space between car and car before: 1.0\n",
        "ASEP Position is: 18.0\n",
        "ASEP Velocity is: 3.0\n",
        "ASEP Space between car and car before: 10.0\n",
        "ASEP Position is: 11.0\n",
        "ASEP Velocity is: 12.0\n",
        "ASEP Space between car and car before: 5.0\n",
        "ASEP Position is: 4.0\n",
        "ASEP Velocity is: 6.0\n",
        "ASEP Space between car and car before: 5.0\n",
        "ASEP Position is: 32.0\n",
        "ASEP Velocity is: 18.0\n",
        "ASEP Space between car and car before: 1.0\n",
        "ASEP Position is: 17.0\n",
        "ASEP Velocity is: 6.0\n",
        "ASEP Space between car and car before: 3.0\n",
        "ASEP Position is: 11.0\n",
        "ASEP Velocity is: 4.0\n",
        "ASEP Space between car and car before: 3.0\n",
        "ASEP Position is: 16.0\n",
        "ASEP Velocity is: 2.0\n",
        "ASEP Space between car and car before: 2.0\n",
        "ASEP Position is: 9.0\n",
        "ASEP Velocity is: 23.0\n",
        "ASEP Space between car and car before: 3.0\n",
        "ASEP Position is: 38.0\n",
        "ASEP Velocity is: 15.0\n",
        "ASEP Space between car and car before: 3.0\n",
        "ASEP Position is: 40.0\n",
        "ASEP Velocity is: 3.0\n",
        "ASEP Space between car and car before: 12.0\n",
        "ASEP Position is: 7.0\n",
        "ASEP Velocity is: 5.0\n",
        "ASEP Space between car and car before: 1.0\n"
       ]
      }
     ],
     "prompt_number": 19
    },
    {
     "cell_type": "code",
     "collapsed": false,
     "input": [
      "t = arange(0, 150)\n",
      "plot(t, posi)\n",
      "show()"
     ],
     "language": "python",
     "metadata": {},
     "outputs": [
      {
       "output_type": "display_data",
       "png": "[encoded data removed]",
       "text": [
        "<matplotlib.figure.Figure at 0x81853c8>"
       ]
      }
     ],
     "prompt_number": 20
    },
    {
     "cell_type": "code",
     "collapsed": false,
     "input": [
      "plot(t, curr)\n",
      "show()"
     ],
     "language": "python",
     "metadata": {},
     "outputs": [
      {
       "output_type": "display_data",
       "png": "[encoded data removed]",
       "text": [
        "<matplotlib.figure.Figure at 0x7fba518>"
       ]
      }
     ],
     "prompt_number": 21
    },
    {
     "cell_type": "code",
     "collapsed": false,
     "input": [
      "plot(dens, posi)\n",
      "show()"
     ],
     "language": "python",
     "metadata": {},
     "outputs": [
      {
       "output_type": "display_data",
       "png": "[encoded data removed]",
       "text": [
        "<matplotlib.figure.Figure at 0x81e0ef0>"
       ]
      }
     ],
     "prompt_number": 22
    },
    {
     "cell_type": "code",
     "collapsed": false,
     "input": [
      "def roading(road):\n",
      "    f =[]\n",
      "    for d in range(road):\n",
      "        f.append(d)"
     ],
     "language": "python",
     "metadata": {},
     "outputs": [],
     "prompt_number": 13
    },
    {
     "cell_type": "code",
     "collapsed": false,
     "input": [
      "def ASEP2(pos, vel, road, cars):\n",
      "    pos = zeros(cars)\n",
      "    vel = zeros(cars)\n",
      "    f=[]\n",
      "    f = roading(40)\n",
      "    for i in range(len(pos)-1):\n",
      "        b = int(rand(1)*road)\n",
      "        pos[i] = f[b]\n",
      "        f.remove(f[b])\n",
      "    for k in range(len(vel)-1):\n",
      "        vel[k] = randint(0, road-cars)\n",
      "    index = randint(0, len(pos)-1)\n",
      "    carpos = pos[index]\n",
      "    sortedpos = sort(pos)\n",
      "    random.randint(0, 1)\n",
      "    if carpos == (len(pos)-1):\n",
      "        gi = sortedpos[0]\n",
      "        if gi == 0:\n",
      "            vel = 0\n",
      "    else:\n",
      "        gi = (sortedpos[index+1] - sortedpos[index])\n",
      "        if gi == 0:\n",
      "            vel[index] = 0\n",
      "    if vel[index] > gi:\n",
      "        vel[index] == gi\n",
      "    elif vel[index] < gi and vel[index] < max(vel):\n",
      "        vel[index] = vel[index] + 1\n",
      "    newpos(pos, vel, index)\n",
      "    print \"ASEP Position is: \" + str(pos[index])\n",
      "    print \"ASEP Velocity is: \" + str(vel[index])\n",
      "    print \"ASEP Space between car and car before: \" + str(gi)\n",
      "    return pos[index], vel[index], gi"
     ],
     "language": "python",
     "metadata": {},
     "outputs": [],
     "prompt_number": 14
    },
    {
     "cell_type": "code",
     "collapsed": false,
     "input": [
      "cars = 5\n",
      "road = 40\n",
      "Ncars  = 10\n",
      "road = 40\n",
      "pos, vel = InitialCond(Ncars, road)\n",
      "ASEP2(pos, vel, road, Ncars)"
     ],
     "language": "python",
     "metadata": {},
     "outputs": [
      {
       "ename": "TypeError",
       "evalue": "'NoneType' object has no attribute '__getitem__'",
       "output_type": "pyerr",
       "traceback": [
        "\u001b[1;31m---------------------------------------------------------------------------\u001b[0m\n\u001b[1;31mTypeError\u001b[0m                                 Traceback (most recent call last)",
        "\u001b[1;32m<ipython-input-15-417a89707d79>\u001b[0m in \u001b[0;36m<module>\u001b[1;34m()\u001b[0m\n\u001b[0;32m      4\u001b[0m \u001b[0mroad\u001b[0m \u001b[1;33m=\u001b[0m \u001b[1;36m40\u001b[0m\u001b[1;33m\u001b[0m\u001b[0m\n\u001b[0;32m      5\u001b[0m \u001b[0mpos\u001b[0m\u001b[1;33m,\u001b[0m \u001b[0mvel\u001b[0m \u001b[1;33m=\u001b[0m \u001b[0mInitialCond\u001b[0m\u001b[1;33m(\u001b[0m\u001b[0mNcars\u001b[0m\u001b[1;33m,\u001b[0m \u001b[0mroad\u001b[0m\u001b[1;33m)\u001b[0m\u001b[1;33m\u001b[0m\u001b[0m\n\u001b[1;32m----> 6\u001b[1;33m \u001b[0mASEP2\u001b[0m\u001b[1;33m(\u001b[0m\u001b[0mpos\u001b[0m\u001b[1;33m,\u001b[0m \u001b[0mvel\u001b[0m\u001b[1;33m,\u001b[0m \u001b[0mroad\u001b[0m\u001b[1;33m,\u001b[0m \u001b[0mNcars\u001b[0m\u001b[1;33m)\u001b[0m\u001b[1;33m\u001b[0m\u001b[0m\n\u001b[0m",
        "\u001b[1;32m<ipython-input-14-baa4d8206781>\u001b[0m in \u001b[0;36mASEP2\u001b[1;34m(pos, vel, road, cars)\u001b[0m\n\u001b[0;32m      6\u001b[0m     \u001b[1;32mfor\u001b[0m \u001b[0mi\u001b[0m \u001b[1;32min\u001b[0m \u001b[0mrange\u001b[0m\u001b[1;33m(\u001b[0m\u001b[0mlen\u001b[0m\u001b[1;33m(\u001b[0m\u001b[0mpos\u001b[0m\u001b[1;33m)\u001b[0m\u001b[1;33m-\u001b[0m\u001b[1;36m1\u001b[0m\u001b[1;33m)\u001b[0m\u001b[1;33m:\u001b[0m\u001b[1;33m\u001b[0m\u001b[0m\n\u001b[0;32m      7\u001b[0m         \u001b[0mb\u001b[0m \u001b[1;33m=\u001b[0m \u001b[0mint\u001b[0m\u001b[1;33m(\u001b[0m\u001b[0mrand\u001b[0m\u001b[1;33m(\u001b[0m\u001b[1;36m1\u001b[0m\u001b[1;33m)\u001b[0m\u001b[1;33m*\u001b[0m\u001b[0mroad\u001b[0m\u001b[1;33m)\u001b[0m\u001b[1;33m\u001b[0m\u001b[0m\n\u001b[1;32m----> 8\u001b[1;33m         \u001b[0mpos\u001b[0m\u001b[1;33m[\u001b[0m\u001b[0mi\u001b[0m\u001b[1;33m]\u001b[0m \u001b[1;33m=\u001b[0m \u001b[0mf\u001b[0m\u001b[1;33m[\u001b[0m\u001b[0mb\u001b[0m\u001b[1;33m]\u001b[0m\u001b[1;33m\u001b[0m\u001b[0m\n\u001b[0m\u001b[0;32m      9\u001b[0m         \u001b[0mf\u001b[0m\u001b[1;33m.\u001b[0m\u001b[0mremove\u001b[0m\u001b[1;33m(\u001b[0m\u001b[0mf\u001b[0m\u001b[1;33m[\u001b[0m\u001b[0mb\u001b[0m\u001b[1;33m]\u001b[0m\u001b[1;33m)\u001b[0m\u001b[1;33m\u001b[0m\u001b[0m\n\u001b[0;32m     10\u001b[0m     \u001b[1;32mfor\u001b[0m \u001b[0mk\u001b[0m \u001b[1;32min\u001b[0m \u001b[0mrange\u001b[0m\u001b[1;33m(\u001b[0m\u001b[0mlen\u001b[0m\u001b[1;33m(\u001b[0m\u001b[0mvel\u001b[0m\u001b[1;33m)\u001b[0m\u001b[1;33m-\u001b[0m\u001b[1;36m1\u001b[0m\u001b[1;33m)\u001b[0m\u001b[1;33m:\u001b[0m\u001b[1;33m\u001b[0m\u001b[0m\n",
        "\u001b[1;31mTypeError\u001b[0m: 'NoneType' object has no attribute '__getitem__'"
       ]
      }
     ],
     "prompt_number": 15
    },
    {
     "cell_type": "code",
     "collapsed": false,
     "input": [],
     "language": "python",
     "metadata": {},
     "outputs": []
    }
   ],
   "metadata": {}
  }
 ]
}