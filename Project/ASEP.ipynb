{
 "metadata": {
  "name": "ASEP"
 },
 "nbformat": 3,
 "nbformat_minor": 0,
 "worksheets": [
  {
   "cells": [
    {
     "cell_type": "code",
     "collapsed": false,
     "input": [
      "import random"
     ],
     "language": "python",
     "metadata": {},
     "outputs": [],
     "prompt_number": 1
    },
    {
     "cell_type": "code",
     "collapsed": false,
     "input": [
      "def newpos(pos, vel, index):\n",
      "    pos[index] = pos[index] + vel[index]\n",
      "    if pos[index] > road:\n",
      "        pos[index] = pos[index] - 40\n",
      "    return pos"
     ],
     "language": "python",
     "metadata": {},
     "outputs": [],
     "prompt_number": 2
    },
    {
     "cell_type": "code",
     "collapsed": false,
     "input": [
      "def ASEP(pos, vel, road, cars):\n",
      "    pos = zeros(cars)\n",
      "    vel = zeros(cars)\n",
      "    for i in range(len(pos)-1):\n",
      "        pos[i] = randint(0, road)\n",
      "    for k in range(len(vel)-1):\n",
      "        vel[k] = randint(0, road-cars)\n",
      "    index = randint(0, len(pos)-1)\n",
      "    carpos = pos[index]\n",
      "    sortedpos = sort(pos)\n",
      "    random.randint(0, 1)\n",
      "    if carpos == (len(pos)-1):\n",
      "        gi = sortedpos[0]\n",
      "        if gi == 0:\n",
      "            vel = 0\n",
      "    else:\n",
      "        gi = (sortedpos[index+1] - sortedpos[index])\n",
      "        if gi == 0:\n",
      "            vel[index] = 0\n",
      "    if vel[index] > gi:\n",
      "        vel[index] == gi\n",
      "    elif vel[index] < gi and vel[index] < max(vel):\n",
      "        vel[index] = vel[index] + 1\n",
      "    newpos(pos, vel, index)\n",
      "    print \"ASEP Position is: \" + str(pos[index])\n",
      "    print \"ASEP Velocity is: \" + str(vel[index])\n",
      "    print \"ASEP Space between car and car before: \" + str(gi)\n",
      "    return pos[index], vel[index], gi"
     ],
     "language": "python",
     "metadata": {},
     "outputs": [],
     "prompt_number": 3
    },
    {
     "cell_type": "code",
     "collapsed": false,
     "input": [
      "def InitialCond(NCars, road):\n",
      "    pos = zeros(NCars)\n",
      "    vel = zeros(NCars)\n",
      "    for i in range(len(pos)-1):\n",
      "        pos[i] = randint(0, road)\n",
      "    for k in range(len(vel)-1):\n",
      "        vel[k] = randint(0, road)\n",
      "    return pos, vel"
     ],
     "language": "python",
     "metadata": {},
     "outputs": [],
     "prompt_number": 6
    },
    {
     "cell_type": "code",
     "collapsed": false,
     "input": [
      "cars = 5\n",
      "road = 40\n",
      "Ncars  = 10\n",
      "road = 40\n",
      "pos, vel = InitialCond(Ncars, road)\n",
      "ASEP(pos, vel, road, Ncars)"
     ],
     "language": "python",
     "metadata": {},
     "outputs": [
      {
       "output_type": "stream",
       "stream": "stdout",
       "text": [
        "ASEP Position is: 29.0\n",
        "ASEP Velocity is: 8.0\n",
        "ASEP Space between car and car before: 1.0\n"
       ]
      },
      {
       "output_type": "pyout",
       "prompt_number": 8,
       "text": [
        "(29.0, 8.0, 1.0)"
       ]
      }
     ],
     "prompt_number": 8
    },
    {
     "cell_type": "code",
     "collapsed": false,
     "input": [],
     "language": "python",
     "metadata": {},
     "outputs": []
    }
   ],
   "metadata": {}
  }
 ]
}