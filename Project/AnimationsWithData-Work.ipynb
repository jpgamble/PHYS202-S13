{
 "metadata": {
  "name": "AnimationsWithData-Work"
 },
 "nbformat": 3,
 "nbformat_minor": 0,
 "worksheets": [
  {
   "cells": [
    {
     "cell_type": "code",
     "collapsed": false,
     "input": [
      "import sys\n",
      "sys.path.insert(0,\"/c/Users/Jacob/JSAnimation\")\n",
      "from JSAnimation import IPython_display\n",
      "\n",
      "\n",
      "# create a simple animation\n",
      "fig = plt.figure()\n",
      "ax = plt.axes(xlim=(0, N), ylim=(0, Ncars))\n",
      "line, = ax.plot([], [], lw=2)\n",
      "\n",
      "x = np.linspace(0, 10, 1000)\n",
      "\n",
      "def init():\n",
      "    line.set_data([], [])\n",
      "    return line,\n",
      "\n",
      "def animate(i):\n",
      "    line.set_data(x, np.cos(i * 0.02 * np.pi) * np.sin(x - i * 0.02 * np.pi))\n",
      "    return line,\n",
      "\n",
      "animation.FuncAnimation(fig, animate, init_func=init,\n",
      "                        frames=100, interval=20, blit=True)"
     ],
     "language": "python",
     "metadata": {},
     "outputs": [
      {
       "ename": "ImportError",
       "evalue": "No module named JSAnimation",
       "output_type": "pyerr",
       "traceback": [
        "\u001b[1;31m---------------------------------------------------------------------------\u001b[0m\n\u001b[1;31mImportError\u001b[0m                               Traceback (most recent call last)",
        "\u001b[1;32m<ipython-input-9-98e8a903baaa>\u001b[0m in \u001b[0;36m<module>\u001b[1;34m()\u001b[0m\n\u001b[0;32m      1\u001b[0m \u001b[1;32mimport\u001b[0m \u001b[0msys\u001b[0m\u001b[1;33m\u001b[0m\u001b[0m\n\u001b[0;32m      2\u001b[0m \u001b[0msys\u001b[0m\u001b[1;33m.\u001b[0m\u001b[0mpath\u001b[0m\u001b[1;33m.\u001b[0m\u001b[0minsert\u001b[0m\u001b[1;33m(\u001b[0m\u001b[1;36m0\u001b[0m\u001b[1;33m,\u001b[0m\u001b[1;34m\"/c/Users/Jacob/JSAnimation\"\u001b[0m\u001b[1;33m)\u001b[0m\u001b[1;33m\u001b[0m\u001b[0m\n\u001b[1;32m----> 3\u001b[1;33m \u001b[1;32mfrom\u001b[0m \u001b[0mJSAnimation\u001b[0m \u001b[1;32mimport\u001b[0m \u001b[0mIPython_display\u001b[0m\u001b[1;33m\u001b[0m\u001b[0m\n\u001b[0m\u001b[0;32m      4\u001b[0m \u001b[1;33m\u001b[0m\u001b[0m\n\u001b[0;32m      5\u001b[0m \u001b[1;33m\u001b[0m\u001b[0m\n",
        "\u001b[1;31mImportError\u001b[0m: No module named JSAnimation"
       ]
      }
     ],
     "prompt_number": 9
    },
    {
     "cell_type": "code",
     "collapsed": false,
     "input": [
      "N = 80\n",
      "posi = posi1 = posi2 = zeros(N)\n",
      "veli = veli1 = veli2 = zeros(N)\n",
      "g= g1 = g2 = zeros(N)\n",
      "dens = dens1= dens2 = zeros(N)\n",
      "avgvel = avgvel1 = avgvel2 = zeros(N)\n",
      "curr = curr1 = curr2 = zeros(N)\n",
      "for i in range(N):\n",
      "    road = 40\n",
      "    Ncars = 10\n",
      "    conds = InitialCond(Ncars, road)\n",
      "    pos = pos1 = pos2= conds[0]\n",
      "    vel = vel1 = vel2 =conds[1]\n",
      "    posi[i], veli[i], g[i] = ASEP(pos,  vel, road)\n",
      "    posi2[i], veli2[i], g2[i] = STCA(pos2, vel2, road)\n",
      "    posi1[i], veli1[i], g1[i] = CA184(pos1, vel1, road)\n",
      "    dens[i] = posi[i]/road\n",
      "    dens1[i] = posi1[i]/road\n",
      "    dens2[i] = (posi2[i])/road\n",
      "    avgvel[i] = average(veli[i])\n",
      "    avgvel1[i] = average(veli1[i])\n",
      "    avgvel2[i] = average(veli2[i])\n",
      "    curr[i] = dens[i]*avgvel[i]\n",
      "    curr1[i] = dens1[i]*avgvel1[i]\n",
      "    curr2[i] = dens2[i]*avgvel2[i]"
     ],
     "language": "python",
     "metadata": {},
     "outputs": []
    },
    {
     "cell_type": "code",
     "collapsed": false,
     "input": [],
     "language": "python",
     "metadata": {},
     "outputs": []
    }
   ],
   "metadata": {}
  }
 ]
}