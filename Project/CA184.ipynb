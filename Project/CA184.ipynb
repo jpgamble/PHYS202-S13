{
 "metadata": {
  "name": "CA184"
 },
 "nbformat": 3,
 "nbformat_minor": 0,
 "worksheets": [
  {
   "cells": [
    {
     "cell_type": "code",
     "collapsed": false,
     "input": [
      "import random"
     ],
     "language": "python",
     "metadata": {},
     "outputs": [],
     "prompt_number": 1
    },
    {
     "cell_type": "code",
     "collapsed": false,
     "input": [
      "def newpos(pos, vel, index):\n",
      "    pos[index] = pos[index] + vel[index]\n",
      "    if pos[index] > road:\n",
      "        pos[index] = pos[index] - 40\n",
      "    return pos"
     ],
     "language": "python",
     "metadata": {},
     "outputs": [],
     "prompt_number": 2
    },
    {
     "cell_type": "code",
     "collapsed": false,
     "input": [
      "def InitialCond(NCars, road):\n",
      "    pos = zeros(NCars)\n",
      "    vel = zeros(NCars)\n",
      "    for i in range(len(pos)-1):\n",
      "        pos[i] = randint(0, road)\n",
      "    for k in range(len(vel)-1):\n",
      "        vel[k] = randint(0, road)\n",
      "    return pos, vel"
     ],
     "language": "python",
     "metadata": {},
     "outputs": [],
     "prompt_number": 3
    },
    {
     "cell_type": "code",
     "collapsed": false,
     "input": [
      "def CA184(pos, vel, road, cars):\n",
      "    pos = zeros(cars)\n",
      "    vel = zeros(cars)\n",
      "    for i in range(len(pos)-1):\n",
      "        pos[i] = randint(0, road)\n",
      "    for k in range(len(vel)-1):\n",
      "        vel[k] = randint(0, road-cars)\n",
      "    index = randint(0, len(pos)-1)\n",
      "    carpos = pos[index]\n",
      "    sortedpos = sort(pos)\n",
      "    prob = random.randint(0, 1)\n",
      "    if carpos == (len(pos)-1):\n",
      "        gi = sortedpos[0]\n",
      "        if gi == 0:\n",
      "            vel[index] = 0\n",
      "    else:\n",
      "        gi = (sortedpos[index+1] - sortedpos[index])\n",
      "        if gi == 0:\n",
      "            vel[index] = 0\n",
      "    if vel[index] > gi:\n",
      "        vel[index] == gi\n",
      "    elif vel[index] < gi and vel[index] < max(vel):\n",
      "        vel[index] = vel[index] + 1\n",
      "    else:\n",
      "        vel[index] = vel[index]*prob\n",
      "    newpos(pos, vel, index)\n",
      "    print \"CA184 Position is: \" + str(pos[index])\n",
      "    print \"CA184 Velocity is: \" + str(vel[index])\n",
      "    print \"CA184 Space between car and car before: \" + str(gi)\n",
      "    return pos[index], vel[index], gi"
     ],
     "language": "python",
     "metadata": {},
     "outputs": [],
     "prompt_number": 4
    },
    {
     "cell_type": "code",
     "collapsed": false,
     "input": [
      "cars = 5\n",
      "road = 40\n",
      "Ncars  = 10\n",
      "road = 40\n",
      "pos, vel = InitialCond(Ncars, road)\n",
      "CA184(pos, vel, road, cars)"
     ],
     "language": "python",
     "metadata": {},
     "outputs": [
      {
       "output_type": "stream",
       "stream": "stdout",
       "text": [
        "CA184 Position is: 20.0\n",
        "CA184 Velocity is: 20.0\n",
        "CA184 Space between car and car before: 15.0\n"
       ]
      },
      {
       "output_type": "pyout",
       "prompt_number": 7,
       "text": [
        "(20.0, 20.0, 15.0)"
       ]
      }
     ],
     "prompt_number": 7
    },
    {
     "cell_type": "code",
     "collapsed": false,
     "input": [],
     "language": "python",
     "metadata": {},
     "outputs": []
    }
   ],
   "metadata": {}
  }
 ]
}