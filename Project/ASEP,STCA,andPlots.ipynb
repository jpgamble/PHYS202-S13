{
 "metadata": {
  "name": "ASEP,STCA,andPlots"
 },
 "nbformat": 3,
 "nbformat_minor": 0,
 "worksheets": [
  {
   "cells": [
    {
     "cell_type": "code",
     "collapsed": false,
     "input": [
      "import random"
     ],
     "language": "python",
     "metadata": {},
     "outputs": [],
     "prompt_number": 2
    },
    {
     "cell_type": "code",
     "collapsed": false,
     "input": [
      "def newpos(pos, vel, index):\n",
      "    pos[index] = pos[index] + vel[index]\n",
      "    if pos[index] > road:\n",
      "        pos[index] = pos[index] - 40\n",
      "    return pos"
     ],
     "language": "python",
     "metadata": {},
     "outputs": [],
     "prompt_number": 5
    },
    {
     "cell_type": "code",
     "collapsed": false,
     "input": [
      "def CA184(pos, vel, road):\n",
      "    index = randint(0, len(pos)-1)\n",
      "    carpos = pos[index]\n",
      "    sortedpos = sort(pos)\n",
      "    prob = random.randint(0, 1)\n",
      "    if carpos == (len(pos)-1):\n",
      "        gi = sortedpos[0]\n",
      "        if gi == 0:\n",
      "            vel = 0\n",
      "    else:\n",
      "        gi = (sortedpos[index+1] - sortedpos[index])\n",
      "        if gi == 0:\n",
      "            vel[index] = 0\n",
      "    if vel[index] > gi:\n",
      "        vel[index] == gi\n",
      "    elif vel[index] < gi and vel[index] < max(vel):\n",
      "        vel[index] = vel[index] + 1\n",
      "    else:\n",
      "        vel[index] = vel[index]*prob\n",
      "    newpos(pos, vel, index)\n",
      "    print \"CA184 Position is: \" + str(pos[index])\n",
      "    print \"CA184 Velocity is: \" + str(vel[index])\n",
      "    print \"CA184 Space between car and car before: \" + str(gi)\n",
      "    return pos[index], vel[index], gi"
     ],
     "language": "python",
     "metadata": {},
     "outputs": [],
     "prompt_number": 41
    },
    {
     "cell_type": "code",
     "collapsed": false,
     "input": [
      "cars = 5\n",
      "pos = zeros(5)\n",
      "road = 40\n",
      "vel = zeros(5)\n",
      "for i in range(len(pos)-1):\n",
      "    pos[i] = randint(0, road)\n",
      "for k in range(len(vel)-1):\n",
      "    vel[k] = randint(0, road)\n",
      "CA184(pos, vel, road)"
     ],
     "language": "python",
     "metadata": {},
     "outputs": [
      {
       "output_type": "stream",
       "stream": "stdout",
       "text": [
        "CA184 Position is: 18.0\n",
        "CA184 Velocity is: 23.0\n",
        "CA184 Space between car and car before: 1.0\n"
       ]
      },
      {
       "output_type": "pyout",
       "prompt_number": 42,
       "text": [
        "(18.0, 23.0, 1.0)"
       ]
      }
     ],
     "prompt_number": 42
    },
    {
     "cell_type": "code",
     "collapsed": false,
     "input": [
      "def STCA(pos, vel, road):\n",
      "    prob = 0\n",
      "    index = randint(0, len(pos)-1)\n",
      "    carpos = pos[index]\n",
      "    sortedpos = sort(pos)\n",
      "    random.randint(0, 1)\n",
      "    if carpos == (len(pos)-1):\n",
      "        gi = sortedpos[0]\n",
      "        if gi == 0:\n",
      "            vel = 0\n",
      "    else:\n",
      "        gi = (sortedpos[index+1] - sortedpos[index])\n",
      "        if gi == 0:\n",
      "            vel[index] = 0\n",
      "    if vel[index] > gi:\n",
      "        vel[index] == gi\n",
      "    elif vel[index] < gi and vel[index] < max(vel):\n",
      "        vel[index] = vel[index] + 1\n",
      "    else:\n",
      "        vel[index] = vel[index]*prob\n",
      "    newpos(pos, vel, index)\n",
      "    print \"STCA Position is: \" + str(pos[index])\n",
      "    print \"STCA Velocity is: \" + str(vel[index])\n",
      "    print \"STCA Space between car and car before: \" + str(gi)\n",
      "    return pos[index], vel[index], gi"
     ],
     "language": "python",
     "metadata": {},
     "outputs": [],
     "prompt_number": 43
    },
    {
     "cell_type": "code",
     "collapsed": false,
     "input": [
      "def ASEP(pos, vel, road):\n",
      "    index = randint(0, len(pos)-1)\n",
      "    carpos = pos[index]\n",
      "    sortedpos = sort(pos)\n",
      "    random.randint(0, 1)\n",
      "    if carpos == (len(pos)-1):\n",
      "        gi = sortedpos[0]\n",
      "        if gi == 0:\n",
      "            vel = 0\n",
      "    else:\n",
      "        gi = (sortedpos[index+1] - sortedpos[index])\n",
      "        if gi == 0:\n",
      "            vel[index] = 0\n",
      "    if vel[index] > gi:\n",
      "        vel[index] == gi\n",
      "    elif vel[index] < gi and vel[index] < max(vel):\n",
      "        vel[index] = vel[index] + 1\n",
      "    newpos(pos, vel, index)\n",
      "    print \"ASEP Position is: \" + str(pos[index])\n",
      "    print \"ASEP Velocity is: \" + str(vel[index])\n",
      "    print \"ASEP Space between car and car before: \" + str(gi)\n",
      "    return pos[index], vel[index], gi"
     ],
     "language": "python",
     "metadata": {},
     "outputs": [],
     "prompt_number": 48
    },
    {
     "cell_type": "code",
     "collapsed": false,
     "input": [
      "cars = 5\n",
      "pos = zeros(5)\n",
      "road = 40\n",
      "vel = zeros(5)\n",
      "for i in range(len(pos)-1):\n",
      "    pos[i] = randint(0, road)\n",
      "for k in range(len(vel)-1):\n",
      "    vel[k] = randint(0, road)\n",
      "ASEP(pos, vel, road)"
     ],
     "language": "python",
     "metadata": {},
     "outputs": [
      {
       "output_type": "stream",
       "stream": "stdout",
       "text": [
        "ASEP Position is: 15.0\n",
        "ASEP Velocity is: 9.0\n",
        "ASEP Space between car and car before: 1.0\n"
       ]
      },
      {
       "output_type": "pyout",
       "prompt_number": 49,
       "text": [
        "(15.0, 9.0, 1.0)"
       ]
      }
     ],
     "prompt_number": 49
    },
    {
     "cell_type": "code",
     "collapsed": false,
     "input": [
      "def InitialCond(NCars, road):\n",
      "    pos = zeros(NCars)\n",
      "    vel = zeros(NCars)\n",
      "    for i in range(len(pos)-1):\n",
      "        pos[i] = randint(0, road)\n",
      "    for k in range(len(vel)-1):\n",
      "        vel[k] = randint(0, road)\n",
      "    return pos, vel"
     ],
     "language": "python",
     "metadata": {},
     "outputs": [],
     "prompt_number": 50
    },
    {
     "cell_type": "code",
     "collapsed": false,
     "input": [
      "N = 150\n",
      "posi = posi1 = posi2 = zeros(N)\n",
      "veli = veli1 = veli2 = zeros(N)\n",
      "g= g1 = g2 = zeros(N)\n",
      "dens = dens1= dens2 = zeros(N)\n",
      "avgvel = avgvel1 = avgvel2 = zeros(N)\n",
      "curr = curr1 = curr2 = zeros(N)\n",
      "for i in range(N):\n",
      "    road = 40\n",
      "    Ncars = 10\n",
      "    conds = InitialCond(Ncars, road)\n",
      "    pos = pos1 = pos2= conds[0]\n",
      "    vel = vel1 = vel2 =conds[1]\n",
      "    posi[i], veli[i], g[i] = ASEP(pos,  vel, road)\n",
      "    posi2[i], veli2[i], g2[i] = STCA(pos2, vel2, road)\n",
      "    posi1[i], veli1[i], g1[i] = CA184(pos1, vel1, road)\n",
      "    dens[i] = (posi[i])/road\n",
      "    dens1[i] = (posi1[i])/road\n",
      "    dens2[i] = (posi2[i])/road\n",
      "    avgvel[i] = average(veli[i])\n",
      "    avgvel1[i] = average(veli1[i])\n",
      "    avgvel2[i] = average(veli2[i])\n",
      "    curr[i] = dens[i]*avgvel[i]\n",
      "    curr1[i] = dens1[i]*avgvel1[i]\n",
      "    curr2[i] = dens2[i]*avgvel2[i]"
     ],
     "language": "python",
     "metadata": {},
     "outputs": [
      {
       "ename": "TypeError",
       "evalue": "'int' object has no attribute '__getitem__'",
       "output_type": "pyerr",
       "traceback": [
        "\u001b[1;31m---------------------------------------------------------------------------\u001b[0m\n\u001b[1;31mTypeError\u001b[0m                                 Traceback (most recent call last)",
        "\u001b[1;32m<ipython-input-76-5ace7d94444b>\u001b[0m in \u001b[0;36m<module>\u001b[1;34m()\u001b[0m\n\u001b[0;32m     12\u001b[0m     \u001b[0mpos\u001b[0m \u001b[1;33m=\u001b[0m \u001b[0mpos1\u001b[0m \u001b[1;33m=\u001b[0m \u001b[0mpos2\u001b[0m\u001b[1;33m=\u001b[0m \u001b[0mconds\u001b[0m\u001b[1;33m[\u001b[0m\u001b[1;36m0\u001b[0m\u001b[1;33m]\u001b[0m\u001b[1;33m\u001b[0m\u001b[0m\n\u001b[0;32m     13\u001b[0m     \u001b[0mvel\u001b[0m \u001b[1;33m=\u001b[0m \u001b[0mvel1\u001b[0m \u001b[1;33m=\u001b[0m \u001b[0mvel2\u001b[0m \u001b[1;33m=\u001b[0m\u001b[0mconds\u001b[0m\u001b[1;33m[\u001b[0m\u001b[1;36m1\u001b[0m\u001b[1;33m]\u001b[0m\u001b[1;33m\u001b[0m\u001b[0m\n\u001b[1;32m---> 14\u001b[1;33m     \u001b[0mposi\u001b[0m\u001b[1;33m[\u001b[0m\u001b[0mi\u001b[0m\u001b[1;33m]\u001b[0m\u001b[1;33m,\u001b[0m \u001b[0mveli\u001b[0m\u001b[1;33m[\u001b[0m\u001b[0mi\u001b[0m\u001b[1;33m]\u001b[0m\u001b[1;33m,\u001b[0m \u001b[0mg\u001b[0m\u001b[1;33m[\u001b[0m\u001b[0mi\u001b[0m\u001b[1;33m]\u001b[0m \u001b[1;33m=\u001b[0m \u001b[0mASEP\u001b[0m\u001b[1;33m(\u001b[0m\u001b[0mpos\u001b[0m\u001b[1;33m,\u001b[0m  \u001b[0mvel\u001b[0m\u001b[1;33m,\u001b[0m \u001b[0mroad\u001b[0m\u001b[1;33m)\u001b[0m\u001b[1;33m\u001b[0m\u001b[0m\n\u001b[0m\u001b[0;32m     15\u001b[0m     \u001b[0mposi2\u001b[0m\u001b[1;33m[\u001b[0m\u001b[0mi\u001b[0m\u001b[1;33m]\u001b[0m\u001b[1;33m,\u001b[0m \u001b[0mveli2\u001b[0m\u001b[1;33m[\u001b[0m\u001b[0mi\u001b[0m\u001b[1;33m]\u001b[0m\u001b[1;33m,\u001b[0m \u001b[0mg2\u001b[0m\u001b[1;33m[\u001b[0m\u001b[0mi\u001b[0m\u001b[1;33m]\u001b[0m \u001b[1;33m=\u001b[0m \u001b[0mSTCA\u001b[0m\u001b[1;33m(\u001b[0m\u001b[0mpos2\u001b[0m\u001b[1;33m,\u001b[0m \u001b[0mvel2\u001b[0m\u001b[1;33m,\u001b[0m \u001b[0mroad\u001b[0m\u001b[1;33m)\u001b[0m\u001b[1;33m\u001b[0m\u001b[0m\n\u001b[0;32m     16\u001b[0m     \u001b[0mposi1\u001b[0m\u001b[1;33m[\u001b[0m\u001b[0mi\u001b[0m\u001b[1;33m]\u001b[0m\u001b[1;33m,\u001b[0m \u001b[0mveli1\u001b[0m\u001b[1;33m[\u001b[0m\u001b[0mi\u001b[0m\u001b[1;33m]\u001b[0m\u001b[1;33m,\u001b[0m \u001b[0mg1\u001b[0m\u001b[1;33m[\u001b[0m\u001b[0mi\u001b[0m\u001b[1;33m]\u001b[0m \u001b[1;33m=\u001b[0m \u001b[0mCA184\u001b[0m\u001b[1;33m(\u001b[0m\u001b[0mpos1\u001b[0m\u001b[1;33m,\u001b[0m \u001b[0mvel1\u001b[0m\u001b[1;33m,\u001b[0m \u001b[0mroad\u001b[0m\u001b[1;33m)\u001b[0m\u001b[1;33m\u001b[0m\u001b[0m\n",
        "\u001b[1;32m<ipython-input-48-75c3f3d17b6c>\u001b[0m in \u001b[0;36mASEP\u001b[1;34m(pos, vel, road)\u001b[0m\n\u001b[0;32m     12\u001b[0m         \u001b[1;32mif\u001b[0m \u001b[0mgi\u001b[0m \u001b[1;33m==\u001b[0m \u001b[1;36m0\u001b[0m\u001b[1;33m:\u001b[0m\u001b[1;33m\u001b[0m\u001b[0m\n\u001b[0;32m     13\u001b[0m             \u001b[0mvel\u001b[0m\u001b[1;33m[\u001b[0m\u001b[0mindex\u001b[0m\u001b[1;33m]\u001b[0m \u001b[1;33m=\u001b[0m \u001b[1;36m0\u001b[0m\u001b[1;33m\u001b[0m\u001b[0m\n\u001b[1;32m---> 14\u001b[1;33m     \u001b[1;32mif\u001b[0m \u001b[0mvel\u001b[0m\u001b[1;33m[\u001b[0m\u001b[0mindex\u001b[0m\u001b[1;33m]\u001b[0m \u001b[1;33m>\u001b[0m \u001b[0mgi\u001b[0m\u001b[1;33m:\u001b[0m\u001b[1;33m\u001b[0m\u001b[0m\n\u001b[0m\u001b[0;32m     15\u001b[0m         \u001b[0mvel\u001b[0m\u001b[1;33m[\u001b[0m\u001b[0mindex\u001b[0m\u001b[1;33m]\u001b[0m \u001b[1;33m==\u001b[0m \u001b[0mgi\u001b[0m\u001b[1;33m\u001b[0m\u001b[0m\n\u001b[0;32m     16\u001b[0m     \u001b[1;32melif\u001b[0m \u001b[0mvel\u001b[0m\u001b[1;33m[\u001b[0m\u001b[0mindex\u001b[0m\u001b[1;33m]\u001b[0m \u001b[1;33m<\u001b[0m \u001b[0mgi\u001b[0m \u001b[1;32mand\u001b[0m \u001b[0mvel\u001b[0m\u001b[1;33m[\u001b[0m\u001b[0mindex\u001b[0m\u001b[1;33m]\u001b[0m \u001b[1;33m<\u001b[0m \u001b[0mmax\u001b[0m\u001b[1;33m(\u001b[0m\u001b[0mvel\u001b[0m\u001b[1;33m)\u001b[0m\u001b[1;33m:\u001b[0m\u001b[1;33m\u001b[0m\u001b[0m\n",
        "\u001b[1;31mTypeError\u001b[0m: 'int' object has no attribute '__getitem__'"
       ]
      },
      {
       "output_type": "stream",
       "stream": "stdout",
       "text": [
        "ASEP Position is: 12.0\n",
        "ASEP Velocity is: 6.0\n",
        "ASEP Space between car and car before: 2.0\n",
        "STCA Position is: 34.0\n",
        "STCA Velocity is: 20.0\n",
        "STCA Space between car and car before: 2.0\n",
        "CA184 Position is: 9.0\n",
        "CA184 Velocity is: 14.0\n",
        "CA184 Space between car and car before: 2.0\n",
        "ASEP Position is: 16.0\n",
        "ASEP Velocity is: 12.0\n",
        "ASEP Space between car and car before: 4.0\n",
        "STCA Position is: 4.0\n",
        "STCA Velocity is: 16.0\n",
        "STCA Space between car and car before: 2.0\n",
        "CA184 Position is: 19.0\n",
        "CA184 Velocity is: 32.0\n",
        "CA184 Space between car and car before: 3.0\n"
       ]
      }
     ],
     "prompt_number": 76
    },
    {
     "cell_type": "code",
     "collapsed": false,
     "input": [
      "t = arange(0, 150)\n",
      "plot(t, posi, t, posi1, t, posi2)\n",
      "show()"
     ],
     "language": "python",
     "metadata": {},
     "outputs": [
      {
       "output_type": "display_data",
       "png": "[encoded data removed]",
       "text": [
        "<matplotlib.figure.Figure at 0x7d224e0>"
       ]
      }
     ],
     "prompt_number": 71
    },
    {
     "cell_type": "code",
     "collapsed": false,
     "input": [
      "plot(t, curr, t, curr1, t, curr2)\n",
      "show()"
     ],
     "language": "python",
     "metadata": {},
     "outputs": [
      {
       "output_type": "display_data",
       "png": "[encoded data removed]",
       "text": [
        "<matplotlib.figure.Figure at 0x820d0f0>"
       ]
      }
     ],
     "prompt_number": 72
    },
    {
     "cell_type": "code",
     "collapsed": false,
     "input": [
      "N = 80\n",
      "posi = posi1 = posi2 = zeros(N)\n",
      "veli = veli1 = veli2 = zeros(N)\n",
      "g= g1 = g2 = zeros(N)\n",
      "dens = dens1= dens2 = zeros(N)\n",
      "avgvel = avgvel1 = avgvel2 = zeros(N)\n",
      "curr = curr1 = curr2 = zeros(N)\n",
      "for i in range(N):\n",
      "    road = 40\n",
      "    Ncars = 10\n",
      "    conds = InitialCond(Ncars, road)\n",
      "    pos = pos1 = pos2= conds[0]\n",
      "    vel = vel1 = vel2 =conds[1]\n",
      "    posi[i], veli[i], g[i] = ASEP(pos,  vel, road)\n",
      "    posi2[i], veli2[i], g2[i] = STCA(pos2, vel2, road)\n",
      "    posi1[i], veli1[i], g1[i] = CA184(pos1, vel1, road)\n",
      "    dens[i] = posi[i]/road\n",
      "    dens1[i] = posi1[i]/road\n",
      "    dens2[i] = (posi2[i])/road\n",
      "    avgvel[i] = average(veli[i])\n",
      "    avgvel1[i] = average(veli1[i])\n",
      "    avgvel2[i] = average(veli2[i])\n",
      "    curr[i] = dens[i]*avgvel[i]\n",
      "    curr1[i] = dens1[i]*avgvel1[i]\n",
      "    curr2[i] = dens2[i]*avgvel2[i]"
     ],
     "language": "python",
     "metadata": {},
     "outputs": [
      {
       "ename": "TypeError",
       "evalue": "'int' object has no attribute '__getitem__'",
       "output_type": "pyerr",
       "traceback": [
        "\u001b[1;31m---------------------------------------------------------------------------\u001b[0m\n\u001b[1;31mTypeError\u001b[0m                                 Traceback (most recent call last)",
        "\u001b[1;32m<ipython-input-75-fea70ee052b8>\u001b[0m in \u001b[0;36m<module>\u001b[1;34m()\u001b[0m\n\u001b[0;32m     12\u001b[0m     \u001b[0mpos\u001b[0m \u001b[1;33m=\u001b[0m \u001b[0mpos1\u001b[0m \u001b[1;33m=\u001b[0m \u001b[0mpos2\u001b[0m\u001b[1;33m=\u001b[0m \u001b[0mconds\u001b[0m\u001b[1;33m[\u001b[0m\u001b[1;36m0\u001b[0m\u001b[1;33m]\u001b[0m\u001b[1;33m\u001b[0m\u001b[0m\n\u001b[0;32m     13\u001b[0m     \u001b[0mvel\u001b[0m \u001b[1;33m=\u001b[0m \u001b[0mvel1\u001b[0m \u001b[1;33m=\u001b[0m \u001b[0mvel2\u001b[0m \u001b[1;33m=\u001b[0m\u001b[0mconds\u001b[0m\u001b[1;33m[\u001b[0m\u001b[1;36m1\u001b[0m\u001b[1;33m]\u001b[0m\u001b[1;33m\u001b[0m\u001b[0m\n\u001b[1;32m---> 14\u001b[1;33m     \u001b[0mposi\u001b[0m\u001b[1;33m[\u001b[0m\u001b[0mi\u001b[0m\u001b[1;33m]\u001b[0m\u001b[1;33m,\u001b[0m \u001b[0mveli\u001b[0m\u001b[1;33m[\u001b[0m\u001b[0mi\u001b[0m\u001b[1;33m]\u001b[0m\u001b[1;33m,\u001b[0m \u001b[0mg\u001b[0m\u001b[1;33m[\u001b[0m\u001b[0mi\u001b[0m\u001b[1;33m]\u001b[0m \u001b[1;33m=\u001b[0m \u001b[0mASEP\u001b[0m\u001b[1;33m(\u001b[0m\u001b[0mpos\u001b[0m\u001b[1;33m,\u001b[0m  \u001b[0mvel\u001b[0m\u001b[1;33m,\u001b[0m \u001b[0mroad\u001b[0m\u001b[1;33m)\u001b[0m\u001b[1;33m\u001b[0m\u001b[0m\n\u001b[0m\u001b[0;32m     15\u001b[0m     \u001b[0mposi2\u001b[0m\u001b[1;33m[\u001b[0m\u001b[0mi\u001b[0m\u001b[1;33m]\u001b[0m\u001b[1;33m,\u001b[0m \u001b[0mveli2\u001b[0m\u001b[1;33m[\u001b[0m\u001b[0mi\u001b[0m\u001b[1;33m]\u001b[0m\u001b[1;33m,\u001b[0m \u001b[0mg2\u001b[0m\u001b[1;33m[\u001b[0m\u001b[0mi\u001b[0m\u001b[1;33m]\u001b[0m \u001b[1;33m=\u001b[0m \u001b[0mSTCA\u001b[0m\u001b[1;33m(\u001b[0m\u001b[0mpos2\u001b[0m\u001b[1;33m,\u001b[0m \u001b[0mvel2\u001b[0m\u001b[1;33m,\u001b[0m \u001b[0mroad\u001b[0m\u001b[1;33m)\u001b[0m\u001b[1;33m\u001b[0m\u001b[0m\n\u001b[0;32m     16\u001b[0m     \u001b[0mposi1\u001b[0m\u001b[1;33m[\u001b[0m\u001b[0mi\u001b[0m\u001b[1;33m]\u001b[0m\u001b[1;33m,\u001b[0m \u001b[0mveli1\u001b[0m\u001b[1;33m[\u001b[0m\u001b[0mi\u001b[0m\u001b[1;33m]\u001b[0m\u001b[1;33m,\u001b[0m \u001b[0mg1\u001b[0m\u001b[1;33m[\u001b[0m\u001b[0mi\u001b[0m\u001b[1;33m]\u001b[0m \u001b[1;33m=\u001b[0m \u001b[0mCA184\u001b[0m\u001b[1;33m(\u001b[0m\u001b[0mpos1\u001b[0m\u001b[1;33m,\u001b[0m \u001b[0mvel1\u001b[0m\u001b[1;33m,\u001b[0m \u001b[0mroad\u001b[0m\u001b[1;33m)\u001b[0m\u001b[1;33m\u001b[0m\u001b[0m\n",
        "\u001b[1;32m<ipython-input-48-75c3f3d17b6c>\u001b[0m in \u001b[0;36mASEP\u001b[1;34m(pos, vel, road)\u001b[0m\n\u001b[0;32m     12\u001b[0m         \u001b[1;32mif\u001b[0m \u001b[0mgi\u001b[0m \u001b[1;33m==\u001b[0m \u001b[1;36m0\u001b[0m\u001b[1;33m:\u001b[0m\u001b[1;33m\u001b[0m\u001b[0m\n\u001b[0;32m     13\u001b[0m             \u001b[0mvel\u001b[0m\u001b[1;33m[\u001b[0m\u001b[0mindex\u001b[0m\u001b[1;33m]\u001b[0m \u001b[1;33m=\u001b[0m \u001b[1;36m0\u001b[0m\u001b[1;33m\u001b[0m\u001b[0m\n\u001b[1;32m---> 14\u001b[1;33m     \u001b[1;32mif\u001b[0m \u001b[0mvel\u001b[0m\u001b[1;33m[\u001b[0m\u001b[0mindex\u001b[0m\u001b[1;33m]\u001b[0m \u001b[1;33m>\u001b[0m \u001b[0mgi\u001b[0m\u001b[1;33m:\u001b[0m\u001b[1;33m\u001b[0m\u001b[0m\n\u001b[0m\u001b[0;32m     15\u001b[0m         \u001b[0mvel\u001b[0m\u001b[1;33m[\u001b[0m\u001b[0mindex\u001b[0m\u001b[1;33m]\u001b[0m \u001b[1;33m==\u001b[0m \u001b[0mgi\u001b[0m\u001b[1;33m\u001b[0m\u001b[0m\n\u001b[0;32m     16\u001b[0m     \u001b[1;32melif\u001b[0m \u001b[0mvel\u001b[0m\u001b[1;33m[\u001b[0m\u001b[0mindex\u001b[0m\u001b[1;33m]\u001b[0m \u001b[1;33m<\u001b[0m \u001b[0mgi\u001b[0m \u001b[1;32mand\u001b[0m \u001b[0mvel\u001b[0m\u001b[1;33m[\u001b[0m\u001b[0mindex\u001b[0m\u001b[1;33m]\u001b[0m \u001b[1;33m<\u001b[0m \u001b[0mmax\u001b[0m\u001b[1;33m(\u001b[0m\u001b[0mvel\u001b[0m\u001b[1;33m)\u001b[0m\u001b[1;33m:\u001b[0m\u001b[1;33m\u001b[0m\u001b[0m\n",
        "\u001b[1;31mTypeError\u001b[0m: 'int' object has no attribute '__getitem__'"
       ]
      },
      {
       "output_type": "stream",
       "stream": "stdout",
       "text": [
        "ASEP Position is: 4.0\n",
        "ASEP Velocity is: 1.0\n",
        "ASEP Space between car and car before: 1.0\n",
        "STCA Position is: 25.0\n",
        "STCA Velocity is: 39.0\n",
        "STCA Space between car and car before: 1.0\n",
        "CA184 Position is: 4.0\n",
        "CA184 Velocity is: 0.0\n",
        "CA184 Space between car and car before: 1.0\n",
        "ASEP Position is: 21.0\n",
        "ASEP Velocity is: 0.0\n",
        "ASEP Space between car and car before: 0.0\n",
        "STCA Position is: 8.0\n",
        "STCA Velocity is: 15.0\n",
        "STCA Space between car and car before: 12.0\n",
        "CA184 Position is: 17.0\n",
        "CA184 Velocity is: 36.0\n",
        "CA184 Space between car and car before: 2.0\n",
        "ASEP Position is: 10.0\n",
        "ASEP Velocity is: 22.0\n",
        "ASEP Space between car and car before: 1.0\n",
        "STCA Position is: 3.0\n",
        "STCA Velocity is: 2.0\n",
        "STCA Space between car and car before: 1.0\n",
        "CA184 Position is: 2.0\n",
        "CA184 Velocity is: 7.0\n",
        "CA184 Space between car and car before: 23.0\n",
        "ASEP Position is: 6.0\n",
        "ASEP Velocity is: 0.0\n",
        "ASEP Space between car and car before: 0.0\n",
        "STCA Position is: 33.0\n",
        "STCA Velocity is: 15.0\n",
        "STCA Space between car and car before: 1.0\n",
        "CA184 Position is: 25.0\n",
        "CA184 Velocity is: 5.0\n",
        "CA184 Space between car and car before: 1.0\n",
        "ASEP Position is: 38.0\n",
        "ASEP Velocity is: 0.0\n",
        "ASEP Space between car and car before: 0.0\n",
        "STCA Position is: 3.0\n",
        "STCA Velocity is: 36.0\n",
        "STCA Space between car and car before: 1.0\n",
        "CA184 Position is: 39.0\n",
        "CA184 Velocity is: 36.0\n",
        "CA184 Space between car and car before: 1.0\n",
        "ASEP Position is: 18.0\n",
        "ASEP Velocity is: 7.0\n",
        "ASEP Space between car and car before: 7.0\n",
        "STCA Position is: 14.0\n",
        "STCA Velocity is: 26.0\n",
        "STCA Space between car and car before: 3.0\n",
        "CA184 Position is: 39.0\n",
        "CA184 Velocity is: 18.0\n",
        "CA184 Space between car and car before: 2.0\n",
        "ASEP Position is: 13.0\n",
        "ASEP Velocity is: 21.0\n",
        "ASEP Space between car and car before: 11.0\n",
        "STCA Position is: 26.0\n",
        "STCA Velocity is: 14.0\n",
        "STCA Space between car and car before: 10.0\n",
        "CA184 Position is: 40.0\n",
        "CA184 Velocity is: 14.0\n",
        "CA184 Space between car and car before: 1.0\n",
        "ASEP Position is: 19.0\n",
        "ASEP Velocity is: 6.0\n",
        "ASEP Space between car and car before: 2.0\n",
        "STCA Position is: 34.0\n",
        "STCA Velocity is: 12.0\n",
        "STCA Space between car and car before: 3.0\n",
        "CA184 Position is: 29.0\n",
        "CA184 Velocity is: 21.0\n",
        "CA184 Space between car and car before: 2.0\n",
        "ASEP Position is: 12.0\n",
        "ASEP Velocity is: 31.0\n",
        "ASEP Space between car and car before: 7.0\n",
        "STCA Position is: 27.0\n",
        "STCA Velocity is: 37.0\n",
        "STCA Space between car and car before: 4.0\n",
        "CA184 Position is: 31.0\n",
        "CA184 Velocity is: 25.0\n",
        "CA184 Space between car and car before: 2.0\n",
        "ASEP Position is: 16.0\n",
        "ASEP Velocity is: 4.0\n",
        "ASEP Space between car and car before: 7.0\n",
        "STCA Position is: 12.0\n",
        "STCA Velocity is: 10.0\n",
        "STCA Space between car and car before: 4.0\n",
        "CA184 Position is: 6.0\n",
        "CA184 Velocity is: 27.0\n",
        "CA184 Space between car and car before: 1.0\n",
        "ASEP Position is: 21.0\n",
        "ASEP Velocity is: 14.0\n",
        "ASEP Space between car and car before: 3.0\n",
        "STCA Position is: 40.0\n",
        "STCA Velocity is: 36.0\n",
        "STCA Space between car and car before: 4.0\n",
        "CA184 Position is: 27.0\n",
        "CA184 Velocity is: 17.0\n",
        "CA184 Space between car and car before: 3.0\n",
        "ASEP Position is: 31.0\n",
        "ASEP Velocity is: 20.0\n",
        "ASEP Space between car and car before: 1.0\n",
        "STCA Position is: 32.0\n",
        "STCA Velocity is: 29.0\n",
        "STCA Space between car and car before: 1.0\n",
        "CA184 Position is: 10.0\n",
        "CA184 Velocity is: 33.0\n",
        "CA184 Space between car and car before: 1.0\n",
        "ASEP Position is: 19.0\n",
        "ASEP Velocity is: 0.0\n",
        "ASEP Space between car and car before: 0.0\n",
        "STCA Position is: 36.0\n",
        "STCA Velocity is: 36.0\n",
        "STCA Space between car and car before: 11.0\n",
        "CA184 Position is: 16.0\n",
        "CA184 Velocity is: 20.0\n",
        "CA184 Space between car and car before: 2.0\n",
        "ASEP Position is: 15.0\n",
        "ASEP Velocity is: 28.0\n",
        "ASEP Space between car and car before: 2.0\n",
        "STCA Position is: 27.0\n",
        "STCA Velocity is: 24.0\n",
        "STCA Space between car and car before: 3.0\n",
        "CA184 Position is: 15.0\n",
        "CA184 Velocity is: 8.0\n",
        "CA184 Space between car and car before: 3.0\n"
       ]
      }
     ],
     "prompt_number": 75
    },
    {
     "cell_type": "code",
     "collapsed": false,
     "input": [],
     "language": "python",
     "metadata": {},
     "outputs": []
    }
   ],
   "metadata": {}
  }
 ]
}