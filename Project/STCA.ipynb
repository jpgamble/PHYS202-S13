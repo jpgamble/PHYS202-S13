{
 "metadata": {
  "name": "STCA"
 },
 "nbformat": 3,
 "nbformat_minor": 0,
 "worksheets": [
  {
   "cells": [
    {
     "cell_type": "code",
     "collapsed": false,
     "input": [
      "import random"
     ],
     "language": "python",
     "metadata": {},
     "outputs": [],
     "prompt_number": "*"
    },
    {
     "cell_type": "code",
     "collapsed": false,
     "input": [
      "def newpos(pos, vel, index):\n",
      "    pos[index] = pos[index] + vel[index]\n",
      "    if pos[index] > road:\n",
      "        pos[index] = pos[index] - 40\n",
      "    return pos"
     ],
     "language": "python",
     "metadata": {},
     "outputs": [],
     "prompt_number": "*"
    },
    {
     "cell_type": "code",
     "collapsed": false,
     "input": [
      "def InitialCond(NCars, road):\n",
      "    pos = zeros(NCars)\n",
      "    vel = zeros(NCars)\n",
      "    for i in range(len(pos)-1):\n",
      "        pos[i] = randint(0, road)\n",
      "    for k in range(len(vel)-1):\n",
      "        vel[k] = randint(0, road)\n",
      "    return pos, vel"
     ],
     "language": "python",
     "metadata": {},
     "outputs": [],
     "prompt_number": "*"
    },
    {
     "cell_type": "code",
     "collapsed": false,
     "input": [
      "def STCA(pos, vel, road, cars):\n",
      "    pos = zeros(cars)\n",
      "    vel = zeros(cars)\n",
      "    for i in range(len(pos)-1):\n",
      "        pos[i] = randint(0, road)\n",
      "    for k in range(len(vel)-1):\n",
      "        vel[k] = randint(0, road-cars)\n",
      "    prob = 0\n",
      "    index = randint(0, len(pos)-1)\n",
      "    carpos = pos[index]\n",
      "    sortedpos = sort(pos)\n",
      "    random.randint(0, 1)\n",
      "    if carpos == (len(pos)-1):\n",
      "        gi = sortedpos[0]\n",
      "        if gi == 0:\n",
      "            vel[index] = 0\n",
      "    else:\n",
      "        gi = (sortedpos[index+1] - sortedpos[index])\n",
      "        if gi == 0:\n",
      "            vel[index] = 0\n",
      "    if vel[index] > gi:\n",
      "        vel[index] == gi\n",
      "    elif vel[index] < gi and vel[index] < max(vel):\n",
      "        vel[index] = vel[index] + 1\n",
      "    else:\n",
      "        vel[index] = vel[index]*prob\n",
      "    newpos(pos, vel, index)\n",
      "    print \"STCA Position is: \" + str(pos[index])\n",
      "    print \"STCA Velocity is: \" + str(vel[index])\n",
      "    print \"STCA Space between car and car before: \" + str(gi)\n",
      "    return pos[index], vel[index], gi"
     ],
     "language": "python",
     "metadata": {},
     "outputs": [],
     "prompt_number": "*"
    },
    {
     "cell_type": "code",
     "collapsed": false,
     "input": [
      "cars = 5\n",
      "road = 40\n",
      "Ncars  = 10\n",
      "road = 40\n",
      "pos, vel = InitialCond(Ncars, road)\n",
      "STCA(pos, vel, road, Ncars)"
     ],
     "language": "python",
     "metadata": {},
     "outputs": [],
     "prompt_number": "*"
    },
    {
     "cell_type": "code",
     "collapsed": false,
     "input": [
      "N = 150\n",
      "Ncars = 10\n",
      "road = 40\n",
      "posi = posi1 = posi2 = zeros(N)\n",
      "veli = veli1 = veli2 = zeros(N)\n",
      "g= g1 = g2 = zeros(N)\n",
      "dens = dens1= dens2 = zeros(N)\n",
      "avgveli = avgveli1 = avgveli2 = zeros(N)\n",
      "curr = curr1 = curr2 = zeros(N)\n",
      "conds = InitialCond(Ncars, road)\n",
      "pos = pos1 = pos2= conds[0]\n",
      "vel = vel1 = vel2 =conds[1]\n",
      "for i in range(N-1):\n",
      "    posi2[i], veli2[i], g2[i] = STCA(pos2, vel2, road, Ncars)\n",
      "    dens2[i] = (posi2[i])/road\n",
      "    avgveli2[i] = average(veli2[i])\n",
      "    curr2[i] = dens2[i]*avgveli2[i]"
     ],
     "language": "python",
     "metadata": {},
     "outputs": [],
     "prompt_number": "*"
    },
    {
     "cell_type": "code",
     "collapsed": false,
     "input": [
      "t = arange(0, 150)\n",
      "plot(t, posi)\n",
      "show()"
     ],
     "language": "python",
     "metadata": {},
     "outputs": [],
     "prompt_number": "*"
    },
    {
     "cell_type": "code",
     "collapsed": false,
     "input": [
      "plot(t, curr)\n",
      "show()"
     ],
     "language": "python",
     "metadata": {},
     "outputs": [],
     "prompt_number": "*"
    },
    {
     "cell_type": "code",
     "collapsed": false,
     "input": [
      "plot(dens, posi2)\n",
      "show()"
     ],
     "language": "python",
     "metadata": {},
     "outputs": [],
     "prompt_number": "*"
    },
    {
     "cell_type": "code",
     "collapsed": false,
     "input": [],
     "language": "python",
     "metadata": {},
     "outputs": [],
     "prompt_number": "*"
    }
   ],
   "metadata": {}
  }
 ]
}