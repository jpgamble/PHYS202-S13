{
 "metadata": {
  "name": "ASEP-FinalProduct"
 },
 "nbformat": 3,
 "nbformat_minor": 0,
 "worksheets": [
  {
   "cells": [
    {
     "cell_type": "markdown",
     "metadata": {},
     "source": [
      "ASEP Ruleset For One-Dimensional Traffic Flow \n",
      "=\n",
      "The following shows an attempt at programming the ASEP Ruleset or \"Asymmetric Stochastic Exclusion Principle\"\n",
      "-\n",
      "The rules are as follows:\n",
      "    \n",
      "1. Pick one car at random.\n",
      "\n",
      "2. Let $g_i$ equal the number of empty sites in front of this car.\n",
      "\n",
      "3. If $g_i = 0$, that car does not move during this time step.\n",
      "\n",
      "4. If $v_i > g_i$, slow down to $v_i = g_i$.\n",
      "\n",
      "5. If $v_i < g_i$ and $v_i < v_max$, speed up by one unit: $v_i = v_i + 1$.\n",
      "\n",
      "6. Move this car forward by $v_i$\n",
      "."
     ]
    },
    {
     "cell_type": "code",
     "collapsed": false,
     "input": [
      "import random #This allows for the definition of a random element to be added to the ruleset\n",
      "import numpy"
     ],
     "language": "python",
     "metadata": {},
     "outputs": [],
     "prompt_number": 12
    },
    {
     "cell_type": "markdown",
     "metadata": {},
     "source": [
      "Below are three definitions of functions. \n",
      "-\n",
      "\n",
      "In these functions we allow the movement of the traffic elements $(newpos)$ and a definition of the initial conditions $(InitialCond)$ for the ruleset $(ASEP)$ to take place."
     ]
    },
    {
     "cell_type": "code",
     "collapsed": false,
     "input": [
      "def newpos(pos, vel, index):\n",
      "    \"\"\"Takes the parameters of position and velocity and pushes the new values to the array them for their movement based on their individual index.\"\"\"\n",
      "    pos[index] = pos[index] + vel[index] # moves each element \n",
      "    if pos[index] > road: #moves the element according to the offset of the road\n",
      "        pos[index] = pos[index] - 40\n",
      "    return pos"
     ],
     "language": "python",
     "metadata": {},
     "outputs": [],
     "prompt_number": 5
    },
    {
     "cell_type": "code",
     "collapsed": false,
     "input": [
      "def InitialCond(NCars, road):\n",
      "    \"\"\"Takes Number of Cars (NCARS) and Maximum Road Length as parameters, returning a position and velocity array for each element\"\"\"\n",
      "    pos = zeros(NCars)\n",
      "    vel = zeros(NCars)\n",
      "    for i in range(len(pos)-1):\n",
      "        pos[i] = randint(0, road)#fills the position array with values between 0 and the maximum road length\n",
      "    for k in range(len(vel)-1):\n",
      "        vel[k] = randint(0, road)# Fills velecoty array with values between 0 and max number of availible spaces\n",
      "    return pos, vel"
     ],
     "language": "python",
     "metadata": {},
     "outputs": [],
     "prompt_number": 6
    },
    {
     "cell_type": "code",
     "collapsed": false,
     "input": [
      "def ASEP(pos, vel, road, cars):\n",
      "    for i in range(len(pos)-1):\n",
      "        pos[i] = randint(0, road)\n",
      "    for k in range(len(vel)-1):\n",
      "        vel[k] = randint(0, road-cars)\n",
      "    #Rule 1\n",
      "    index = randint(0, len(pos)-1)\n",
      "    carpos = pos[index]\n",
      "    #Sorts the position array so that the difference can be found between the chosen car and its consituants \n",
      "    sortedpos = sort(pos)\n",
      "    #Adjusts the car to the offset of the road and stating that if the car occupies the last space availible on the road its difference is equivelent \n",
      "    #to the space on the road  before the first car.\n",
      "    if carpos == (len(pos)-1):\n",
      "        gi = sortedpos[0]\n",
      "        #Rule 3\n",
      "        if gi == 0:\n",
      "            vel = 0\n",
      "    else:\n",
      "        #Rule 2\n",
      "        gi = (sortedpos[index+1] - sortedpos[index])\n",
      "        #Rule 3\n",
      "        if gi == 0:\n",
      "            vel[index] = 0\n",
      "    #Rule 4\n",
      "        elif vel[index] > gi:\n",
      "            vel[index] == gi\n",
      "    #Rule 5\n",
      "        elif vel[index] < gi and vel[index] < max(vel):\n",
      "            vel[index] = vel[index] + 1\n",
      "    #Rule 6\n",
      "    newpos(pos, vel, index)\n",
      "    print \"ASEP Position is: \" + str(pos[index])\n",
      "    print \"ASEP Velocity is: \" + str(vel[index])\n",
      "    print \"ASEP Space between car and car before: \" + str(gi)\n",
      "    return pos[index], vel[index], gi"
     ],
     "language": "python",
     "metadata": {},
     "outputs": [],
     "prompt_number": 43
    },
    {
     "cell_type": "markdown",
     "metadata": {},
     "source": [
      "With the functions defined, interpretation of the data is the next step. \n",
      "-\n",
      "Below I have defined the initial conditions and set the basis for the arrays to be analyzed. \n"
     ]
    },
    {
     "cell_type": "code",
     "collapsed": false,
     "input": [
      "N = 150 #Sets number of time steps we are going to look at\n",
      "Ncars = 10#Sets the number of cars\n",
      "road = 40#sets the road length\n",
      "# Below are zero arrays for position, velicity, gi(spaces between cars), density, average velocity, and current.\n",
      "posi = zeros(N)\n",
      "veli = zeros(N)\n",
      "g= zeros(N)\n",
      "dens = zeros(N)\n",
      "avgvel = zeros(N)\n",
      "curr = zeros(N)\n",
      "#sets the initial conditions for analysis\n",
      "conds = InitialCond(Ncars, road)\n",
      "#because InitialCond returns a tuple the position array will be filled with the first coloumn of values \n",
      "#and velocity array will be filled with the second coloumn of elements\n",
      "pos= conds[0]\n",
      "vel = conds[1]\n",
      "for i in range(1, N-1):\n",
      "    posi[i], veli[i], g[i] = ASEP(pos,  vel, road, Ncars)\n",
      "    dens[i] = Ncars/(posi[i])\n",
      "    avgvel[i] = average(veli[i])\n",
      "    curr[i] = dens[i]*avgvel[i]\n",
      "    #pos.remove(posi[i])\n",
      "    #vel.remove(veli[i])"
     ],
     "language": "python",
     "metadata": {},
     "outputs": [
      {
       "ename": "TypeError",
       "evalue": "'int' object has no attribute '__getitem__'",
       "output_type": "pyerr",
       "traceback": [
        "\u001b[1;31m---------------------------------------------------------------------------\u001b[0m\n\u001b[1;31mTypeError\u001b[0m                                 Traceback (most recent call last)",
        "\u001b[1;32m<ipython-input-47-a364f00ed5f9>\u001b[0m in \u001b[0;36m<module>\u001b[1;34m()\u001b[0m\n\u001b[0;32m     16\u001b[0m \u001b[0mvel\u001b[0m \u001b[1;33m=\u001b[0m \u001b[0mconds\u001b[0m\u001b[1;33m[\u001b[0m\u001b[1;36m1\u001b[0m\u001b[1;33m]\u001b[0m\u001b[1;33m\u001b[0m\u001b[0m\n\u001b[0;32m     17\u001b[0m \u001b[1;32mfor\u001b[0m \u001b[0mi\u001b[0m \u001b[1;32min\u001b[0m \u001b[0mrange\u001b[0m\u001b[1;33m(\u001b[0m\u001b[1;36m1\u001b[0m\u001b[1;33m,\u001b[0m \u001b[0mN\u001b[0m\u001b[1;33m-\u001b[0m\u001b[1;36m1\u001b[0m\u001b[1;33m)\u001b[0m\u001b[1;33m:\u001b[0m\u001b[1;33m\u001b[0m\u001b[0m\n\u001b[1;32m---> 18\u001b[1;33m     \u001b[0mposi\u001b[0m\u001b[1;33m[\u001b[0m\u001b[0mi\u001b[0m\u001b[1;33m]\u001b[0m\u001b[1;33m,\u001b[0m \u001b[0mveli\u001b[0m\u001b[1;33m[\u001b[0m\u001b[0mi\u001b[0m\u001b[1;33m]\u001b[0m\u001b[1;33m,\u001b[0m \u001b[0mg\u001b[0m\u001b[1;33m[\u001b[0m\u001b[0mi\u001b[0m\u001b[1;33m]\u001b[0m \u001b[1;33m=\u001b[0m \u001b[0mASEP\u001b[0m\u001b[1;33m(\u001b[0m\u001b[0mpos\u001b[0m\u001b[1;33m,\u001b[0m  \u001b[0mvel\u001b[0m\u001b[1;33m,\u001b[0m \u001b[0mroad\u001b[0m\u001b[1;33m,\u001b[0m \u001b[0mNcars\u001b[0m\u001b[1;33m)\u001b[0m\u001b[1;33m\u001b[0m\u001b[0m\n\u001b[0m\u001b[0;32m     19\u001b[0m     \u001b[0mdens\u001b[0m\u001b[1;33m[\u001b[0m\u001b[0mi\u001b[0m\u001b[1;33m]\u001b[0m \u001b[1;33m=\u001b[0m \u001b[0mNcars\u001b[0m\u001b[1;33m/\u001b[0m\u001b[1;33m(\u001b[0m\u001b[0mposi\u001b[0m\u001b[1;33m[\u001b[0m\u001b[0mi\u001b[0m\u001b[1;33m]\u001b[0m\u001b[1;33m)\u001b[0m\u001b[1;33m\u001b[0m\u001b[0m\n\u001b[0;32m     20\u001b[0m     \u001b[0mavgvel\u001b[0m\u001b[1;33m[\u001b[0m\u001b[0mi\u001b[0m\u001b[1;33m]\u001b[0m \u001b[1;33m=\u001b[0m \u001b[0maverage\u001b[0m\u001b[1;33m(\u001b[0m\u001b[0mveli\u001b[0m\u001b[1;33m[\u001b[0m\u001b[0mi\u001b[0m\u001b[1;33m]\u001b[0m\u001b[1;33m)\u001b[0m\u001b[1;33m\u001b[0m\u001b[0m\n",
        "\u001b[1;32m<ipython-input-43-6488448fb642>\u001b[0m in \u001b[0;36mASEP\u001b[1;34m(pos, vel, road, cars)\u001b[0m\n\u001b[0;32m     29\u001b[0m             \u001b[0mvel\u001b[0m\u001b[1;33m[\u001b[0m\u001b[0mindex\u001b[0m\u001b[1;33m]\u001b[0m \u001b[1;33m=\u001b[0m \u001b[0mvel\u001b[0m\u001b[1;33m[\u001b[0m\u001b[0mindex\u001b[0m\u001b[1;33m]\u001b[0m \u001b[1;33m+\u001b[0m \u001b[1;36m1\u001b[0m\u001b[1;33m\u001b[0m\u001b[0m\n\u001b[0;32m     30\u001b[0m     \u001b[1;31m#Rule 6\u001b[0m\u001b[1;33m\u001b[0m\u001b[1;33m\u001b[0m\u001b[0m\n\u001b[1;32m---> 31\u001b[1;33m     \u001b[0mnewpos\u001b[0m\u001b[1;33m(\u001b[0m\u001b[0mpos\u001b[0m\u001b[1;33m,\u001b[0m \u001b[0mvel\u001b[0m\u001b[1;33m,\u001b[0m \u001b[0mindex\u001b[0m\u001b[1;33m)\u001b[0m\u001b[1;33m\u001b[0m\u001b[0m\n\u001b[0m\u001b[0;32m     32\u001b[0m     \u001b[1;32mprint\u001b[0m \u001b[1;34m\"ASEP Position is: \"\u001b[0m \u001b[1;33m+\u001b[0m \u001b[0mstr\u001b[0m\u001b[1;33m(\u001b[0m\u001b[0mpos\u001b[0m\u001b[1;33m[\u001b[0m\u001b[0mindex\u001b[0m\u001b[1;33m]\u001b[0m\u001b[1;33m)\u001b[0m\u001b[1;33m\u001b[0m\u001b[0m\n\u001b[0;32m     33\u001b[0m     \u001b[1;32mprint\u001b[0m \u001b[1;34m\"ASEP Velocity is: \"\u001b[0m \u001b[1;33m+\u001b[0m \u001b[0mstr\u001b[0m\u001b[1;33m(\u001b[0m\u001b[0mvel\u001b[0m\u001b[1;33m[\u001b[0m\u001b[0mindex\u001b[0m\u001b[1;33m]\u001b[0m\u001b[1;33m)\u001b[0m\u001b[1;33m\u001b[0m\u001b[0m\n",
        "\u001b[1;32m<ipython-input-5-6ec1bfa00f6a>\u001b[0m in \u001b[0;36mnewpos\u001b[1;34m(pos, vel, index)\u001b[0m\n\u001b[0;32m      1\u001b[0m \u001b[1;32mdef\u001b[0m \u001b[0mnewpos\u001b[0m\u001b[1;33m(\u001b[0m\u001b[0mpos\u001b[0m\u001b[1;33m,\u001b[0m \u001b[0mvel\u001b[0m\u001b[1;33m,\u001b[0m \u001b[0mindex\u001b[0m\u001b[1;33m)\u001b[0m\u001b[1;33m:\u001b[0m\u001b[1;33m\u001b[0m\u001b[0m\n\u001b[0;32m      2\u001b[0m     \u001b[1;34m\"\"\"Takes the parameters of position and velocity and pushes the new values to the array them for their movement based on their individual index.\"\"\"\u001b[0m\u001b[1;33m\u001b[0m\u001b[0m\n\u001b[1;32m----> 3\u001b[1;33m     \u001b[0mpos\u001b[0m\u001b[1;33m[\u001b[0m\u001b[0mindex\u001b[0m\u001b[1;33m]\u001b[0m \u001b[1;33m=\u001b[0m \u001b[0mpos\u001b[0m\u001b[1;33m[\u001b[0m\u001b[0mindex\u001b[0m\u001b[1;33m]\u001b[0m \u001b[1;33m+\u001b[0m \u001b[0mvel\u001b[0m\u001b[1;33m[\u001b[0m\u001b[0mindex\u001b[0m\u001b[1;33m]\u001b[0m \u001b[1;31m# moves each element\u001b[0m\u001b[1;33m\u001b[0m\u001b[0m\n\u001b[0m\u001b[0;32m      4\u001b[0m     \u001b[1;32mif\u001b[0m \u001b[0mpos\u001b[0m\u001b[1;33m[\u001b[0m\u001b[0mindex\u001b[0m\u001b[1;33m]\u001b[0m \u001b[1;33m>\u001b[0m \u001b[0mroad\u001b[0m\u001b[1;33m:\u001b[0m \u001b[1;31m#moves the element according to the offset of the road\u001b[0m\u001b[1;33m\u001b[0m\u001b[0m\n\u001b[0;32m      5\u001b[0m         \u001b[0mpos\u001b[0m\u001b[1;33m[\u001b[0m\u001b[0mindex\u001b[0m\u001b[1;33m]\u001b[0m \u001b[1;33m=\u001b[0m \u001b[0mpos\u001b[0m\u001b[1;33m[\u001b[0m\u001b[0mindex\u001b[0m\u001b[1;33m]\u001b[0m \u001b[1;33m-\u001b[0m \u001b[1;36m40\u001b[0m\u001b[1;33m\u001b[0m\u001b[0m\n",
        "\u001b[1;31mTypeError\u001b[0m: 'int' object has no attribute '__getitem__'"
       ]
      },
      {
       "output_type": "stream",
       "stream": "stdout",
       "text": [
        "ASEP Position is: 33.0\n",
        "ASEP Velocity is: 0.0\n",
        "ASEP Space between car and car before: 0.0\n",
        "ASEP Position is: 24.0\n",
        "ASEP Velocity is: 10.0\n",
        "ASEP Space between car and car before: 1.0\n",
        "ASEP Position is: 7.0\n",
        "ASEP Velocity is: 0.0\n",
        "ASEP Space between car and car before: 0.0\n",
        "ASEP Position is: 35.0\n",
        "ASEP Velocity is: 5.0\n",
        "ASEP Space between car and car before: 3.0\n",
        "ASEP Position is: 16.0\n",
        "ASEP Velocity is: 20.0\n",
        "ASEP Space between car and car before: 5.0\n",
        "ASEP Position is: 17.0\n",
        "ASEP Velocity is: 11.0\n",
        "ASEP Space between car and car before: 6.0\n",
        "ASEP Position is: 27.0\n",
        "ASEP Velocity is: 9.0\n",
        "ASEP Space between car and car before: 5.0\n",
        "ASEP Position is: 5.0\n",
        "ASEP Velocity is: 6.0\n",
        "ASEP Space between car and car before: 3.0\n",
        "ASEP Position is: 24.0\n",
        "ASEP Velocity is: 19.0\n",
        "ASEP Space between car and car before: 4.0\n",
        "ASEP Position is: 1.0\n",
        "ASEP Velocity is: 2.0\n",
        "ASEP Space between car and car before: 10.0\n",
        "ASEP Position is: 28.0\n",
        "ASEP Velocity is: 6.0\n",
        "ASEP Space between car and car before: 2.0\n",
        "ASEP Position is: 24.0\n",
        "ASEP Velocity is: 8.0\n",
        "ASEP Space between car and car before: 4.0\n",
        "ASEP Position is: 21.0\n",
        "ASEP Velocity is: 28.0\n",
        "ASEP Space between car and car before: 4.0\n",
        "ASEP Position is: 3.0\n",
        "ASEP Velocity is: 19.0\n",
        "ASEP Space between car and car before: 3.0\n",
        "ASEP Position is: 24.0\n",
        "ASEP Velocity is: 19.0\n",
        "ASEP Space between car and car before: 4.0\n",
        "ASEP Position is: 25.0\n",
        "ASEP Velocity is: 13.0\n",
        "ASEP Space between car and car before: 4.0\n",
        "ASEP Position is: 14.0\n",
        "ASEP Velocity is: 0.0\n",
        "ASEP Space between car and car before: 0.0\n",
        "ASEP Position is: 34.0\n",
        "ASEP Velocity is: 2.0\n",
        "ASEP Space between car and car before: 2.0\n",
        "ASEP Position is: 3.0\n",
        "ASEP Velocity is: 10.0\n",
        "ASEP Space between car and car before: 4.0\n",
        "ASEP Position is: 29.0\n",
        "ASEP Velocity is: 10.0\n",
        "ASEP Space between car and car before: 3.0\n",
        "ASEP Position is: 39.0\n",
        "ASEP Velocity is: 23.0\n",
        "ASEP Space between car and car before: 13.0\n",
        "ASEP Position is: 25.0\n",
        "ASEP Velocity is: 1.0\n",
        "ASEP Space between car and car before: 3.0\n",
        "ASEP Position is: 6.0\n",
        "ASEP Velocity is: 29.0\n",
        "ASEP Space between car and car before: 6.0\n",
        "ASEP Position is: 40.0\n",
        "ASEP Velocity is: 17.0\n",
        "ASEP Space between car and car before: 5.0\n",
        "ASEP Position is: 40.0\n",
        "ASEP Velocity is: 21.0\n",
        "ASEP Space between car and car before: 6.0\n",
        "ASEP Position is: 20.0\n",
        "ASEP Velocity is: 10.0\n",
        "ASEP Space between car and car before: 3.0\n",
        "ASEP Position is: 22.0\n",
        "ASEP Velocity is: 23.0\n",
        "ASEP Space between car and car before: 4.0\n",
        "ASEP Position is: 1.0\n",
        "ASEP Velocity is: 15.0\n",
        "ASEP Space between car and car before: 2.0\n",
        "ASEP Position is: 13.0\n",
        "ASEP Velocity is: 22.0\n",
        "ASEP Space between car and car before: 11.0\n",
        "ASEP Position is: 35.0\n",
        "ASEP Velocity is: 24.0\n",
        "ASEP Space between car and car before: 11.0\n",
        "ASEP Position is: 4.0\n",
        "ASEP Velocity is: 12.0\n",
        "ASEP Space between car and car before: 1.0\n",
        "ASEP Position is: 14.0\n",
        "ASEP Velocity is: 11.0\n",
        "ASEP Space between car and car before: 1.0\n",
        "ASEP Position is: 2.0\n",
        "ASEP Velocity is: 11.0\n",
        "ASEP Space between car and car before: 4.0\n",
        "ASEP Position is: 34.0\n",
        "ASEP Velocity is: 15.0\n",
        "ASEP Space between car and car before: 1.0\n",
        "ASEP Position is: 17.0\n",
        "ASEP Velocity is: 19.0\n",
        "ASEP Space between car and car before: 13.0\n",
        "ASEP Position is: 27.0\n",
        "ASEP Velocity is: 1.0\n",
        "ASEP Space between car and car before: 4.0\n",
        "ASEP Position is: 34.0\n",
        "ASEP Velocity is: 3.0\n",
        "ASEP Space between car and car before: 4.0\n",
        "ASEP Position is: 1.0\n",
        "ASEP Velocity is: 25.0\n",
        "ASEP Space between car and car before: 2.0\n",
        "ASEP Position is: 8.0\n",
        "ASEP Velocity is: 0.0\n",
        "ASEP Space between car and car before: 0.0\n",
        "ASEP Position is: 32.0\n",
        "ASEP Velocity is: 6.0\n",
        "ASEP Space between car and car before: 2.0\n",
        "ASEP Position is: 39.0\n",
        "ASEP Velocity is: 7.0\n",
        "ASEP Space between car and car before: 1.0\n",
        "ASEP Position is: 28.0\n",
        "ASEP Velocity is: 25.0\n",
        "ASEP Space between car and car before: 2.0\n",
        "ASEP Position is: 24.0\n",
        "ASEP Velocity is: 0.0\n",
        "ASEP Space between car and car before: 0.0\n",
        "ASEP Position is: 29.0\n",
        "ASEP Velocity is: 14.0\n",
        "ASEP Space between car and car before: 2.0\n",
        "ASEP Position is: 22.0\n",
        "ASEP Velocity is: 25.0\n",
        "ASEP Space between car and car before: 11.0\n",
        "ASEP Position is: 10.0\n",
        "ASEP Velocity is: 16.0\n",
        "ASEP Space between car and car before: 6.0\n",
        "ASEP Position is: 36.0\n",
        "ASEP Velocity is: 19.0\n",
        "ASEP Space between car and car before: 6.0\n",
        "ASEP Position is: 27.0\n",
        "ASEP Velocity is: 21.0\n",
        "ASEP Space between car and car before: 1.0\n",
        "ASEP Position is: 13.0\n",
        "ASEP Velocity is: 25.0\n",
        "ASEP Space between car and car before: 8.0\n",
        "ASEP Position is: 17.0\n",
        "ASEP Velocity is: 20.0\n",
        "ASEP Space between car and car before: 3.0\n",
        "ASEP Position is: 15.0\n",
        "ASEP Velocity is: 13.0\n",
        "ASEP Space between car and car before: 1.0\n",
        "ASEP Position is: 24.0\n",
        "ASEP Velocity is: 16.0\n",
        "ASEP Space between car and car before: 1.0\n",
        "ASEP Position is: 34.0\n",
        "ASEP Velocity is: 0.0\n",
        "ASEP Space between car and car before: 0.0\n",
        "ASEP Position is: 11.0\n",
        "ASEP Velocity is: 21.0\n",
        "ASEP Space between car and car before: 2.0\n",
        "ASEP Position is: 39.0\n",
        "ASEP Velocity is: 10.0\n",
        "ASEP Space between car and car before: 8.0\n",
        "ASEP Position is: 9.0\n",
        "ASEP Velocity is: 21.0\n",
        "ASEP Space between car and car before: 6.0\n",
        "ASEP Position is: 5.0\n",
        "ASEP Velocity is: 19.0\n",
        "ASEP Space between car and car before: 1.0\n",
        "ASEP Position is: 20.0\n",
        "ASEP Velocity is: 4.0\n",
        "ASEP Space between car and car before: 1.0\n",
        "ASEP Position is: 21.0\n",
        "ASEP Velocity is: 16.0\n",
        "ASEP Space between car and car before: 1.0\n",
        "ASEP Position is: 20.0\n",
        "ASEP Velocity is: 16.0\n",
        "ASEP Space between car and car before: 4.0\n",
        "ASEP Position is: 24.0\n",
        "ASEP Velocity is: 10.0\n",
        "ASEP Space between car and car before: 1.0\n",
        "ASEP Position is: 12.0\n",
        "ASEP Velocity is: 25.0\n",
        "ASEP Space between car and car before: 5.0\n",
        "ASEP Position is: 11.0\n",
        "ASEP Velocity is: 6.0\n",
        "ASEP Space between car and car before: 2.0\n",
        "ASEP Position is: 29.0\n",
        "ASEP Velocity is: 2.0\n",
        "ASEP Space between car and car before: 3.0\n"
       ]
      }
     ],
     "prompt_number": 47
    },
    {
     "cell_type": "code",
     "collapsed": false,
     "input": [
      "t = arange(0, 150)\n",
      "plot(t, posi)\n",
      "show()"
     ],
     "language": "python",
     "metadata": {},
     "outputs": [
      {
       "output_type": "display_data",
       "png": "[encoded data removed]",
       "text": [
        "<matplotlib.figure.Figure at 0x80ed160>"
       ]
      }
     ],
     "prompt_number": 48
    },
    {
     "cell_type": "markdown",
     "metadata": {},
     "source": [
      "Upon analysis of the graph above (Position per time), the movement of the chosen element appears to be very sporadic which is most likely inherit to the chosing of the random index in the position array. And theres an incredible lack of information here due to a sudden shift in the velocity array turning to an integer value. Most likely caused by a poorly written case statement, but at the time of interpretation of data such error hasnt been found.   "
     ]
    },
    {
     "cell_type": "code",
     "collapsed": false,
     "input": [
      "plot(t, curr)\n",
      "show()"
     ],
     "language": "python",
     "metadata": {},
     "outputs": [
      {
       "output_type": "display_data",
       "png": "[encoded data removed]",
       "text": [
        "<matplotlib.figure.Figure at 0x805bb00>"
       ]
      }
     ],
     "prompt_number": 49
    },
    {
     "cell_type": "markdown",
     "metadata": {},
     "source": [
      "The increase in current takes place at largest changes in position due to the direct relationship between current and average velocity."
     ]
    },
    {
     "cell_type": "code",
     "collapsed": false,
     "input": [
      "plot(dens, posi, 'b*')\n",
      "show()"
     ],
     "language": "python",
     "metadata": {},
     "outputs": [
      {
       "output_type": "display_data",
       "png": "[encoded data removed]",
       "text": [
        "<matplotlib.figure.Figure at 0x81c7ba8>"
       ]
      }
     ],
     "prompt_number": 50
    },
    {
     "cell_type": "markdown",
     "metadata": {},
     "source": [
      "Above we witness a smooth exponential decay of position per density, showing the collection of elements at the smaller velocities. However, we wouldnt expect a smooth expoential decay due to the individualized movement of each element. We would expect an expoential decay curve to arise but we would also expect some elements to express some spike at the transistion area. Thus expressing an error the code written for the new postion array."
     ]
    },
    {
     "cell_type": "code",
     "collapsed": false,
     "input": [
      "from matplotlib import animation\n",
      "import sys\n",
      "cars = 5\n",
      "road = 40\n",
      "x = np.linspace(0, road, 1000)\n",
      "pos, vel = InitialCond(cars, road)\n",
      "sys.path.insert(0,\"/c/Users/Jacob/JSAnimation\")\n",
      "fig = plt.figure()\n",
      "ax = plt.axes(xlim=(0, road), ylim=(0, cars))\n",
      "line, = ax.plot([], [], lw=2)\n",
      "\n",
      "def init():\n",
      "    line.set_data([], [])\n",
      "    return line,\n",
      "\n",
      "def animate(i):\n",
      "    line.set_data((x), posi1)\n",
      "    return line,\n",
      "\n",
      "animation.FuncAnimation(fig, animate, init_func=init,\n",
      "                        frames=100, interval=20, blit=True)\n",
      "show()"
     ],
     "language": "python",
     "metadata": {},
     "outputs": [
      {
       "output_type": "display_data",
       "png": "[encoded data removed]",
       "text": [
        "<matplotlib.figure.Figure at 0x81a8dd8>"
       ]
      }
     ],
     "prompt_number": 52
    },
    {
     "cell_type": "code",
     "collapsed": false,
     "input": [],
     "language": "python",
     "metadata": {},
     "outputs": []
    }
   ],
   "metadata": {}
  }
 ]
}