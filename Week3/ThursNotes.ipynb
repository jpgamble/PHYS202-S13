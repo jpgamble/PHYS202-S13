{
 "metadata": {
  "name": "ThursNotes"
 },
 "nbformat": 3,
 "nbformat_minor": 0,
 "worksheets": [
  {
   "cells": [
    {
     "cell_type": "markdown",
     "metadata": {},
     "source": [
      "NumPy ex"
     ]
    },
    {
     "cell_type": "markdown",
     "metadata": {},
     "source": [
      "a)\n",
      "-\n",
      "\\begin{equation}\n",
      "\\psi_k(x) = A(\\frac{ik +a\\tanh(ax)}{ik +a})e^{+ikx} \n",
      "\\end{equation}"
     ]
    },
    {
     "cell_type": "markdown",
     "metadata": {},
     "source": [
      "b)\n",
      "-\n",
      "\\begin{equation}\n",
      "v_1 = m_2 \\sqrt{\\frac{2G}{M}(\\frac{1}{r} - \\frac{1}{r_2})}\n",
      "\\end{equation}\n"
     ]
    },
    {
     "cell_type": "markdown",
     "metadata": {},
     "source": [
      "c)\n",
      "-\n",
      "\\begin{equation}\n",
      "f(\\theta) = \\frac{\\hbar}{p}\\displaystyle\\sum_{\\ell=0}^{\\infty} (2\\ell +1) e^{i\\delta_\\ell}\\sin\\delta_\\ell P_\\ell(\\cos\\theta))\n",
      " \\end{equation}"
     ]
    },
    {
     "cell_type": "markdown",
     "metadata": {},
     "source": [
      "d)\n",
      "-\n",
      "\\begin{equation}\n",
      "\\frac{d\\sigma}{d\\Omega} =  \\frac{k \\pi^2(\\pi - \\theta)}{mu_o^2\\theta^2 (2\\pi - \\theta)^2 \\sin\\theta}\n",
      " \\end{equation}"
     ]
    },
    {
     "cell_type": "markdown",
     "metadata": {},
     "source": [
      "e)\n",
      "-\n",
      "\\begin{equation}\n",
      "<f> = \\frac{1}{\\tau}\\int_{0}^{\\tau} f(t) dt\n",
      "\\end{equation}\n"
     ]
    },
    {
     "cell_type": "markdown",
     "metadata": {},
     "source": [
      "f)\n",
      "-\n",
      "\\begin{equation}\n",
      "\\Omega_S = \\omega \\frac{\\sin\\alpha}{sin\\theta} = \\frac{L}{\\lambda_1} = \\omega \\frac{\\sqrt{\\lambda_3^2 + (\\lambda_1^2 - \\lambda_3^2)\\sin\\alpha}}{\\lambda_1}\n",
      "\\end{equation}"
     ]
    },
    {
     "cell_type": "markdown",
     "metadata": {},
     "source": [
      "2\n",
      "="
     ]
    },
    {
     "cell_type": "code",
     "collapsed": false,
     "input": [
      "import math\n",
      "x = arange(-pi, pi, .001*pi)\n",
      "U  = -(1/cosh(x))**2\n",
      "plot(x, U)"
     ],
     "language": "python",
     "metadata": {},
     "outputs": [
      {
       "output_type": "pyout",
       "prompt_number": 18,
       "text": [
        "[<matplotlib.lines.Line2D at 0x83aca58>]"
       ]
      },
      {
       "output_type": "display_data",
       "png": "[encoded data removed]",
       "text": [
        "<matplotlib.figure.Figure at 0x7f0fd68>"
       ]
      }
     ],
     "prompt_number": 18
    },
    {
     "cell_type": "code",
     "collapsed": false,
     "input": [
      "help(xticks)\n"
     ],
     "language": "python",
     "metadata": {},
     "outputs": [
      {
       "output_type": "stream",
       "stream": "stdout",
       "text": [
        "Help on function xticks in module matplotlib.pyplot:\n",
        "\n",
        "xticks(*args, **kwargs)\n",
        "    Get or set the *x*-limits of the current tick locations and labels.\n",
        "    \n",
        "    ::\n",
        "    \n",
        "      # return locs, labels where locs is an array of tick locations and\n",
        "      # labels is an array of tick labels.\n",
        "      locs, labels = xticks()\n",
        "    \n",
        "      # set the locations of the xticks\n",
        "      xticks( arange(6) )\n",
        "    \n",
        "      # set the locations and labels of the xticks\n",
        "      xticks( arange(5), ('Tom', 'Dick', 'Harry', 'Sally', 'Sue') )\n",
        "    \n",
        "    The keyword args, if any, are :class:`~matplotlib.text.Text`\n",
        "    properties. For example, to rotate long labels::\n",
        "    \n",
        "      xticks( arange(12), calendar.month_name[1:13], rotation=17 )\n",
        "\n"
       ]
      }
     ],
     "prompt_number": 22
    },
    {
     "cell_type": "code",
     "collapsed": false,
     "input": [],
     "language": "python",
     "metadata": {},
     "outputs": []
    }
   ],
   "metadata": {}
  }
 ]
}