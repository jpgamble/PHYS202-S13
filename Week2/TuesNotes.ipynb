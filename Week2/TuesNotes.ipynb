{
 "metadata": {
  "name": "TuesNotes"
 },
 "nbformat": 3,
 "worksheets": [
  {
   "cells": [
    {
     "cell_type": "markdown",
     "source": [
      "Class notes for Tuesday April 9, 2013"
     ]
    },
    {
     "cell_type": "code",
     "collapsed": false,
     "input": [
      "print \"Hello\""
     ],
     "language": "python",
     "outputs": [
      {
       "output_type": "stream",
       "stream": "stdout",
       "text": [
        "Hello"
       ]
      }
     ],
     "prompt_number": 1
    },
    {
     "cell_type": "code",
     "collapsed": false,
     "input": [
      "a = 2 + 3j",
      "a"
     ],
     "language": "python",
     "outputs": [
      {
       "output_type": "pyout",
       "prompt_number": 2,
       "text": [
        "(2+3j)"
       ]
      }
     ],
     "prompt_number": 2
    },
    {
     "cell_type": "code",
     "collapsed": false,
     "input": [
      "b = 6 + 5j",
      "c = a + b",
      "print c"
     ],
     "language": "python",
     "outputs": [
      {
       "output_type": "stream",
       "stream": "stdout",
       "text": [
        "(8+8j)"
       ]
      }
     ],
     "prompt_number": 3
    },
    {
     "cell_type": "code",
     "collapsed": false,
     "input": [
      "a.real"
     ],
     "language": "python",
     "outputs": [
      {
       "output_type": "pyout",
       "prompt_number": 5,
       "text": [
        "2.0"
       ]
      }
     ],
     "prompt_number": 5
    },
    {
     "cell_type": "code",
     "collapsed": false,
     "input": [
      "c.real"
     ],
     "language": "python",
     "outputs": [
      {
       "output_type": "pyout",
       "prompt_number": 6,
       "text": [
        "8.0"
       ]
      }
     ],
     "prompt_number": 6
    },
    {
     "cell_type": "markdown",
     "source": [
      "Python knows about complex numbers and can do math"
     ]
    },
    {
     "cell_type": "code",
     "collapsed": false,
     "input": [
      "print \"Who's your daddy?\""
     ],
     "language": "python",
     "outputs": [
      {
       "output_type": "stream",
       "stream": "stdout",
       "text": [
        "Who's your daddy?"
       ]
      }
     ],
     "prompt_number": 7
    },
    {
     "cell_type": "code",
     "collapsed": false,
     "input": [
      "print \"Hello, how are you?\""
     ],
     "language": "python",
     "outputs": [
      {
       "output_type": "stream",
       "stream": "stdout",
       "text": [
        "Hello, how are you?"
       ]
      }
     ],
     "prompt_number": 8
    },
    {
     "cell_type": "code",
     "collapsed": false,
     "input": [
      "print \"my\", \"dog\", \"spot\""
     ],
     "language": "python",
     "outputs": [
      {
       "output_type": "stream",
       "stream": "stdout",
       "text": [
        "my dog spot"
       ]
      }
     ],
     "prompt_number": 9
    },
    {
     "cell_type": "code",
     "collapsed": false,
     "input": [
      "print \"my\"",
      "print \"dog\"",
      "print \"spot\""
     ],
     "language": "python",
     "outputs": [
      {
       "output_type": "stream",
       "stream": "stdout",
       "text": [
        "my",
        "dog",
        "spot"
       ]
      }
     ],
     "prompt_number": 10
    },
    {
     "cell_type": "code",
     "collapsed": false,
     "input": [
      "print \"\"\" my",
      "dog",
      "spot\"\"\""
     ],
     "language": "python",
     "outputs": [
      {
       "output_type": "stream",
       "stream": "stdout",
       "text": [
        " my",
        "dog",
        "spot"
       ]
      }
     ],
     "prompt_number": 11
    },
    {
     "cell_type": "code",
     "collapsed": false,
     "input": [
      "mystr= \"\"\"my ",
      "dog",
      "spot\"\"\"",
      "mystr"
     ],
     "language": "python",
     "outputs": [
      {
       "output_type": "pyout",
       "prompt_number": 12,
       "text": [
        "'my \\ndog\\nspot'"
       ]
      }
     ],
     "prompt_number": 12
    },
    {
     "cell_type": "markdown",
     "source": [
      "Python uses \\n to represent new lines in strings"
     ]
    },
    {
     "cell_type": "code",
     "collapsed": false,
     "input": [
      "print mystr"
     ],
     "language": "python",
     "outputs": [
      {
       "output_type": "stream",
       "stream": "stdout",
       "text": [
        "my ",
        "dog",
        "spot"
       ]
      }
     ],
     "prompt_number": 13
    },
    {
     "cell_type": "markdown",
     "source": [
      "Python Numerical Tools ",
      "======================"
     ]
    },
    {
     "cell_type": "code",
     "collapsed": false,
     "input": [
      "a  = [0,1,2,3]",
      "a"
     ],
     "language": "python",
     "outputs": [
      {
       "output_type": "pyout",
       "prompt_number": 14,
       "text": [
        "[0, 1, 2, 3]"
       ]
      }
     ],
     "prompt_number": 14
    },
    {
     "cell_type": "code",
     "collapsed": true,
     "input": [
      "import numpy as np"
     ],
     "language": "python",
     "outputs": [],
     "prompt_number": 16
    },
    {
     "cell_type": "code",
     "collapsed": false,
     "input": [
      "b = np.array([4,5,6])",
      "c = np.array(a)",
      "print b"
     ],
     "language": "python",
     "outputs": [
      {
       "output_type": "stream",
       "stream": "stdout",
       "text": [
        "[4 5 6]"
       ]
      }
     ],
     "prompt_number": 19
    },
    {
     "cell_type": "code",
     "collapsed": false,
     "input": [
      "print c"
     ],
     "language": "python",
     "outputs": [
      {
       "output_type": "stream",
       "stream": "stdout",
       "text": [
        "[0 1 2 3]"
       ]
      }
     ],
     "prompt_number": 20
    },
    {
     "cell_type": "markdown",
     "source": [
      "Let's benchmark python's handleing of lists of vs arrays",
      "========================================================"
     ]
    },
    {
     "cell_type": "code",
     "collapsed": true,
     "input": [
      "L = range(1000)"
     ],
     "language": "python",
     "outputs": [],
     "prompt_number": 21
    },
    {
     "cell_type": "code",
     "collapsed": false,
     "input": [
      "%timeit[i**2 for i in L]"
     ],
     "language": "python",
     "outputs": [
      {
       "output_type": "stream",
       "stream": "stdout",
       "text": [
        "10000 loops, best of 3: 100 us per loop"
       ]
      }
     ],
     "prompt_number": 22
    },
    {
     "cell_type": "code",
     "collapsed": true,
     "input": [
      "d = np.arange(1000)"
     ],
     "language": "python",
     "outputs": [],
     "prompt_number": 23
    },
    {
     "cell_type": "code",
     "collapsed": false,
     "input": [
      "%timeit[d**2]"
     ],
     "language": "python",
     "outputs": [
      {
       "output_type": "stream",
       "stream": "stdout",
       "text": [
        "100000 loops, best of 3: 3.35 us per loop"
       ]
      }
     ],
     "prompt_number": 25
    },
    {
     "cell_type": "code",
     "collapsed": false,
     "input": [
      "np.lookfor(\"create array\")"
     ],
     "language": "python",
     "outputs": [
      {
       "output_type": "stream",
       "stream": "stdout",
       "text": [
        "Search results for 'create array'",
        "---------------------------------",
        "numpy.array",
        "    Create an array.",
        "numpy.memmap",
        "    Create a memory-map to an array stored in a *binary* file on disk.",
        "numpy.fromiter",
        "    Create a new 1-dimensional array from an iterable object.",
        "numpy.diagflat",
        "    Create a two-dimensional array with the flattened input as a diagonal.",
        "numpy.ma.diagflat",
        "    Create a two-dimensional array with the flattened input as a diagonal.",
        "numpy.ctypeslib.as_array",
        "    Create a numpy array from a ctypes array or a ctypes POINTER.",
        "numpy.ma.make_mask",
        "    Create a boolean mask from an array.",
        "numpy.ctypeslib.as_ctypes",
        "    Create and return a ctypes object from a numpy array.  Actually",
        "numpy.ma.mrecords.fromarrays",
        "    Creates a mrecarray from a (flat) list of masked arrays.",
        "numpy.lib.format.open_memmap",
        "    Open a .npy file as a memory-mapped array.",
        "numpy.ma.MaskedArray.__new__",
        "    Create a new masked array from scratch.",
        "numpy.lib.arrayterator.Arrayterator",
        "    Buffered iterator for big arrays.",
        "numpy.ma.mrecords.fromtextfile",
        "    Creates a mrecarray from data stored in the file `filename`.",
        "numpy.oldnumeric.ma.fromfunction",
        "    apply f to s to create array as in umath.",
        "numpy.oldnumeric.ma.masked_object",
        "    Create array masked where exactly data equal to value",
        "numpy.oldnumeric.ma.masked_values",
        "    Create a masked array; mask is nomask if possible.",
        "numpy.asarray",
        "    Convert the input to an array.",
        "numpy.ndarray",
        "    ndarray(shape, dtype=float, buffer=None, offset=0,",
        "numpy.recarray",
        "    Construct an ndarray that allows field access using attributes.",
        "numpy.chararray",
        "    chararray(shape, itemsize=1, unicode=False, buffer=None, offset=0,",
        "numpy.sum",
        "    Sum of array elements over a given axis.",
        "numpy.asanyarray",
        "    Convert the input to an ndarray, but pass ndarray subclasses through.",
        "numpy.copy",
        "    Return an array copy of the given object.",
        "numpy.diag",
        "    Extract a diagonal or construct a diagonal array.",
        "numpy.sort",
        "    Return a sorted copy of an array.",
        "numpy.array_equiv",
        "    Returns True if input arrays are shape consistent and all elements equal.",
        "numpy.dtype",
        "    Create a data type object.",
        "numpy.choose",
        "    Construct an array from an index array and a set of arrays to choose from.",
        "numpy.nditer",
        "    Efficient multi-dimensional iterator object to iterate over arrays.",
        "numpy.swapaxes",
        "    Interchange two axes of an array.",
        "numpy.empty_like",
        "    Return a new array with the same shape and type as a given array.",
        "numpy.asarray_chkfinite",
        "    Convert the input to an array, checking for NaNs or Infs.",
        "numpy.diag_indices",
        "    Return the indices to access the main diagonal of an array.",
        "numpy.ma.choose",
        "    Use an index array to construct a new array from a set of choices.",
        "numpy.chararray.tolist",
        "    a.tolist()",
        "numpy.matlib.rand",
        "    Return a matrix of random values with given shape.",
        "numpy.ma.empty_like",
        "    Return a new array with the same shape and type as a given array.",
        "numpy.ma.make_mask_none",
        "    Return a boolean mask of the given shape, filled with False.",
        "numpy.ma.mrecords.fromrecords",
        "    Creates a MaskedRecords from a list of records.",
        "numpy.load",
        "    Load a pickled, ``.npy``, or ``.npz`` binary file.",
        "numpy.around",
        "    Evenly round to the given number of decimals.",
        "numpy.source",
        "    Print or write to a file the source code for a Numpy object.",
        "numpy.diagonal",
        "    Return specified diagonals.",
        "numpy.fft.ifft",
        "    Compute the one-dimensional inverse discrete Fourier Transform.",
        "numpy.fft.ifftn",
        "    Compute the N-dimensional inverse discrete Fourier Transform."
       ]
      }
     ],
     "prompt_number": 29
    },
    {
     "cell_type": "code",
     "collapsed": false,
     "input": [
      "type(a)"
     ],
     "language": "python",
     "outputs": [
      {
       "output_type": "pyout",
       "prompt_number": 31,
       "text": [
        "list"
       ]
      }
     ],
     "prompt_number": 31
    },
    {
     "cell_type": "code",
     "collapsed": false,
     "input": [
      "b"
     ],
     "language": "python",
     "outputs": [
      {
       "output_type": "pyout",
       "prompt_number": 32,
       "text": [
        "array([4, 5, 6])"
       ]
      }
     ],
     "prompt_number": 32
    },
    {
     "cell_type": "code",
     "collapsed": false,
     "input": [
      "type(b)"
     ],
     "language": "python",
     "outputs": [
      {
       "output_type": "pyout",
       "prompt_number": 34,
       "text": [
        "numpy.ndarray"
       ]
      }
     ],
     "prompt_number": 34
    },
    {
     "cell_type": "markdown",
     "source": [
      "How to create various kinds of arrays",
      "-------------------------------------"
     ]
    },
    {
     "cell_type": "code",
     "collapsed": false,
     "input": [
      "b.ndim"
     ],
     "language": "python",
     "outputs": [
      {
       "output_type": "pyout",
       "prompt_number": 35,
       "text": [
        "1"
       ]
      }
     ],
     "prompt_number": 35
    },
    {
     "cell_type": "code",
     "collapsed": false,
     "input": [
      "b.shape"
     ],
     "language": "python",
     "outputs": [
      {
       "output_type": "pyout",
       "prompt_number": 36,
       "text": [
        "(3L,)"
       ]
      }
     ],
     "prompt_number": 36
    },
    {
     "cell_type": "code",
     "collapsed": false,
     "input": [
      "len(b)"
     ],
     "language": "python",
     "outputs": [
      {
       "output_type": "pyout",
       "prompt_number": 37,
       "text": [
        "3"
       ]
      }
     ],
     "prompt_number": 37
    },
    {
     "cell_type": "code",
     "collapsed": true,
     "input": [
      "e = np.array([[0,1,2],[3,4,5]])"
     ],
     "language": "python",
     "outputs": [],
     "prompt_number": 38
    },
    {
     "cell_type": "code",
     "collapsed": false,
     "input": [
      "print e # 2X3 matrix"
     ],
     "language": "python",
     "outputs": [
      {
       "output_type": "stream",
       "stream": "stdout",
       "text": [
        "[[0 1 2]",
        " [3 4 5]]"
       ]
      }
     ],
     "prompt_number": 40
    },
    {
     "cell_type": "code",
     "collapsed": false,
     "input": [
      "e.ndim"
     ],
     "language": "python",
     "outputs": [
      {
       "output_type": "pyout",
       "prompt_number": 41,
       "text": [
        "2"
       ]
      }
     ],
     "prompt_number": 41
    },
    {
     "cell_type": "code",
     "collapsed": false,
     "input": [
      "e.shape"
     ],
     "language": "python",
     "outputs": [
      {
       "output_type": "pyout",
       "prompt_number": 42,
       "text": [
        "(2L, 3L)"
       ]
      }
     ],
     "prompt_number": 42
    },
    {
     "cell_type": "code",
     "collapsed": false,
     "input": [
      "len(e)"
     ],
     "language": "python",
     "outputs": [
      {
       "output_type": "pyout",
       "prompt_number": 43,
       "text": [
        "2"
       ]
      }
     ],
     "prompt_number": 43
    },
    {
     "cell_type": "code",
     "collapsed": false,
     "input": [],
     "language": "python",
     "outputs": [],
     "prompt_number": 45
    },
    {
     "cell_type": "code",
     "collapsed": true,
     "input": [],
     "language": "python",
     "outputs": []
    }
   ]
  }
 ]
}