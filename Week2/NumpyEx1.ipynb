{
 "metadata": {
  "name": "NumpyEx1"
 },
 "nbformat": 3,
 "worksheets": [
  {
   "cells": [
    {
     "cell_type": "markdown",
     "source": [
      "1. Arrays with correct values"
     ]
    },
    {
     "cell_type": "code",
     "collapsed": false,
     "input": [
      "a = np.ones((4,4))",
      "a[2,3]=2",
      "a[3,1] = 6"
     ],
     "language": "python",
     "outputs": [],
     "prompt_number": 5
    },
    {
     "cell_type": "code",
     "collapsed": false,
     "input": [
      "print a"
     ],
     "language": "python",
     "outputs": [
      {
       "output_type": "stream",
       "stream": "stdout",
       "text": [
        "[[ 1.  1.  1.  1.]",
        " [ 1.  1.  1.  1.]",
        " [ 1.  1.  1.  2.]",
        " [ 1.  6.  1.  1.]]"
       ]
      }
     ],
     "prompt_number": 9
    },
    {
     "cell_type": "code",
     "collapsed": false,
     "input": [
      "b = np.diag((np.array([2,3,4,5,6])))",
      "c = np.zeros((1,5))",
      "print vstack((c,b))"
     ],
     "language": "python",
     "outputs": [
      {
       "output_type": "stream",
       "stream": "stdout",
       "text": [
        "[[ 0.  0.  0.  0.  0.]",
        " [ 2.  0.  0.  0.  0.]",
        " [ 0.  3.  0.  0.  0.]",
        " [ 0.  0.  4.  0.  0.]",
        " [ 0.  0.  0.  5.  0.]",
        " [ 0.  0.  0.  0.  6.]]"
       ]
      }
     ],
     "prompt_number": 38
    },
    {
     "cell_type": "markdown",
     "source": [
      "Question 2: Np The Title",
      "="
     ]
    },
    {
     "cell_type": "code",
     "collapsed": false,
     "input": [],
     "language": "python",
     "outputs": [
      {
       "output_type": "pyout",
       "prompt_number": 40,
       "text": [
        "<function matplotlib.pyplot.title>"
       ]
      }
     ],
     "prompt_number": 40
    },
    {
     "cell_type": "code",
     "collapsed": true,
     "input": [],
     "language": "python",
     "outputs": []
    }
   ]
  }
 ]
}