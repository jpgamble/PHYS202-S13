{
 "metadata": {
  "name": "ProjectEuler20"
 },
 "nbformat": 3,
 "nbformat_minor": 0,
 "worksheets": [
  {
   "cells": [
    {
     "cell_type": "markdown",
     "metadata": {},
     "source": [
      "Factorial digit sum\n",
      "=\n",
      "Problem 20\n",
      "-\n",
      "n! means n x(n - 1)  ...  3 x 2 x 1\n",
      "\n",
      "For example, 10! = 10 x 9  ...  3 x 2 x 1 = 3628800,\n",
      "and the sum of the digits in the number 10! is 3 + 6 + 2 + 8 + 8 + 0 + 0 = 27.\n",
      "\n",
      "Find the sum of the digits in the number 100!"
     ]
    },
    {
     "cell_type": "code",
     "collapsed": false,
     "input": [
      "def factorial(n):\n",
      "    k = 1\n",
      "    r = 0\n",
      "    for i in range(1, n, 1):\n",
      "        k *= i\n",
      "    for f in str(k):\n",
      "        r += int(f)\n",
      "    return r    "
     ],
     "language": "python",
     "metadata": {},
     "outputs": [],
     "prompt_number": 14
    },
    {
     "cell_type": "code",
     "collapsed": false,
     "input": [
      "factorial(10)"
     ],
     "language": "python",
     "metadata": {},
     "outputs": [
      {
       "output_type": "pyout",
       "prompt_number": 15,
       "text": [
        "27"
       ]
      }
     ],
     "prompt_number": 15
    },
    {
     "cell_type": "code",
     "collapsed": false,
     "input": [
      "factorial(100)"
     ],
     "language": "python",
     "metadata": {},
     "outputs": [
      {
       "output_type": "pyout",
       "prompt_number": 16,
       "text": [
        "648"
       ]
      }
     ],
     "prompt_number": 16
    },
    {
     "cell_type": "code",
     "collapsed": false,
     "input": [],
     "language": "python",
     "metadata": {},
     "outputs": []
    }
   ],
   "metadata": {}
  }
 ]
}