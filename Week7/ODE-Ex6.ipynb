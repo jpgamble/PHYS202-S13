{
 "metadata": {
  "name": "ODE-Ex6"
 },
 "nbformat": 3,
 "nbformat_minor": 0,
 "worksheets": [
  {
   "cells": [
    {
     "cell_type": "code",
     "collapsed": false,
     "input": [
      "import numpy"
     ],
     "language": "python",
     "metadata": {},
     "outputs": [],
     "prompt_number": 13
    },
    {
     "cell_type": "markdown",
     "metadata": {},
     "source": [
      "Thursday Notes Completed\n",
      "=\n",
      "Example 1\n",
      "-"
     ]
    },
    {
     "cell_type": "code",
     "collapsed": false,
     "input": [
      "x0 =0\n",
      "v0 = 0\n",
      "t0 = 0\n",
      "t = arange(1,10)\n",
      "a = dvdt = [9.8]\n",
      "x= zeros(len(t))\n",
      "x[0] = x0\n",
      "v = zeros(len(t))\n",
      "v[0] = v0\n",
      "dt = 1\n",
      "for i in range(1, len(t)-1):\n",
      "    k = (v[i])*dt + x[i-1]\n",
      "    x[i]= k\n",
      "#print x\n",
      "for i in range(1,len(t)-1):\n",
      "    k = (a[0])*dt + v[i-1]\n",
      "    v[i] = k\n",
      "#print v"
     ],
     "language": "python",
     "metadata": {},
     "outputs": [],
     "prompt_number": 2
    },
    {
     "cell_type": "markdown",
     "metadata": {},
     "source": [
      "Exercise 1\n",
      "="
     ]
    },
    {
     "cell_type": "code",
     "collapsed": false,
     "input": [
      "dx = .25\n",
      "x1 = arange(0, 1+.01, dx)\n",
      "dydx = zeros(len(x1))\n",
      "dydx2 = zeros(len(x1))\n",
      "y = zeros(len(x1))\n",
      "dydx[0] = 0\n",
      "y[0]= 0\n",
      "for i in range(0, len(x1)):\n",
      "    \n",
      "    y[i] = .5*(dydx[i])*dx - .5*x1[i]\n",
      "print y"
     ],
     "language": "python",
     "metadata": {},
     "outputs": [
      {
       "output_type": "stream",
       "stream": "stdout",
       "text": [
        "[ 0.    -0.125 -0.25  -0.375 -0.5  ]\n"
       ]
      }
     ],
     "prompt_number": 2
    },
    {
     "cell_type": "markdown",
     "metadata": {},
     "source": [
      "y(1) =  -0.75 for dx = 0.25"
     ]
    },
    {
     "cell_type": "code",
     "collapsed": false,
     "input": [
      "dx = .02\n",
      "x = arange(0, 1+.01, dx)\n",
      "dydx = zeros(len(x))\n",
      "y2 = zeros(len(x))\n",
      "dydx[0] = 0\n",
      "y2[0]= 0\n",
      "for i in range(0, len(x)):\n",
      "    y2[i] = .5*(dydx[i])*dx - .5*x[i]\n",
      "print y2"
     ],
     "language": "python",
     "metadata": {},
     "outputs": [
      {
       "output_type": "stream",
       "stream": "stdout",
       "text": [
        "[ 0.   -0.01 -0.02 -0.03 -0.04 -0.05 -0.06 -0.07 -0.08 -0.09 -0.1  -0.11\n",
        " -0.12 -0.13 -0.14 -0.15 -0.16 -0.17 -0.18 -0.19 -0.2  -0.21 -0.22 -0.23\n",
        " -0.24 -0.25 -0.26 -0.27 -0.28 -0.29 -0.3  -0.31 -0.32 -0.33 -0.34 -0.35\n",
        " -0.36 -0.37 -0.38 -0.39 -0.4  -0.41 -0.42 -0.43 -0.44 -0.45 -0.46 -0.47\n",
        " -0.48 -0.49 -0.5 ]\n"
       ]
      }
     ],
     "prompt_number": 3
    },
    {
     "cell_type": "markdown",
     "metadata": {},
     "source": [
      "y(1) =  -0.98 for dx = 0.02"
     ]
    },
    {
     "cell_type": "code",
     "collapsed": false,
     "input": [
      "# B)\n",
      "y3 = .25* e**(2*x) - .5*x -.25\n",
      "plot(x1, y, 'b-', x, y2, 'r.', x, y3, 'g-')\n",
      "#legend('dx = .25', 'dx=.02', 'Exact', loc = 'upper left')\n",
      "legend(('dx = .25', 'dx = .02', 'Exact'),prop = {'size' : 8}, loc='lower left', shadow=True)\n",
      "show()"
     ],
     "language": "python",
     "metadata": {},
     "outputs": [
      {
       "output_type": "display_data",
       "png": "[encoded data removed]",
       "text": [
        "<matplotlib.figure.Figure at 0x7ebea90>"
       ]
      }
     ],
     "prompt_number": 5
    },
    {
     "cell_type": "code",
     "collapsed": false,
     "input": [],
     "language": "python",
     "metadata": {},
     "outputs": []
    }
   ],
   "metadata": {}
  }
 ]
}