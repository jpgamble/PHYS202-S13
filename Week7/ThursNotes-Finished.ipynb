{
 "metadata": {
  "name": "ThursNotes-Finished"
 },
 "nbformat": 3,
 "nbformat_minor": 0,
 "worksheets": [
  {
   "cells": [
    {
     "cell_type": "code",
     "collapsed": false,
     "input": [
      "import numpy"
     ],
     "language": "python",
     "metadata": {},
     "outputs": [],
     "prompt_number": 13
    },
    {
     "cell_type": "markdown",
     "metadata": {},
     "source": [
      "Thursday Notes Completed\n",
      "=\n",
      "Example 1\n",
      "-"
     ]
    },
    {
     "cell_type": "code",
     "collapsed": false,
     "input": [
      "x0 =0\n",
      "v0 = 0\n",
      "t0 = 0\n",
      "t = arange(1,10)\n",
      "a = dvdt = [9.8]\n",
      "x= zeros(len(t))\n",
      "x[0] = x0\n",
      "v = zeros(len(t))\n",
      "v[0] = v0\n",
      "dt = 1\n",
      "for i in range(1, len(t)-1):\n",
      "    k = (v[i])*dt + x[i-1]\n",
      "    x[i]= k\n",
      "#print x\n",
      "for i in range(1,len(t)-1):\n",
      "    k = (a[0])*dt + v[i-1]\n",
      "    v[i] = k\n",
      "#print v"
     ],
     "language": "python",
     "metadata": {},
     "outputs": [],
     "prompt_number": 2
    },
    {
     "cell_type": "markdown",
     "metadata": {},
     "source": [
      "Exercise 1\n",
      "="
     ]
    },
    {
     "cell_type": "code",
     "collapsed": false,
     "input": [
      "dx = .25\n",
      "x1 = arange(0, 1+.01, dx)\n",
      "dydx = zeros(len(x1))\n",
      "y = zeros(len(x1))\n",
      "dydx[0] = 0\n",
      "y[0]= 0\n",
      "for i in range(1, len(x1)):\n",
      "    y[i]=y[i-1]+dx*(x1[i-1]+2*y[i-1])\n",
      "print y"
     ],
     "language": "python",
     "metadata": {},
     "outputs": [
      {
       "output_type": "stream",
       "stream": "stdout",
       "text": [
        "[ 0.        0.        0.0625    0.21875   0.515625]\n"
       ]
      }
     ],
     "prompt_number": 5
    },
    {
     "cell_type": "markdown",
     "metadata": {},
     "source": [
      "y(1) =  .5156 for dx = 0.25"
     ]
    },
    {
     "cell_type": "code",
     "collapsed": false,
     "input": [
      "dx = .02\n",
      "x2 = arange(0, 1+.01, dx)\n",
      "dydx = zeros(len(x2))\n",
      "y2 = zeros(len(x2))\n",
      "dydx[0] = 0\n",
      "y2[0]= 0\n",
      "for i in range(1, len(x2)):\n",
      "    y2[i]=y2[i-1]+dx*(x2[i-1]+2*y2[i-1])\n",
      "print y2[len(x2)-1]"
     ],
     "language": "python",
     "metadata": {},
     "outputs": [
      {
       "output_type": "stream",
       "stream": "stdout",
       "text": [
        "1.02667083657\n"
       ]
      }
     ],
     "prompt_number": 11
    },
    {
     "cell_type": "markdown",
     "metadata": {},
     "source": [
      "y(1) =  1.0266for dx = 0.02"
     ]
    },
    {
     "cell_type": "code",
     "collapsed": false,
     "input": [
      "# B)\n",
      "y3 = .25* e**(2*x2) - .5*x2 -.25\n",
      "plot(x1, y, 'b-', x2, y2, 'r.', x2, y3, 'g-')\n",
      "#legend('dx = .25', 'dx=.02', 'Exact', loc = 'upper left')\n",
      "legend(('dx = .25', 'dx = .02', 'Exact'),prop = {'size' : 8}, loc='lower left', shadow=True)\n",
      "show()"
     ],
     "language": "python",
     "metadata": {},
     "outputs": [
      {
       "output_type": "display_data",
       "png": "[encoded data removed]",
       "text": [
        "<matplotlib.figure.Figure at 0x7e615c0>"
       ]
      }
     ],
     "prompt_number": 14
    },
    {
     "cell_type": "markdown",
     "metadata": {},
     "source": [
      "dx = .02 gives the best result"
     ]
    },
    {
     "cell_type": "code",
     "collapsed": false,
     "input": [
      "# C)\n",
      "#Euler-Cromer\n",
      "dx = .25\n",
      "x1 = arange(0, 1+.01, dx)\n",
      "dydx = zeros(len(x1))\n",
      "y = zeros(len(x1))\n",
      "dydx[0] = 0\n",
      "y[0]= 0\n",
      "for i in range(1, len(x1)):\n",
      "    dydx[i]=dydx[i-1]+dx*(x1[i-1]+2*y[i-1]+1)\n",
      "    y[i] = y[i]=y[i-1]+dx*(dydx[i-1])\n",
      "print y[len(x1)-1]\n",
      "dx = .02\n",
      "x2 = arange(0, 1+.01, dx)\n",
      "dydx2 = zeros(len(x2))\n",
      "y2 = zeros(len(x2))\n",
      "dydx[0] = 0\n",
      "y2[0]= 0\n",
      "for i in range(1, len(x2)):\n",
      "    dydx2[i]=dydx2[i-1]+dx*(x2[i-1]+2*y2[i-1]+1)\n",
      "    y2[i]=y2[i-1]+dx*(dydx2[i-1])\n",
      "print y2[len(x2)-1]"
     ],
     "language": "python",
     "metadata": {},
     "outputs": [
      {
       "output_type": "stream",
       "stream": "stdout",
       "text": [
        "0.4453125\n",
        "0.738757528689\n"
       ]
      }
     ],
     "prompt_number": 1
    },
    {
     "cell_type": "code",
     "collapsed": false,
     "input": [
      "#Midpoint\n",
      "dx = .25\n",
      "x3 = arange(0, 1+.01, dx)\n",
      "dydx3 = zeros(len(x3))\n",
      "y3 = zeros(len(x3))\n",
      "dydx3[0] = 0\n",
      "y3[0]= 0\n",
      "for i in range(1, len(x1)):\n",
      "    dydx3[i]=dydx3[i-1]+dx*(x3[i-1]+2*y3[i-1]+1)\n",
      "    y3[i] = y3[i]=y3[i-1]+.5*dx*(dydx3[i] + dydx[i-1])\n",
      "print y3[len(x1)-1]\n",
      "dx = .02\n",
      "x4 = arange(0, 1+.01, dx)\n",
      "dydx4 = zeros(len(x4))\n",
      "y4 = zeros(len(x4))\n",
      "dydx4[0] = 0\n",
      "y4[0]= 0\n",
      "for i in range(1, len(x4)):\n",
      "    dydx4[i]=dydx4[i-1]+dx*(x4[i-1]+2*y4[i-1]+1)\n",
      "    y4[i]=y4[i-1]+dx*(dydx4[i-1] + dydx4[i])*.5\n",
      "print y4[len(x2)-1]"
     ],
     "language": "python",
     "metadata": {},
     "outputs": [
      {
       "output_type": "stream",
       "stream": "stdout",
       "text": [
        "0.656776428223\n",
        "0.762574037046\n"
       ]
      }
     ],
     "prompt_number": 3
    },
    {
     "cell_type": "code",
     "collapsed": false,
     "input": [
      "dx= .02\n",
      "x = arange(0, 1+.01, dx)\n",
      "y5 = zeros(len(x))\n",
      "for i in range(len(x)):\n",
      "    y5[i] = .25* e**(2*x[i]) - .5*x[i] -.25\n",
      "diff1 = y5 - y2\n",
      "dx= .02\n",
      "x2 = arange(0, 1+.01, dx)\n",
      "y6 = zeros(len(x2))\n",
      "for i in range(len(x2)):\n",
      "    y6[i] = .25* e**(2*x2[i]) - .5*x2[i] -.25\n",
      "diff2 = y6 - y4\n",
      "plot(x, diff1, 'b-', x2, diff2, 'r.')\n",
      "legend(('diff with Euler-Cromer', 'diff with Midpoint'),prop = {'size' : 8}, loc='lower left', shadow=True)\n",
      "show()"
     ],
     "language": "python",
     "metadata": {},
     "outputs": [
      {
       "output_type": "display_data",
       "png": "[encoded data removed]",
       "text": [
        "<matplotlib.figure.Figure at 0x892d780>"
       ]
      }
     ],
     "prompt_number": 15
    },
    {
     "cell_type": "markdown",
     "metadata": {},
     "source": [
      "Midpoint provides a slightly better estimate but both are relatively close to each other\n"
     ]
    },
    {
     "cell_type": "code",
     "collapsed": false,
     "input": [],
     "language": "python",
     "metadata": {},
     "outputs": []
    }
   ],
   "metadata": {}
  }
 ]
}