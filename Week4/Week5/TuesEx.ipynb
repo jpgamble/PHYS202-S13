{
 "metadata": {
  "name": "TuesEx"
 },
 "nbformat": 3,
 "nbformat_minor": 0,
 "worksheets": [
  {
   "cells": [
    {
     "cell_type": "markdown",
     "metadata": {},
     "source": [
      "Integration\n",
      "=\n",
      "Example 1\n",
      "-\n",
      "Trapezoidal rule to calculate the integral of $x^4 - 2x + 1$ from $x$= 0 $x$=2"
     ]
    },
    {
     "cell_type": "code",
     "collapsed": false,
     "input": [
      "f = lambda x: x**4 - 2*x + 1   "
     ],
     "language": "python",
     "metadata": {},
     "outputs": [],
     "prompt_number": 1
    },
    {
     "cell_type": "code",
     "collapsed": false,
     "input": [
      "N = 10 \n",
      "a=0.0\n",
      "b=2.0\n",
      "h= (b-a)/N\n",
      "s = .5*f(a) + .5*f(b)\n",
      "for k in range(1, N):\n",
      "    s += f(a+k*h)\n",
      "print(h*s)\n"
     ],
     "language": "python",
     "metadata": {},
     "outputs": [
      {
       "output_type": "stream",
       "stream": "stdout",
       "text": [
        "4.50656\n"
       ]
      }
     ],
     "prompt_number": 5
    },
    {
     "cell_type": "markdown",
     "metadata": {},
     "source": [
      "Exercise 1: What are the results for $N$ = 100 and $N$ = 1000? "
     ]
    },
    {
     "cell_type": "code",
     "collapsed": false,
     "input": [
      "N = 100\n",
      "a=0.0\n",
      "b=2.0\n",
      "h= (b-a)/N\n",
      "s = .5*f(a) + .5*f(b)\n",
      "for k in range(1, N):\n",
      "    s += f(a+k*h)\n",
      "print(h*s)"
     ],
     "language": "python",
     "metadata": {},
     "outputs": [
      {
       "output_type": "stream",
       "stream": "stdout",
       "text": [
        "4.401066656\n"
       ]
      }
     ],
     "prompt_number": 9
    },
    {
     "cell_type": "code",
     "collapsed": false,
     "input": [
      "N = 1000\n",
      "a=0.0\n",
      "b=2.0\n",
      "h= (b-a)/N\n",
      "s = .5*f(a) + .5*f(b)\n",
      "for k in range(1, N):\n",
      "    s += f(a+k*h)\n",
      "print(h*s)\n"
     ],
     "language": "python",
     "metadata": {},
     "outputs": [
      {
       "output_type": "stream",
       "stream": "stdout",
       "text": [
        "4.40001066667\n"
       ]
      }
     ],
     "prompt_number": 10
    },
    {
     "cell_type": "markdown",
     "metadata": {},
     "source": [
      "Exercise 2:\n",
      "=\n",
      "    a) Write code to calc an approximate vale for the integral from example 1 using simpsons rule with 10 slices.\n",
      "    b) Run the code and compare your result to the known corect value of 4.4. What is the fractional error on the calc?\n",
      "    c) Modify the code to use a hundred slices instead, then a thousand. Note the improvement in teh result. How do the results compare wiht those for the trapezoidal rule with the same number of slices?\n",
      "  "
     ]
    },
    {
     "cell_type": "code",
     "collapsed": false,
     "input": [
      "f = lambda x: x**4 - 2*x + 1   "
     ],
     "language": "python",
     "metadata": {},
     "outputs": [],
     "prompt_number": 8
    },
    {
     "cell_type": "code",
     "collapsed": false,
     "input": [
      "#a)\n",
      "N = 10\n",
      "a=0.0\n",
      "b=2.0\n",
      "h= (b-a)/N\n",
      "r = 0\n",
      "d = 0\n",
      "s = f(a) + f(b)\n",
      "for k in range(1,N/2):\n",
      "    r += 2* f(a+2*k*h)\n",
      "for k in range(1, N/2 +1 ):\n",
      "    d += 4* f(a+(2*k-1)*h) \n",
      "v  = s + d + r\n",
      "print((1/3.)*h*v)\n"
     ],
     "language": "python",
     "metadata": {},
     "outputs": [
      {
       "output_type": "stream",
       "stream": "stdout",
       "text": [
        "4.40042666667\n"
       ]
      }
     ],
     "prompt_number": 20
    },
    {
     "cell_type": "code",
     "collapsed": false,
     "input": [
      "#b)\n",
      "w = 100 * (4.4 - (1/3.)*h*v)/ 4.4\n",
      "print w"
     ],
     "language": "python",
     "metadata": {},
     "outputs": [
      {
       "output_type": "stream",
       "stream": "stdout",
       "text": [
        "-0.00969696969697\n"
       ]
      }
     ],
     "prompt_number": 21
    },
    {
     "cell_type": "code",
     "collapsed": false,
     "input": [
      "#c)\n",
      "N = 100\n",
      "a=0.0\n",
      "b=2.0\n",
      "h= (b-a)/N\n",
      "r = 0\n",
      "d = 0\n",
      "s = f(a) + f(b)\n",
      "for k in range(1,N/2):\n",
      "    r += 2* f(a+2*k*h)\n",
      "for k in range(1, N/2 +1 ):\n",
      "    d += 4* f(a+(2*k-1)*h) \n",
      "v  = s + d + r\n",
      "print((1/3.)*h*v)\n"
     ],
     "language": "python",
     "metadata": {},
     "outputs": [
      {
       "output_type": "stream",
       "stream": "stdout",
       "text": [
        "4.40000004267\n"
       ]
      }
     ],
     "prompt_number": 23
    },
    {
     "cell_type": "code",
     "collapsed": false,
     "input": [
      "import scipy.integrate as integrate"
     ],
     "language": "python",
     "metadata": {},
     "outputs": [],
     "prompt_number": 27
    },
    {
     "cell_type": "markdown",
     "metadata": {},
     "source": [
      "Example 2: General integration(quad)\n",
      "="
     ]
    },
    {
     "cell_type": "code",
     "collapsed": false,
     "input": [
      "import scipy\n",
      "from scipy.special import jv\n",
      "result = integrate.quad(lambda x: scipy.special.jv(2.5,x), 0 , 4.5)\n",
      "print result"
     ],
     "language": "python",
     "metadata": {},
     "outputs": [
      {
       "output_type": "stream",
       "stream": "stdout",
       "text": [
        "(1.1178179380783249, 7.866317182537236e-09)\n"
       ]
      }
     ],
     "prompt_number": 30
    },
    {
     "cell_type": "code",
     "collapsed": false,
     "input": [
      "from scipy.special import fresnel\n",
      "I = sqrt(2/pi) * (18.0/27*sqrt(2)*cos(4.5)-4.0/27*sqrt(2)*sin(4.5) +\n",
      " sqrt(2*pi)*scipy.special.fresnel(3/sqrt(pi))[0])\n",
      "print I"
     ],
     "language": "python",
     "metadata": {},
     "outputs": [
      {
       "output_type": "stream",
       "stream": "stdout",
       "text": [
        "1.11781793809\n"
       ]
      }
     ],
     "prompt_number": 32
    },
    {
     "cell_type": "code",
     "collapsed": false,
     "input": [
      "print abs(result[0] - I)"
     ],
     "language": "python",
     "metadata": {},
     "outputs": [
      {
       "output_type": "stream",
       "stream": "stdout",
       "text": [
        "1.03761443881e-11\n"
       ]
      }
     ],
     "prompt_number": 33
    },
    {
     "cell_type": "markdown",
     "metadata": {},
     "source": [
      "Exercise 3\n",
      "=\n",
      "a) Read in the data and use trapz, and simps, and romb to approx distance traveled by the particle in the x direction as a function of time\n",
      "\n",
      "b) How different are the results? print the differences between the results for traps vs simps, and traps vs romb, and simps, vs romb\n",
      "\n",
      "c) Make a graph that shows on the same plot both the original velocity curve and the distances traveled as a function of time."
     ]
    },
    {
     "cell_type": "code",
     "collapsed": false,
     "input": [
      "#a)\n",
      "data = loadtxt(\"velocities.txt\",float)\n",
      "x = data[:,0]\n",
      "y = data[:,1]"
     ],
     "language": "python",
     "metadata": {},
     "outputs": [],
     "prompt_number": 54
    },
    {
     "cell_type": "code",
     "collapsed": false,
     "input": [
      "#Trapezoidal\n",
      "f = lambda x: y  \n",
      "N = 1000\n",
      "a=y[0]\n",
      "b=y[-1]\n",
      "h= (b-a)/N\n",
      "s = .5*f(a) + .5*f(b)\n",
      "for k in range(1, N):\n",
      "    s += f(a+k*h)\n",
      "t = h*s\n",
      "print(t)\n"
     ],
     "language": "python",
     "metadata": {},
     "outputs": [
      {
       "output_type": "stream",
       "stream": "stdout",
       "text": [
        "[ 0.          0.02343549  0.04644529  0.06892282  0.09076385  0.11187022\n",
        "  0.13214749  0.15150762  0.16986763  0.18715028  0.20328541  0.21820859\n",
        "  0.23186282  0.24419784  0.25517047  0.26474495  0.27289297  0.27959359\n",
        "  0.28483232  0.28860342  0.29090757  0.29175287  0.29115482  0.28913502\n",
        "  0.28572248  0.2809526   0.27486622  0.26751122  0.25893988  0.24921125\n",
        "  0.23838771  0.22653706  0.21373117  0.20004557  0.1855592   0.1703537\n",
        "  0.15451304  0.13812358  0.12127336  0.10405075  0.08654514  0.06884692\n",
        "  0.05104482  0.03322787  0.01548412 -0.00210075 -0.01944243 -0.03645895\n",
        " -0.05307137 -0.06920312 -0.08478135 -0.09973692 -0.11400471 -0.12752401\n",
        " -0.14023816 -0.15209521 -0.16304862 -0.17305654 -0.18208189 -0.19009431\n",
        " -0.1970668  -0.20297981 -0.20781782 -0.21157138 -0.21423645 -0.21581438\n",
        " -0.21631191 -0.21574085 -0.2141184  -0.21146581 -0.2078104  -0.20318287\n",
        " -0.19761931 -0.19115919 -0.18384602 -0.17572735 -0.16685311 -0.15727728\n",
        " -0.14705617 -0.13624848 -0.12491527 -0.1131186  -0.10092289 -0.08839291\n",
        " -0.07559545 -0.06259593 -0.0494615  -0.03625791 -0.02305129 -0.00990674\n",
        "  0.00311234  0.01594387  0.02852749  0.04080415  0.05271787  0.06421501\n",
        "  0.07524431  0.08575854  0.09571216  0.10506436  0.11377669]\n"
       ]
      }
     ],
     "prompt_number": 55
    },
    {
     "cell_type": "code",
     "collapsed": false,
     "input": [
      "#simpsons\n",
      "a=y[0]\n",
      "b=y[-1]\n",
      "h= (b-a)/N\n",
      "r = 0\n",
      "d = 0\n",
      "s = f(a) + f(b)\n",
      "for k in range(1,N/2):\n",
      "    r += 2* f(a+2*k*h)\n",
      "for k in range(1, N/2 +1 ):\n",
      "    d += 4* f(a+(2*k-1)*h) \n",
      "v  = s + d + r\n",
      "bloop = (1/3.)*h*v\n",
      "print(bloop)"
     ],
     "language": "python",
     "metadata": {},
     "outputs": [
      {
       "output_type": "stream",
       "stream": "stdout",
       "text": [
        "[ 0.          0.02343549  0.04644529  0.06892282  0.09076385  0.11187022\n",
        "  0.13214749  0.15150762  0.16986763  0.18715028  0.20328541  0.21820859\n",
        "  0.23186282  0.24419784  0.25517047  0.26474495  0.27289297  0.27959359\n",
        "  0.28483232  0.28860342  0.29090757  0.29175287  0.29115482  0.28913502\n",
        "  0.28572248  0.2809526   0.27486622  0.26751122  0.25893988  0.24921125\n",
        "  0.23838771  0.22653706  0.21373117  0.20004557  0.1855592   0.1703537\n",
        "  0.15451304  0.13812358  0.12127336  0.10405075  0.08654514  0.06884692\n",
        "  0.05104482  0.03322787  0.01548412 -0.00210075 -0.01944243 -0.03645895\n",
        " -0.05307137 -0.06920312 -0.08478135 -0.09973692 -0.11400471 -0.12752401\n",
        " -0.14023816 -0.15209521 -0.16304862 -0.17305654 -0.18208189 -0.19009431\n",
        " -0.1970668  -0.20297981 -0.20781782 -0.21157138 -0.21423645 -0.21581438\n",
        " -0.21631191 -0.21574085 -0.2141184  -0.21146581 -0.2078104  -0.20318287\n",
        " -0.19761931 -0.19115919 -0.18384602 -0.17572735 -0.16685311 -0.15727728\n",
        " -0.14705617 -0.13624848 -0.12491527 -0.1131186  -0.10092289 -0.08839291\n",
        " -0.07559545 -0.06259593 -0.0494615  -0.03625791 -0.02305129 -0.00990674\n",
        "  0.00311234  0.01594387  0.02852749  0.04080415  0.05271787  0.06421501\n",
        "  0.07524431  0.08575854  0.09571216  0.10506436  0.11377669]\n"
       ]
      }
     ],
     "prompt_number": 56
    },
    {
     "cell_type": "code",
     "collapsed": false,
     "input": [
      "#c\n",
      "plot(x, bloop,'r+',  x, t, 'g.', x, y) "
     ],
     "language": "python",
     "metadata": {},
     "outputs": [
      {
       "output_type": "pyout",
       "prompt_number": 57,
       "text": [
        "[<matplotlib.lines.Line2D at 0x810b6d8>,\n",
        " <matplotlib.lines.Line2D at 0x810b898>,\n",
        " <matplotlib.lines.Line2D at 0x810bd30>]"
       ]
      },
      {
       "output_type": "display_data",
       "png": "[encoded data removed]",
       "text": [
        "<matplotlib.figure.Figure at 0x80dff28>"
       ]
      }
     ],
     "prompt_number": 57
    },
    {
     "cell_type": "code",
     "collapsed": false,
     "input": [
      "#b) Prints the difference between simpsons and trapezoidal\n",
      "print (bloop -t)"
     ],
     "language": "python",
     "metadata": {},
     "outputs": [
      {
       "output_type": "stream",
       "stream": "stdout",
       "text": [
        "[  0.00000000e+00   3.60822483e-16   5.06539255e-16   7.49400542e-16\n",
        "   0.00000000e+00  -1.47104551e-15  -3.60822483e-16   1.27675648e-15\n",
        "  -1.11022302e-15  -4.30211422e-15   9.71445147e-16  -3.05311332e-15\n",
        "  -4.05231404e-15  -2.24820162e-15   2.49800181e-15  -6.55031585e-15\n",
        "  -5.55111512e-17   2.22044605e-15   2.22044605e-16   5.38458167e-15\n",
        "   1.11022302e-16  -5.16253706e-15   5.49560397e-15   5.44009282e-15\n",
        "  -5.27355937e-15  -6.60582700e-15  -7.21644966e-16  -4.44089210e-15\n",
        "   3.83026943e-15  -3.08086889e-15   3.30291350e-15  -1.94289029e-16\n",
        "  -3.10862447e-15  -3.91353616e-15   2.77555756e-17  -1.11022302e-15\n",
        "  -8.32667268e-17  -1.19348975e-15   1.38777878e-17   1.60982339e-15\n",
        "   4.71844785e-16   7.35522754e-16  -5.55111512e-17  -8.39606162e-16\n",
        "   1.94289029e-16   1.82145965e-17  -3.81639165e-17  -7.00828284e-16\n",
        "   1.52655666e-16  -4.16333634e-17   1.88737914e-15  -1.58206781e-15\n",
        "   4.16333634e-16  -3.33066907e-16  -2.22044605e-15   3.88578059e-15\n",
        "   3.05311332e-16   3.63598041e-15  -8.88178420e-16   7.21644966e-16\n",
        "  -1.02695630e-15   8.32667268e-17   3.19189120e-15   5.27355937e-16\n",
        "  -9.15933995e-16   0.00000000e+00   0.00000000e+00  -2.91433544e-15\n",
        "  -5.82867088e-16   3.33066907e-16  -2.77555756e-17   2.49800181e-16\n",
        "  -1.94289029e-16  -2.27595720e-15  -4.38538095e-15  -4.10782519e-15\n",
        "   9.15933995e-16   8.32667268e-17  -5.55111512e-17   3.33066907e-16\n",
        "   2.63677968e-15  -1.74860126e-15   5.27355937e-16   3.46944695e-16\n",
        "  -2.05391260e-15   0.00000000e+00   2.08166817e-17  -9.50628465e-16\n",
        "  -1.04083409e-17   3.46944695e-18   3.59955121e-17  -2.32452946e-16\n",
        "  -4.51028104e-16   0.00000000e+00  -8.04911693e-16   1.37390099e-15\n",
        "   1.38777878e-17   0.00000000e+00   1.73472348e-15  -2.08166817e-16\n",
        "  -1.36002321e-15]\n"
       ]
      }
     ],
     "prompt_number": 58
    },
    {
     "cell_type": "code",
     "collapsed": false,
     "input": [
      "#A)\n",
      "t = np.trapz(data)"
     ],
     "language": "python",
     "metadata": {},
     "outputs": [],
     "prompt_number": 64
    },
    {
     "cell_type": "code",
     "collapsed": false,
     "input": [
      "bloop = integrate.simps(data)"
     ],
     "language": "python",
     "metadata": {},
     "outputs": [],
     "prompt_number": 65
    },
    {
     "cell_type": "code",
     "collapsed": false,
     "input": [
      "#b)\n",
      "print t - bloop"
     ],
     "language": "python",
     "metadata": {},
     "outputs": [
      {
       "output_type": "stream",
       "stream": "stdout",
       "text": [
        "[ 0.  0.  0.  0.  0.  0.  0.  0.  0.  0.  0.  0.  0.  0.  0.  0.  0.  0.\n",
        "  0.  0.  0.  0.  0.  0.  0.  0.  0.  0.  0.  0.  0.  0.  0.  0.  0.  0.\n",
        "  0.  0.  0.  0.  0.  0.  0.  0.  0.  0.  0.  0.  0.  0.  0.  0.  0.  0.\n",
        "  0.  0.  0.  0.  0.  0.  0.  0.  0.  0.  0.  0.  0.  0.  0.  0.  0.  0.\n",
        "  0.  0.  0.  0.  0.  0.  0.  0.  0.  0.  0.  0.  0.  0.  0.  0.  0.  0.\n",
        "  0.  0.  0.  0.  0.  0.  0.  0.  0.  0.  0.]\n"
       ]
      }
     ],
     "prompt_number": 67
    },
    {
     "cell_type": "code",
     "collapsed": false,
     "input": [
      "#c\n",
      "plot(x, bloop,'r+',  x, t, 'g.', x, y) "
     ],
     "language": "python",
     "metadata": {},
     "outputs": [
      {
       "output_type": "pyout",
       "prompt_number": 68,
       "text": [
        "[<matplotlib.lines.Line2D at 0x8829ef0>,\n",
        " <matplotlib.lines.Line2D at 0x882e0f0>,\n",
        " <matplotlib.lines.Line2D at 0x882e588>]"
       ]
      },
      {
       "output_type": "display_data",
       "png": "[encoded data removed]",
       "text": [
        "<matplotlib.figure.Figure at 0x880def0>"
       ]
      }
     ],
     "prompt_number": 68
    },
    {
     "cell_type": "code",
     "collapsed": false,
     "input": [],
     "language": "python",
     "metadata": {},
     "outputs": []
    }
   ],
   "metadata": {}
  }
 ]
}